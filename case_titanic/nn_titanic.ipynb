{
 "cells": [
  {
   "attachments": {},
   "cell_type": "markdown",
   "metadata": {},
   "source": [
    "# Titanic with TensorFlow"
   ]
  },
  {
   "cell_type": "code",
   "execution_count": 13,
   "metadata": {},
   "outputs": [],
   "source": [
    "# General\n",
    "import pandas as pd\n",
    "import numpy as np\n",
    "\n",
    "# Visualization\n",
    "import matplotlib.pyplot as plt\n",
    "import seaborn as sns\n",
    "%matplotlib inline\n",
    "\n",
    "# Modeling\n",
    "import tensorflow as tf\n",
    "from sklearn.model_selection import train_test_split\n",
    "from fast_ml.model_development import train_valid_test_split\n",
    "from sklearn.preprocessing import StandardScaler\n",
    "\n",
    "from tensorflow.keras.optimizers import Adam\n",
    "from tensorflow.keras.callbacks import EarlyStopping\n",
    "from tensorflow.keras.callbacks import ModelCheckpoint\n",
    "\n",
    "# Model Evaluation\n",
    "from sklearn.metrics import confusion_matrix, classification_report\n"
   ]
  },
  {
   "cell_type": "code",
   "execution_count": 14,
   "metadata": {},
   "outputs": [],
   "source": [
    "# Random Seed\n",
    "random_seed = 42 # set random seed for reproducibility\n",
    "tf.random.set_seed(random_seed) # set random seed for TensorFlow\n",
    "np.random.seed(random_seed) # set random seed for NumPy"
   ]
  },
  {
   "attachments": {},
   "cell_type": "markdown",
   "metadata": {},
   "source": [
    "## Data"
   ]
  },
  {
   "cell_type": "code",
   "execution_count": 15,
   "metadata": {},
   "outputs": [
    {
     "data": {
      "text/html": [
       "<div>\n",
       "<style scoped>\n",
       "    .dataframe tbody tr th:only-of-type {\n",
       "        vertical-align: middle;\n",
       "    }\n",
       "\n",
       "    .dataframe tbody tr th {\n",
       "        vertical-align: top;\n",
       "    }\n",
       "\n",
       "    .dataframe thead th {\n",
       "        text-align: right;\n",
       "    }\n",
       "</style>\n",
       "<table border=\"1\" class=\"dataframe\">\n",
       "  <thead>\n",
       "    <tr style=\"text-align: right;\">\n",
       "      <th></th>\n",
       "      <th>Survived</th>\n",
       "      <th>Pclass</th>\n",
       "      <th>Age</th>\n",
       "      <th>SibSp</th>\n",
       "      <th>Parch</th>\n",
       "      <th>Fare</th>\n",
       "      <th>Sex_female</th>\n",
       "      <th>Sex_male</th>\n",
       "      <th>Embarked_C</th>\n",
       "      <th>Embarked_Q</th>\n",
       "      <th>Embarked_S</th>\n",
       "    </tr>\n",
       "  </thead>\n",
       "  <tbody>\n",
       "    <tr>\n",
       "      <th>0</th>\n",
       "      <td>0.0</td>\n",
       "      <td>3.0</td>\n",
       "      <td>34.500000</td>\n",
       "      <td>0.0</td>\n",
       "      <td>0.0</td>\n",
       "      <td>7.8292</td>\n",
       "      <td>0.0</td>\n",
       "      <td>1.0</td>\n",
       "      <td>0.0</td>\n",
       "      <td>1.0</td>\n",
       "      <td>0.0</td>\n",
       "    </tr>\n",
       "    <tr>\n",
       "      <th>1</th>\n",
       "      <td>1.0</td>\n",
       "      <td>3.0</td>\n",
       "      <td>47.000000</td>\n",
       "      <td>1.0</td>\n",
       "      <td>0.0</td>\n",
       "      <td>7.0000</td>\n",
       "      <td>1.0</td>\n",
       "      <td>0.0</td>\n",
       "      <td>0.0</td>\n",
       "      <td>0.0</td>\n",
       "      <td>1.0</td>\n",
       "    </tr>\n",
       "    <tr>\n",
       "      <th>2</th>\n",
       "      <td>0.0</td>\n",
       "      <td>2.0</td>\n",
       "      <td>62.000000</td>\n",
       "      <td>0.0</td>\n",
       "      <td>0.0</td>\n",
       "      <td>9.6875</td>\n",
       "      <td>0.0</td>\n",
       "      <td>1.0</td>\n",
       "      <td>0.0</td>\n",
       "      <td>1.0</td>\n",
       "      <td>0.0</td>\n",
       "    </tr>\n",
       "    <tr>\n",
       "      <th>3</th>\n",
       "      <td>0.0</td>\n",
       "      <td>3.0</td>\n",
       "      <td>27.000000</td>\n",
       "      <td>0.0</td>\n",
       "      <td>0.0</td>\n",
       "      <td>8.6625</td>\n",
       "      <td>0.0</td>\n",
       "      <td>1.0</td>\n",
       "      <td>0.0</td>\n",
       "      <td>0.0</td>\n",
       "      <td>1.0</td>\n",
       "    </tr>\n",
       "    <tr>\n",
       "      <th>4</th>\n",
       "      <td>1.0</td>\n",
       "      <td>3.0</td>\n",
       "      <td>22.000000</td>\n",
       "      <td>1.0</td>\n",
       "      <td>1.0</td>\n",
       "      <td>12.2875</td>\n",
       "      <td>1.0</td>\n",
       "      <td>0.0</td>\n",
       "      <td>0.0</td>\n",
       "      <td>0.0</td>\n",
       "      <td>1.0</td>\n",
       "    </tr>\n",
       "    <tr>\n",
       "      <th>...</th>\n",
       "      <td>...</td>\n",
       "      <td>...</td>\n",
       "      <td>...</td>\n",
       "      <td>...</td>\n",
       "      <td>...</td>\n",
       "      <td>...</td>\n",
       "      <td>...</td>\n",
       "      <td>...</td>\n",
       "      <td>...</td>\n",
       "      <td>...</td>\n",
       "      <td>...</td>\n",
       "    </tr>\n",
       "    <tr>\n",
       "      <th>413</th>\n",
       "      <td>0.0</td>\n",
       "      <td>3.0</td>\n",
       "      <td>24.467036</td>\n",
       "      <td>0.0</td>\n",
       "      <td>0.0</td>\n",
       "      <td>8.0500</td>\n",
       "      <td>0.0</td>\n",
       "      <td>1.0</td>\n",
       "      <td>0.0</td>\n",
       "      <td>0.0</td>\n",
       "      <td>1.0</td>\n",
       "    </tr>\n",
       "    <tr>\n",
       "      <th>414</th>\n",
       "      <td>1.0</td>\n",
       "      <td>1.0</td>\n",
       "      <td>39.000000</td>\n",
       "      <td>0.0</td>\n",
       "      <td>0.0</td>\n",
       "      <td>108.9000</td>\n",
       "      <td>1.0</td>\n",
       "      <td>0.0</td>\n",
       "      <td>1.0</td>\n",
       "      <td>0.0</td>\n",
       "      <td>0.0</td>\n",
       "    </tr>\n",
       "    <tr>\n",
       "      <th>415</th>\n",
       "      <td>0.0</td>\n",
       "      <td>3.0</td>\n",
       "      <td>38.500000</td>\n",
       "      <td>0.0</td>\n",
       "      <td>0.0</td>\n",
       "      <td>7.2500</td>\n",
       "      <td>0.0</td>\n",
       "      <td>1.0</td>\n",
       "      <td>0.0</td>\n",
       "      <td>0.0</td>\n",
       "      <td>1.0</td>\n",
       "    </tr>\n",
       "    <tr>\n",
       "      <th>416</th>\n",
       "      <td>0.0</td>\n",
       "      <td>3.0</td>\n",
       "      <td>24.467036</td>\n",
       "      <td>0.0</td>\n",
       "      <td>0.0</td>\n",
       "      <td>8.0500</td>\n",
       "      <td>0.0</td>\n",
       "      <td>1.0</td>\n",
       "      <td>0.0</td>\n",
       "      <td>0.0</td>\n",
       "      <td>1.0</td>\n",
       "    </tr>\n",
       "    <tr>\n",
       "      <th>417</th>\n",
       "      <td>0.0</td>\n",
       "      <td>3.0</td>\n",
       "      <td>21.974387</td>\n",
       "      <td>1.0</td>\n",
       "      <td>1.0</td>\n",
       "      <td>22.3583</td>\n",
       "      <td>0.0</td>\n",
       "      <td>1.0</td>\n",
       "      <td>1.0</td>\n",
       "      <td>0.0</td>\n",
       "      <td>0.0</td>\n",
       "    </tr>\n",
       "  </tbody>\n",
       "</table>\n",
       "<p>418 rows × 11 columns</p>\n",
       "</div>"
      ],
      "text/plain": [
       "     Survived  Pclass        Age  SibSp  Parch      Fare  Sex_female   \n",
       "0         0.0     3.0  34.500000    0.0    0.0    7.8292         0.0  \\\n",
       "1         1.0     3.0  47.000000    1.0    0.0    7.0000         1.0   \n",
       "2         0.0     2.0  62.000000    0.0    0.0    9.6875         0.0   \n",
       "3         0.0     3.0  27.000000    0.0    0.0    8.6625         0.0   \n",
       "4         1.0     3.0  22.000000    1.0    1.0   12.2875         1.0   \n",
       "..        ...     ...        ...    ...    ...       ...         ...   \n",
       "413       0.0     3.0  24.467036    0.0    0.0    8.0500         0.0   \n",
       "414       1.0     1.0  39.000000    0.0    0.0  108.9000         1.0   \n",
       "415       0.0     3.0  38.500000    0.0    0.0    7.2500         0.0   \n",
       "416       0.0     3.0  24.467036    0.0    0.0    8.0500         0.0   \n",
       "417       0.0     3.0  21.974387    1.0    1.0   22.3583         0.0   \n",
       "\n",
       "     Sex_male  Embarked_C  Embarked_Q  Embarked_S  \n",
       "0         1.0         0.0         1.0         0.0  \n",
       "1         0.0         0.0         0.0         1.0  \n",
       "2         1.0         0.0         1.0         0.0  \n",
       "3         1.0         0.0         0.0         1.0  \n",
       "4         0.0         0.0         0.0         1.0  \n",
       "..        ...         ...         ...         ...  \n",
       "413       1.0         0.0         0.0         1.0  \n",
       "414       0.0         1.0         0.0         0.0  \n",
       "415       1.0         0.0         0.0         1.0  \n",
       "416       1.0         0.0         0.0         1.0  \n",
       "417       1.0         1.0         0.0         0.0  \n",
       "\n",
       "[418 rows x 11 columns]"
      ]
     },
     "execution_count": 15,
     "metadata": {},
     "output_type": "execute_result"
    }
   ],
   "source": [
    "df = pd.read_csv('mice_df_encoded_titanic.csv')\n",
    "df"
   ]
  },
  {
   "cell_type": "code",
   "execution_count": 16,
   "metadata": {},
   "outputs": [],
   "source": [
    "target_column='Survived'"
   ]
  },
  {
   "cell_type": "code",
   "execution_count": 17,
   "metadata": {},
   "outputs": [],
   "source": [
    "df[target_column] = df[target_column].astype(int)"
   ]
  },
  {
   "cell_type": "code",
   "execution_count": 18,
   "metadata": {},
   "outputs": [],
   "source": [
    "y_train = np.array(df[target_column]) # value dari label\n",
    "df = df.drop(target_column, axis=1) # drop target\n",
    "feature_list = list(df.columns) # list column\n",
    "X_train = np.array(df) # df dalam bentuk numpy array"
   ]
  },
  {
   "cell_type": "code",
   "execution_count": 19,
   "metadata": {},
   "outputs": [
    {
     "name": "stdout",
     "output_type": "stream",
     "text": [
      "(334, 10) (334,)\n",
      "(84, 10) (84,)\n"
     ]
    }
   ],
   "source": [
    "# X_train, y_train, X_valid, y_valid, X_test, y_test = train_valid_test_split(df, target=target_column, train_size=0.8, valid_size=0.1, test_size=0.1)\n",
    "X_train, X_test, y_train, y_test = train_test_split(X_train, y_train, test_size=0.2)\n",
    "\n",
    "print(X_train.shape, y_train.shape)\n",
    "# print(X_valid.shape, y_valid.shape)\n",
    "print(X_test.shape, y_test.shape)"
   ]
  },
  {
   "cell_type": "code",
   "execution_count": 99,
   "metadata": {},
   "outputs": [],
   "source": [
    "scaler = StandardScaler()\n",
    "X_train = scaler.fit_transform(X_train)\n",
    "# X_valid = scaler.fit_transform(X_valid)\n",
    "X_test = scaler.fit_transform(X_test)"
   ]
  },
  {
   "attachments": {},
   "cell_type": "markdown",
   "metadata": {},
   "source": [
    "## Modeling"
   ]
  },
  {
   "cell_type": "code",
   "execution_count": 100,
   "metadata": {},
   "outputs": [],
   "source": [
    "LEARNING_RATE = 2e-5\n",
    "BATCH_SIZE = 16\n",
    "EPOCHS = 50"
   ]
  },
  {
   "cell_type": "code",
   "execution_count": 1,
   "metadata": {},
   "outputs": [
    {
     "ename": "NameError",
     "evalue": "name 'tf' is not defined",
     "output_type": "error",
     "traceback": [
      "\u001b[0;31m---------------------------------------------------------------------------\u001b[0m",
      "\u001b[0;31mNameError\u001b[0m                                 Traceback (most recent call last)",
      "Cell \u001b[0;32mIn[1], line 1\u001b[0m\n\u001b[0;32m----> 1\u001b[0m tf\u001b[39m.\u001b[39mkeras\u001b[39m.\u001b[39mbackend\u001b[39m.\u001b[39mclear_session() \u001b[39m# clean session\u001b[39;00m\n\u001b[1;32m      2\u001b[0m model \u001b[39m=\u001b[39m tf\u001b[39m.\u001b[39mkeras\u001b[39m.\u001b[39mmodels\u001b[39m.\u001b[39mSequential([\n\u001b[1;32m      3\u001b[0m     tf\u001b[39m.\u001b[39mkeras\u001b[39m.\u001b[39mlayers\u001b[39m.\u001b[39mInput(shape\u001b[39m=\u001b[39m(X_train\u001b[39m.\u001b[39mshape[\u001b[39m1\u001b[39m],)), \u001b[39m# input layer\u001b[39;00m\n\u001b[1;32m      4\u001b[0m     tf\u001b[39m.\u001b[39mkeras\u001b[39m.\u001b[39mlayers\u001b[39m.\u001b[39mDense(\u001b[39m64\u001b[39m, activation\u001b[39m=\u001b[39m\u001b[39m'\u001b[39m\u001b[39mrelu\u001b[39m\u001b[39m'\u001b[39m),\n\u001b[0;32m   (...)\u001b[0m\n\u001b[1;32m      7\u001b[0m     tf\u001b[39m.\u001b[39mkeras\u001b[39m.\u001b[39mlayers\u001b[39m.\u001b[39mDense(\u001b[39m1\u001b[39m, activation \u001b[39m=\u001b[39m\u001b[39m'\u001b[39m\u001b[39msigmoid\u001b[39m\u001b[39m'\u001b[39m)\n\u001b[1;32m      8\u001b[0m ])\n\u001b[1;32m     10\u001b[0m model\u001b[39m.\u001b[39mcompile(optimizer\u001b[39m=\u001b[39mAdam(learning_rate\u001b[39m=\u001b[39mLEARNING_RATE),\n\u001b[1;32m     11\u001b[0m             \u001b[39m#   loss=tf.keras.losses.BinaryCrossentropy(from_logits=True),\u001b[39;00m\n\u001b[1;32m     12\u001b[0m               loss\u001b[39m=\u001b[39mtf\u001b[39m.\u001b[39mkeras\u001b[39m.\u001b[39mlosses\u001b[39m.\u001b[39mBinaryCrossentropy(),\n\u001b[1;32m     13\u001b[0m               metrics\u001b[39m=\u001b[39m[\u001b[39m'\u001b[39m\u001b[39maccuracy\u001b[39m\u001b[39m'\u001b[39m])\n",
      "\u001b[0;31mNameError\u001b[0m: name 'tf' is not defined"
     ]
    }
   ],
   "source": [
    "tf.keras.backend.clear_session() # clean session\n",
    "model = tf.keras.models.Sequential([\n",
    "    tf.keras.layers.Input(shape=(X_train.shape[1],)), # input layer\n",
    "    tf.keras.layers.Dense(64, activation='relu'),\n",
    "    tf.keras.layers.Dense(32, activation='relu'),\n",
    "    tf.keras.layers.Dropout(0.2),\n",
    "    tf.keras.layers.Dense(1, activation ='sigmoid')\n",
    "])\n",
    "\n",
    "model.compile(optimizer=Adam(learning_rate=LEARNING_RATE),\n",
    "            #   loss=tf.keras.losses.BinaryCrossentropy(from_logits=True),\n",
    "              loss=tf.keras.losses.BinaryCrossentropy(),\n",
    "              metrics=['accuracy'])\n",
    "\n",
    "model.summary()"
   ]
  },
  {
   "cell_type": "code",
   "execution_count": 102,
   "metadata": {},
   "outputs": [
    {
     "name": "stdout",
     "output_type": "stream",
     "text": [
      "Epoch 1/50\n",
      "35/35 [==============================] - 3s 27ms/step - loss: 0.6932 - accuracy: 0.6494 - val_loss: 0.6930 - val_accuracy: 0.7143\n",
      "Epoch 2/50\n",
      "35/35 [==============================] - 0s 7ms/step - loss: 0.6930 - accuracy: 0.6494 - val_loss: 0.6929 - val_accuracy: 0.7143\n",
      "Epoch 3/50\n",
      "35/35 [==============================] - 0s 7ms/step - loss: 0.6929 - accuracy: 0.6494 - val_loss: 0.6928 - val_accuracy: 0.7143\n",
      "Epoch 4/50\n",
      "35/35 [==============================] - 0s 8ms/step - loss: 0.6929 - accuracy: 0.6494 - val_loss: 0.6927 - val_accuracy: 0.7143\n",
      "Epoch 5/50\n",
      "35/35 [==============================] - 0s 7ms/step - loss: 0.6928 - accuracy: 0.6494 - val_loss: 0.6925 - val_accuracy: 0.7143\n",
      "Epoch 6/50\n",
      "35/35 [==============================] - 1s 15ms/step - loss: 0.6923 - accuracy: 0.6494 - val_loss: 0.6909 - val_accuracy: 0.7143\n",
      "Epoch 7/50\n",
      "35/35 [==============================] - 0s 8ms/step - loss: 0.6898 - accuracy: 0.6494 - val_loss: 0.6881 - val_accuracy: 0.7143\n",
      "Epoch 8/50\n",
      "35/35 [==============================] - 0s 7ms/step - loss: 0.6869 - accuracy: 0.6494 - val_loss: 0.6847 - val_accuracy: 0.7143\n",
      "Epoch 9/50\n",
      "35/35 [==============================] - 0s 7ms/step - loss: 0.6834 - accuracy: 0.6494 - val_loss: 0.6808 - val_accuracy: 0.7143\n",
      "Epoch 10/50\n",
      "35/35 [==============================] - 0s 7ms/step - loss: 0.6790 - accuracy: 0.6494 - val_loss: 0.6756 - val_accuracy: 0.7143\n",
      "Epoch 11/50\n",
      "35/35 [==============================] - 0s 7ms/step - loss: 0.6732 - accuracy: 0.6494 - val_loss: 0.6689 - val_accuracy: 0.7143\n",
      "Epoch 12/50\n",
      "35/35 [==============================] - 0s 7ms/step - loss: 0.6653 - accuracy: 0.6494 - val_loss: 0.6599 - val_accuracy: 0.7143\n",
      "Epoch 13/50\n",
      "35/35 [==============================] - 0s 8ms/step - loss: 0.6549 - accuracy: 0.6494 - val_loss: 0.6474 - val_accuracy: 0.7143\n",
      "Epoch 14/50\n",
      "35/35 [==============================] - 0s 6ms/step - loss: 0.6409 - accuracy: 0.6494 - val_loss: 0.6316 - val_accuracy: 0.7143\n",
      "Epoch 15/50\n",
      "35/35 [==============================] - 0s 9ms/step - loss: 0.6228 - accuracy: 0.6494 - val_loss: 0.6102 - val_accuracy: 0.7143\n",
      "Epoch 16/50\n",
      "35/35 [==============================] - 0s 9ms/step - loss: 0.5992 - accuracy: 0.6494 - val_loss: 0.5837 - val_accuracy: 0.7143\n",
      "Epoch 17/50\n",
      "35/35 [==============================] - 0s 7ms/step - loss: 0.5701 - accuracy: 0.6494 - val_loss: 0.5510 - val_accuracy: 0.7143\n",
      "Epoch 18/50\n",
      "35/35 [==============================] - 0s 7ms/step - loss: 0.5351 - accuracy: 0.6494 - val_loss: 0.5100 - val_accuracy: 0.7143\n",
      "Epoch 19/50\n",
      "35/35 [==============================] - 0s 7ms/step - loss: 0.4910 - accuracy: 0.6494 - val_loss: 0.4591 - val_accuracy: 0.7143\n",
      "Epoch 20/50\n",
      "35/35 [==============================] - 0s 7ms/step - loss: 0.4442 - accuracy: 0.6494 - val_loss: 0.4105 - val_accuracy: 0.7143\n",
      "Epoch 21/50\n",
      "35/35 [==============================] - 0s 7ms/step - loss: 0.4021 - accuracy: 0.6494 - val_loss: 0.3663 - val_accuracy: 0.7143\n",
      "Epoch 22/50\n",
      "35/35 [==============================] - 0s 7ms/step - loss: 0.3671 - accuracy: 0.6494 - val_loss: 0.3305 - val_accuracy: 0.7143\n",
      "Epoch 23/50\n",
      "35/35 [==============================] - 0s 8ms/step - loss: 0.3411 - accuracy: 0.6494 - val_loss: 0.3042 - val_accuracy: 0.7143\n",
      "Epoch 24/50\n",
      "35/35 [==============================] - 0s 7ms/step - loss: 0.3231 - accuracy: 0.6494 - val_loss: 0.2833 - val_accuracy: 0.7143\n",
      "Epoch 25/50\n",
      "35/35 [==============================] - 0s 7ms/step - loss: 0.3103 - accuracy: 0.6494 - val_loss: 0.2688 - val_accuracy: 0.7143\n",
      "Epoch 26/50\n",
      "35/35 [==============================] - 0s 9ms/step - loss: 0.3017 - accuracy: 0.6494 - val_loss: 0.2579 - val_accuracy: 0.7143\n",
      "Epoch 27/50\n",
      "35/35 [==============================] - 0s 7ms/step - loss: 0.2952 - accuracy: 0.6494 - val_loss: 0.2497 - val_accuracy: 0.7143\n",
      "Epoch 28/50\n",
      "35/35 [==============================] - 0s 6ms/step - loss: 0.2907 - accuracy: 0.6494 - val_loss: 0.2437 - val_accuracy: 0.7143\n",
      "Epoch 29/50\n",
      "35/35 [==============================] - 0s 7ms/step - loss: 0.2872 - accuracy: 0.6494 - val_loss: 0.2391 - val_accuracy: 0.7143\n",
      "Epoch 30/50\n",
      "35/35 [==============================] - 0s 7ms/step - loss: 0.2846 - accuracy: 0.6494 - val_loss: 0.2355 - val_accuracy: 0.7143\n",
      "Epoch 31/50\n",
      "35/35 [==============================] - 0s 8ms/step - loss: 0.2825 - accuracy: 0.6494 - val_loss: 0.2338 - val_accuracy: 0.7143\n",
      "Epoch 32/50\n",
      "35/35 [==============================] - 0s 7ms/step - loss: 0.2808 - accuracy: 0.6494 - val_loss: 0.2308 - val_accuracy: 0.7143\n",
      "Epoch 33/50\n",
      "35/35 [==============================] - 0s 6ms/step - loss: 0.2795 - accuracy: 0.6494 - val_loss: 0.2290 - val_accuracy: 0.7143\n",
      "Epoch 34/50\n",
      "35/35 [==============================] - 0s 7ms/step - loss: 0.2782 - accuracy: 0.6494 - val_loss: 0.2267 - val_accuracy: 0.7143\n",
      "Epoch 35/50\n",
      "35/35 [==============================] - 0s 6ms/step - loss: 0.2773 - accuracy: 0.6494 - val_loss: 0.2251 - val_accuracy: 0.7143\n",
      "Epoch 36/50\n",
      "35/35 [==============================] - 1s 16ms/step - loss: 0.2765 - accuracy: 0.7996 - val_loss: 0.2244 - val_accuracy: 1.0000\n",
      "Epoch 37/50\n",
      "35/35 [==============================] - 0s 8ms/step - loss: 0.2758 - accuracy: 0.9696 - val_loss: 0.2229 - val_accuracy: 1.0000\n",
      "Epoch 38/50\n",
      "35/35 [==============================] - 0s 8ms/step - loss: 0.2752 - accuracy: 0.9696 - val_loss: 0.2211 - val_accuracy: 1.0000\n",
      "Epoch 39/50\n",
      "35/35 [==============================] - 0s 7ms/step - loss: 0.2745 - accuracy: 0.9696 - val_loss: 0.2211 - val_accuracy: 1.0000\n",
      "Epoch 40/50\n",
      "35/35 [==============================] - 0s 7ms/step - loss: 0.2738 - accuracy: 0.9714 - val_loss: 0.2198 - val_accuracy: 1.0000\n",
      "Epoch 41/50\n",
      "35/35 [==============================] - 0s 7ms/step - loss: 0.2735 - accuracy: 0.9696 - val_loss: 0.2184 - val_accuracy: 1.0000\n",
      "Epoch 42/50\n",
      "35/35 [==============================] - 0s 6ms/step - loss: 0.2728 - accuracy: 0.9714 - val_loss: 0.2188 - val_accuracy: 1.0000\n",
      "Epoch 43/50\n",
      "35/35 [==============================] - 0s 7ms/step - loss: 0.2724 - accuracy: 0.9696 - val_loss: 0.2173 - val_accuracy: 1.0000\n",
      "Epoch 44/50\n",
      "35/35 [==============================] - 0s 7ms/step - loss: 0.2720 - accuracy: 0.9714 - val_loss: 0.2171 - val_accuracy: 1.0000\n",
      "Epoch 45/50\n",
      "35/35 [==============================] - 1s 15ms/step - loss: 0.2715 - accuracy: 0.9714 - val_loss: 0.2161 - val_accuracy: 1.0000\n",
      "Epoch 46/50\n",
      "35/35 [==============================] - 0s 10ms/step - loss: 0.2711 - accuracy: 0.9714 - val_loss: 0.2160 - val_accuracy: 1.0000\n",
      "Epoch 47/50\n",
      "35/35 [==============================] - 0s 7ms/step - loss: 0.2707 - accuracy: 0.9696 - val_loss: 0.2146 - val_accuracy: 1.0000\n",
      "Epoch 48/50\n",
      "35/35 [==============================] - 0s 6ms/step - loss: 0.2703 - accuracy: 0.9714 - val_loss: 0.2152 - val_accuracy: 1.0000\n",
      "Epoch 49/50\n",
      "35/35 [==============================] - 0s 5ms/step - loss: 0.2698 - accuracy: 0.9714 - val_loss: 0.2149 - val_accuracy: 1.0000\n",
      "Epoch 50/50\n",
      "35/35 [==============================] - 0s 7ms/step - loss: 0.2695 - accuracy: 0.9714 - val_loss: 0.2146 - val_accuracy: 1.0000\n"
     ]
    }
   ],
   "source": [
    "history = model.fit(X_train,\n",
    "                    y_train,\n",
    "                    validation_data=(X_valid,y_valid),\n",
    "                    epochs=EPOCHS,\n",
    "                    callbacks=[\n",
    "                        EarlyStopping(patience=5, restore_best_weights=True),\n",
    "                        ModelCheckpoint(\"model/breast_neural.h5\", save_best_only=True)\n",
    "                    ],\n",
    "                    batch_size=BATCH_SIZE\n",
    "                    )"
   ]
  },
  {
   "attachments": {},
   "cell_type": "markdown",
   "metadata": {},
   "source": [
    "## Model Evaluation"
   ]
  },
  {
   "cell_type": "code",
   "execution_count": 103,
   "metadata": {},
   "outputs": [
    {
     "name": "stdout",
     "output_type": "stream",
     "text": [
      "3/3 [==============================] - 0s 5ms/step - loss: 0.2847 - accuracy: 0.9429\n",
      "Test Loss is 0.2846809923648834\n",
      "Test Accuracy is 0.9428571462631226\n"
     ]
    }
   ],
   "source": [
    "test_loss, test_acc = model.evaluate(X_test, y_test)\n",
    "\n",
    "print(f'Test Loss is {test_loss}')\n",
    "print(f'Test Accuracy is {test_acc}')"
   ]
  },
  {
   "cell_type": "code",
   "execution_count": 104,
   "metadata": {},
   "outputs": [
    {
     "data": {
      "image/png": "[encoded data removed]",
      "text/plain": [
       "<Figure size 2000x500 with 2 Axes>"
      ]
     },
     "metadata": {},
     "output_type": "display_data"
    }
   ],
   "source": [
    "# Collect the history of the training run\n",
    "history = pd.DataFrame(history.history)\n",
    "\n",
    "# Create a figure to display the model's performance\n",
    "plt.figure(figsize=(20, 5))\n",
    "\n",
    "# Plot the loss curve in the first subplot\n",
    "plt.subplot(1, 2, 1)\n",
    "plt.title(\"Model - Loss Curve\")\n",
    "plt.plot(history['loss'], label=\"Training Loss\")\n",
    "plt.plot(history['val_loss'], label=\"Validation Loss\")\n",
    "\n",
    "# Horizontal line to show the testing performance\n",
    "plt.axhline(y=test_loss, label=\"Test Loss\", linestyle='--', color='green')\n",
    "\n",
    "# Set the x- and y-labels, and the x- and y-limits\n",
    "plt.xlabel(\"Epochs\")\n",
    "plt.ylabel(\"Cross Entropy Loss\")\n",
    "plt.ylim([0, 0.4])\n",
    "\n",
    "# Show the legend and grid\n",
    "plt.legend()\n",
    "plt.grid()\n",
    "\n",
    "# Plot the accuracy curve in the second subplot\n",
    "plt.subplot(1, 2, 2)\n",
    "plt.title(\"Model - Accuracy Curve\")\n",
    "plt.plot(history['accuracy'], label=\"Training Accuracy\")\n",
    "plt.plot(history['val_accuracy'], label=\"Validation Accuracy\")\n",
    "\n",
    "# Horizontal line to show the testing performance\n",
    "plt.axhline(y=test_acc, label=\"Test Accuracy\", linestyle='--', color='green')\n",
    "\n",
    "# Set the x- and y-labels, and the x- and y-limits\n",
    "plt.xlabel(\"Epochs\")\n",
    "plt.ylabel(\"Accuracy\")\n",
    "plt.ylim([0.85, 1])\n",
    "\n",
    "# Show the legend and grid\n",
    "plt.legend()\n",
    "plt.grid()\n",
    "\n",
    "# Display the plot\n",
    "plt.show()"
   ]
  },
  {
   "cell_type": "code",
   "execution_count": 105,
   "metadata": {},
   "outputs": [
    {
     "name": "stdout",
     "output_type": "stream",
     "text": [
      "3/3 [==============================] - 0s 2ms/step\n"
     ]
    }
   ],
   "source": [
    "predict=model.predict(X_test)\n",
    "\n",
    "y_pred=[]\n",
    "for i in range(len(predict)):\n",
    "    y_pred.append(0 if predict[i] < 0.5 else 1)"
   ]
  },
  {
   "cell_type": "code",
   "execution_count": 106,
   "metadata": {},
   "outputs": [
    {
     "name": "stdout",
     "output_type": "stream",
     "text": [
      "              precision    recall  f1-score   support\n",
      "\n",
      "           0       0.96      0.96      0.96        45\n",
      "           1       0.92      0.92      0.92        25\n",
      "\n",
      "    accuracy                           0.94        70\n",
      "   macro avg       0.94      0.94      0.94        70\n",
      "weighted avg       0.94      0.94      0.94        70\n",
      "\n"
     ]
    }
   ],
   "source": [
    "cr = classification_report(y_test, y_pred)\n",
    "print(cr)"
   ]
  },
  {
   "cell_type": "code",
   "execution_count": 107,
   "metadata": {},
   "outputs": [
    {
     "name": "stdout",
     "output_type": "stream",
     "text": [
      "3/3 [==============================] - 0s 2ms/step\n"
     ]
    },
    {
     "data": {
      "text/plain": [
       "Text(0.5, 36.72222222222221, 'Predicted label')"
      ]
     },
     "execution_count": 107,
     "metadata": {},
     "output_type": "execute_result"
    },
    {
     "data": {
      "image/png": "[encoded data removed]",
      "text/plain": [
       "<Figure size 1500x600 with 2 Axes>"
      ]
     },
     "metadata": {},
     "output_type": "display_data"
    }
   ],
   "source": [
    "p_test = model.predict(X_test).argmax(axis=1)\n",
    "cm = tf.math.confusion_matrix(y_test, y_pred)\n",
    "\n",
    "f, ax = plt.subplots(figsize=(15, 6))\n",
    "sns.heatmap(cm, annot=True, cmap='Blues', square=True, linewidths=0.01, linecolor='grey')\n",
    "plt.title('Confustion matrix')\n",
    "plt.ylabel('True label')\n",
    "plt.xlabel('Predicted label')"
   ]
  }
 ],
 "metadata": {
  "kernelspec": {
   "display_name": "tf",
   "language": "python",
   "name": "python3"
  },
  "language_info": {
   "codemirror_mode": {
    "name": "ipython",
    "version": 3
   },
   "file_extension": ".py",
   "mimetype": "text/x-python",
   "name": "python",
   "nbconvert_exporter": "python",
   "pygments_lexer": "ipython3",
   "version": "3.10.4"
  },
  "orig_nbformat": 4
 },
 "nbformat": 4,
 "nbformat_minor": 2
}

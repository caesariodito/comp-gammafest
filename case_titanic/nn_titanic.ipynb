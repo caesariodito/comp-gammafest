{
 "cells": [
  {
   "attachments": {},
   "cell_type": "markdown",
   "metadata": {},
   "source": [
    "# Titanic with TensorFlow"
   ]
  },
  {
   "cell_type": "code",
   "execution_count": 1,
   "metadata": {},
   "outputs": [
    {
     "name": "stderr",
     "output_type": "stream",
     "text": [
      "2023-05-12 12:30:47.473636: I tensorflow/tsl/cuda/cudart_stub.cc:28] Could not find cuda drivers on your machine, GPU will not be used.\n",
      "2023-05-12 12:30:49.906685: I tensorflow/tsl/cuda/cudart_stub.cc:28] Could not find cuda drivers on your machine, GPU will not be used.\n",
      "2023-05-12 12:30:49.907773: I tensorflow/core/platform/cpu_feature_guard.cc:182] This TensorFlow binary is optimized to use available CPU instructions in performance-critical operations.\n",
      "To enable the following instructions: AVX2 AVX512F FMA, in other operations, rebuild TensorFlow with the appropriate compiler flags.\n",
      "2023-05-12 12:30:54.152092: W tensorflow/compiler/tf2tensorrt/utils/py_utils.cc:38] TF-TRT Warning: Could not find TensorRT\n"
     ]
    }
   ],
   "source": [
    "# General\n",
    "import pandas as pd\n",
    "import numpy as np\n",
    "\n",
    "# Visualization\n",
    "import matplotlib.pyplot as plt\n",
    "import seaborn as sns\n",
    "%matplotlib inline\n",
    "\n",
    "# Modeling\n",
    "import tensorflow as tf\n",
    "from sklearn.model_selection import train_test_split\n",
    "from fast_ml.model_development import train_valid_test_split\n",
    "from sklearn.preprocessing import StandardScaler\n",
    "\n",
    "from tensorflow.keras.optimizers import Adam\n",
    "from tensorflow.keras.callbacks import EarlyStopping\n",
    "from tensorflow.keras.callbacks import ModelCheckpoint\n",
    "\n",
    "# Model Evaluation\n",
    "from sklearn.metrics import confusion_matrix, classification_report\n"
   ]
  },
  {
   "cell_type": "code",
   "execution_count": 2,
   "metadata": {},
   "outputs": [],
   "source": [
    "# Random Seed\n",
    "random_seed = 42 # set random seed for reproducibility\n",
    "tf.random.set_seed(random_seed) # set random seed for TensorFlow\n",
    "np.random.seed(random_seed) # set random seed for NumPy"
   ]
  },
  {
   "attachments": {},
   "cell_type": "markdown",
   "metadata": {},
   "source": [
    "## Data"
   ]
  },
  {
   "cell_type": "code",
   "execution_count": 3,
   "metadata": {},
   "outputs": [
    {
     "data": {
      "text/html": [
       "<div>\n",
       "<style scoped>\n",
       "    .dataframe tbody tr th:only-of-type {\n",
       "        vertical-align: middle;\n",
       "    }\n",
       "\n",
       "    .dataframe tbody tr th {\n",
       "        vertical-align: top;\n",
       "    }\n",
       "\n",
       "    .dataframe thead th {\n",
       "        text-align: right;\n",
       "    }\n",
       "</style>\n",
       "<table border=\"1\" class=\"dataframe\">\n",
       "  <thead>\n",
       "    <tr style=\"text-align: right;\">\n",
       "      <th></th>\n",
       "      <th>Survived</th>\n",
       "      <th>Pclass</th>\n",
       "      <th>Age</th>\n",
       "      <th>SibSp</th>\n",
       "      <th>Parch</th>\n",
       "      <th>Fare</th>\n",
       "      <th>Sex_female</th>\n",
       "      <th>Sex_male</th>\n",
       "      <th>Embarked_C</th>\n",
       "      <th>Embarked_Q</th>\n",
       "      <th>Embarked_S</th>\n",
       "    </tr>\n",
       "  </thead>\n",
       "  <tbody>\n",
       "    <tr>\n",
       "      <th>0</th>\n",
       "      <td>0.0</td>\n",
       "      <td>3.0</td>\n",
       "      <td>34.500000</td>\n",
       "      <td>0.0</td>\n",
       "      <td>0.0</td>\n",
       "      <td>7.8292</td>\n",
       "      <td>0.0</td>\n",
       "      <td>1.0</td>\n",
       "      <td>0.0</td>\n",
       "      <td>1.0</td>\n",
       "      <td>0.0</td>\n",
       "    </tr>\n",
       "    <tr>\n",
       "      <th>1</th>\n",
       "      <td>1.0</td>\n",
       "      <td>3.0</td>\n",
       "      <td>47.000000</td>\n",
       "      <td>1.0</td>\n",
       "      <td>0.0</td>\n",
       "      <td>7.0000</td>\n",
       "      <td>1.0</td>\n",
       "      <td>0.0</td>\n",
       "      <td>0.0</td>\n",
       "      <td>0.0</td>\n",
       "      <td>1.0</td>\n",
       "    </tr>\n",
       "    <tr>\n",
       "      <th>2</th>\n",
       "      <td>0.0</td>\n",
       "      <td>2.0</td>\n",
       "      <td>62.000000</td>\n",
       "      <td>0.0</td>\n",
       "      <td>0.0</td>\n",
       "      <td>9.6875</td>\n",
       "      <td>0.0</td>\n",
       "      <td>1.0</td>\n",
       "      <td>0.0</td>\n",
       "      <td>1.0</td>\n",
       "      <td>0.0</td>\n",
       "    </tr>\n",
       "    <tr>\n",
       "      <th>3</th>\n",
       "      <td>0.0</td>\n",
       "      <td>3.0</td>\n",
       "      <td>27.000000</td>\n",
       "      <td>0.0</td>\n",
       "      <td>0.0</td>\n",
       "      <td>8.6625</td>\n",
       "      <td>0.0</td>\n",
       "      <td>1.0</td>\n",
       "      <td>0.0</td>\n",
       "      <td>0.0</td>\n",
       "      <td>1.0</td>\n",
       "    </tr>\n",
       "    <tr>\n",
       "      <th>4</th>\n",
       "      <td>1.0</td>\n",
       "      <td>3.0</td>\n",
       "      <td>22.000000</td>\n",
       "      <td>1.0</td>\n",
       "      <td>1.0</td>\n",
       "      <td>12.2875</td>\n",
       "      <td>1.0</td>\n",
       "      <td>0.0</td>\n",
       "      <td>0.0</td>\n",
       "      <td>0.0</td>\n",
       "      <td>1.0</td>\n",
       "    </tr>\n",
       "    <tr>\n",
       "      <th>...</th>\n",
       "      <td>...</td>\n",
       "      <td>...</td>\n",
       "      <td>...</td>\n",
       "      <td>...</td>\n",
       "      <td>...</td>\n",
       "      <td>...</td>\n",
       "      <td>...</td>\n",
       "      <td>...</td>\n",
       "      <td>...</td>\n",
       "      <td>...</td>\n",
       "      <td>...</td>\n",
       "    </tr>\n",
       "    <tr>\n",
       "      <th>413</th>\n",
       "      <td>0.0</td>\n",
       "      <td>3.0</td>\n",
       "      <td>24.467036</td>\n",
       "      <td>0.0</td>\n",
       "      <td>0.0</td>\n",
       "      <td>8.0500</td>\n",
       "      <td>0.0</td>\n",
       "      <td>1.0</td>\n",
       "      <td>0.0</td>\n",
       "      <td>0.0</td>\n",
       "      <td>1.0</td>\n",
       "    </tr>\n",
       "    <tr>\n",
       "      <th>414</th>\n",
       "      <td>1.0</td>\n",
       "      <td>1.0</td>\n",
       "      <td>39.000000</td>\n",
       "      <td>0.0</td>\n",
       "      <td>0.0</td>\n",
       "      <td>108.9000</td>\n",
       "      <td>1.0</td>\n",
       "      <td>0.0</td>\n",
       "      <td>1.0</td>\n",
       "      <td>0.0</td>\n",
       "      <td>0.0</td>\n",
       "    </tr>\n",
       "    <tr>\n",
       "      <th>415</th>\n",
       "      <td>0.0</td>\n",
       "      <td>3.0</td>\n",
       "      <td>38.500000</td>\n",
       "      <td>0.0</td>\n",
       "      <td>0.0</td>\n",
       "      <td>7.2500</td>\n",
       "      <td>0.0</td>\n",
       "      <td>1.0</td>\n",
       "      <td>0.0</td>\n",
       "      <td>0.0</td>\n",
       "      <td>1.0</td>\n",
       "    </tr>\n",
       "    <tr>\n",
       "      <th>416</th>\n",
       "      <td>0.0</td>\n",
       "      <td>3.0</td>\n",
       "      <td>24.467036</td>\n",
       "      <td>0.0</td>\n",
       "      <td>0.0</td>\n",
       "      <td>8.0500</td>\n",
       "      <td>0.0</td>\n",
       "      <td>1.0</td>\n",
       "      <td>0.0</td>\n",
       "      <td>0.0</td>\n",
       "      <td>1.0</td>\n",
       "    </tr>\n",
       "    <tr>\n",
       "      <th>417</th>\n",
       "      <td>0.0</td>\n",
       "      <td>3.0</td>\n",
       "      <td>21.974387</td>\n",
       "      <td>1.0</td>\n",
       "      <td>1.0</td>\n",
       "      <td>22.3583</td>\n",
       "      <td>0.0</td>\n",
       "      <td>1.0</td>\n",
       "      <td>1.0</td>\n",
       "      <td>0.0</td>\n",
       "      <td>0.0</td>\n",
       "    </tr>\n",
       "  </tbody>\n",
       "</table>\n",
       "<p>418 rows × 11 columns</p>\n",
       "</div>"
      ],
      "text/plain": [
       "     Survived  Pclass        Age  SibSp  Parch      Fare  Sex_female   \n",
       "0         0.0     3.0  34.500000    0.0    0.0    7.8292         0.0  \\\n",
       "1         1.0     3.0  47.000000    1.0    0.0    7.0000         1.0   \n",
       "2         0.0     2.0  62.000000    0.0    0.0    9.6875         0.0   \n",
       "3         0.0     3.0  27.000000    0.0    0.0    8.6625         0.0   \n",
       "4         1.0     3.0  22.000000    1.0    1.0   12.2875         1.0   \n",
       "..        ...     ...        ...    ...    ...       ...         ...   \n",
       "413       0.0     3.0  24.467036    0.0    0.0    8.0500         0.0   \n",
       "414       1.0     1.0  39.000000    0.0    0.0  108.9000         1.0   \n",
       "415       0.0     3.0  38.500000    0.0    0.0    7.2500         0.0   \n",
       "416       0.0     3.0  24.467036    0.0    0.0    8.0500         0.0   \n",
       "417       0.0     3.0  21.974387    1.0    1.0   22.3583         0.0   \n",
       "\n",
       "     Sex_male  Embarked_C  Embarked_Q  Embarked_S  \n",
       "0         1.0         0.0         1.0         0.0  \n",
       "1         0.0         0.0         0.0         1.0  \n",
       "2         1.0         0.0         1.0         0.0  \n",
       "3         1.0         0.0         0.0         1.0  \n",
       "4         0.0         0.0         0.0         1.0  \n",
       "..        ...         ...         ...         ...  \n",
       "413       1.0         0.0         0.0         1.0  \n",
       "414       0.0         1.0         0.0         0.0  \n",
       "415       1.0         0.0         0.0         1.0  \n",
       "416       1.0         0.0         0.0         1.0  \n",
       "417       1.0         1.0         0.0         0.0  \n",
       "\n",
       "[418 rows x 11 columns]"
      ]
     },
     "execution_count": 3,
     "metadata": {},
     "output_type": "execute_result"
    }
   ],
   "source": [
    "df = pd.read_csv('mice_df_encoded_titanic.csv')\n",
    "df"
   ]
  },
  {
   "cell_type": "code",
   "execution_count": 4,
   "metadata": {},
   "outputs": [],
   "source": [
    "target_column='Survived'"
   ]
  },
  {
   "cell_type": "code",
   "execution_count": 5,
   "metadata": {},
   "outputs": [],
   "source": [
    "df[target_column] = df[target_column].astype(int)"
   ]
  },
  {
   "cell_type": "code",
   "execution_count": 6,
   "metadata": {},
   "outputs": [],
   "source": [
    "y_train = np.array(df[target_column]) # value dari label\n",
    "df = df.drop(target_column, axis=1) # drop target\n",
    "feature_list = list(df.columns) # list column\n",
    "X_train = np.array(df) # df dalam bentuk numpy array"
   ]
  },
  {
   "cell_type": "code",
   "execution_count": 7,
   "metadata": {},
   "outputs": [
    {
     "name": "stdout",
     "output_type": "stream",
     "text": [
      "(334, 10) (334,)\n",
      "(84, 10) (84,)\n"
     ]
    }
   ],
   "source": [
    "# X_train, y_train, X_valid, y_valid, X_test, y_test = train_valid_test_split(df, target=target_column, train_size=0.8, valid_size=0.1, test_size=0.1)\n",
    "X_train, X_test, y_train, y_test = train_test_split(X_train, y_train, test_size=0.2)\n",
    "\n",
    "print(X_train.shape, y_train.shape)\n",
    "# print(X_valid.shape, y_valid.shape)\n",
    "print(X_test.shape, y_test.shape)"
   ]
  },
  {
   "cell_type": "code",
   "execution_count": 8,
   "metadata": {},
   "outputs": [],
   "source": [
    "scaler = StandardScaler()\n",
    "X_train = scaler.fit_transform(X_train)\n",
    "# X_valid = scaler.fit_transform(X_valid)\n",
    "X_test = scaler.fit_transform(X_test)"
   ]
  },
  {
   "attachments": {},
   "cell_type": "markdown",
   "metadata": {},
   "source": [
    "## Modeling"
   ]
  },
  {
   "cell_type": "code",
   "execution_count": 12,
   "metadata": {},
   "outputs": [],
   "source": [
    "LEARNING_RATE = 0.001\n",
    "BATCH_SIZE = 16\n",
    "EPOCHS = 50"
   ]
  },
  {
   "cell_type": "code",
   "execution_count": 13,
   "metadata": {},
   "outputs": [
    {
     "name": "stdout",
     "output_type": "stream",
     "text": [
      "Model: \"sequential\"\n",
      "_________________________________________________________________\n",
      " Layer (type)                Output Shape              Param #   \n",
      "=================================================================\n",
      " dense (Dense)               (None, 64)                704       \n",
      "                                                                 \n",
      " dense_1 (Dense)             (None, 32)                2080      \n",
      "                                                                 \n",
      " dropout (Dropout)           (None, 32)                0         \n",
      "                                                                 \n",
      " dense_2 (Dense)             (None, 1)                 33        \n",
      "                                                                 \n",
      "=================================================================\n",
      "Total params: 2,817\n",
      "Trainable params: 2,817\n",
      "Non-trainable params: 0\n",
      "_________________________________________________________________\n"
     ]
    }
   ],
   "source": [
    "tf.keras.backend.clear_session() # clean session\n",
    "model = tf.keras.models.Sequential([\n",
    "    tf.keras.layers.Input(shape=(X_train.shape[1],)), # input layer\n",
    "    tf.keras.layers.Dense(64, activation='relu'),\n",
    "    tf.keras.layers.Dense(32, activation='relu'),\n",
    "    tf.keras.layers.Dropout(0.2),\n",
    "    tf.keras.layers.Dense(1, activation ='sigmoid')\n",
    "])\n",
    "\n",
    "model.compile(optimizer=Adam(learning_rate=LEARNING_RATE),\n",
    "            #   loss=tf.keras.losses.BinaryCrossentropy(from_logits=True),\n",
    "              loss=tf.keras.losses.BinaryCrossentropy(),\n",
    "              metrics=['accuracy'])\n",
    "\n",
    "model.summary()"
   ]
  },
  {
   "cell_type": "code",
   "execution_count": 14,
   "metadata": {},
   "outputs": [
    {
     "name": "stdout",
     "output_type": "stream",
     "text": [
      "Epoch 1/50\n",
      "21/21 [==============================] - 2s 36ms/step - loss: 0.6387 - accuracy: 0.6677 - val_loss: 0.5312 - val_accuracy: 0.9881\n",
      "Epoch 2/50\n",
      "21/21 [==============================] - 0s 6ms/step - loss: 0.4561 - accuracy: 0.9701 - val_loss: 0.3545 - val_accuracy: 1.0000\n",
      "Epoch 3/50\n",
      "21/21 [==============================] - 0s 5ms/step - loss: 0.2759 - accuracy: 0.9970 - val_loss: 0.1853 - val_accuracy: 1.0000\n",
      "Epoch 4/50\n",
      "21/21 [==============================] - 0s 6ms/step - loss: 0.1385 - accuracy: 1.0000 - val_loss: 0.0838 - val_accuracy: 1.0000\n",
      "Epoch 5/50\n",
      "21/21 [==============================] - 0s 5ms/step - loss: 0.0671 - accuracy: 1.0000 - val_loss: 0.0404 - val_accuracy: 1.0000\n",
      "Epoch 6/50\n",
      "21/21 [==============================] - 0s 4ms/step - loss: 0.0371 - accuracy: 1.0000 - val_loss: 0.0227 - val_accuracy: 1.0000\n",
      "Epoch 7/50\n",
      "21/21 [==============================] - 0s 4ms/step - loss: 0.0228 - accuracy: 1.0000 - val_loss: 0.0147 - val_accuracy: 1.0000\n",
      "Epoch 8/50\n",
      "21/21 [==============================] - 0s 4ms/step - loss: 0.0154 - accuracy: 1.0000 - val_loss: 0.0102 - val_accuracy: 1.0000\n",
      "Epoch 9/50\n",
      "21/21 [==============================] - 0s 4ms/step - loss: 0.0107 - accuracy: 1.0000 - val_loss: 0.0074 - val_accuracy: 1.0000\n",
      "Epoch 10/50\n",
      "21/21 [==============================] - 0s 4ms/step - loss: 0.0088 - accuracy: 1.0000 - val_loss: 0.0055 - val_accuracy: 1.0000\n",
      "Epoch 11/50\n",
      "21/21 [==============================] - 0s 4ms/step - loss: 0.0071 - accuracy: 1.0000 - val_loss: 0.0043 - val_accuracy: 1.0000\n",
      "Epoch 12/50\n",
      "21/21 [==============================] - 0s 5ms/step - loss: 0.0051 - accuracy: 1.0000 - val_loss: 0.0035 - val_accuracy: 1.0000\n",
      "Epoch 13/50\n",
      "21/21 [==============================] - 0s 4ms/step - loss: 0.0043 - accuracy: 1.0000 - val_loss: 0.0028 - val_accuracy: 1.0000\n",
      "Epoch 14/50\n",
      "21/21 [==============================] - 0s 4ms/step - loss: 0.0038 - accuracy: 1.0000 - val_loss: 0.0023 - val_accuracy: 1.0000\n",
      "Epoch 15/50\n",
      "21/21 [==============================] - 0s 4ms/step - loss: 0.0036 - accuracy: 1.0000 - val_loss: 0.0019 - val_accuracy: 1.0000\n",
      "Epoch 16/50\n",
      "21/21 [==============================] - 0s 4ms/step - loss: 0.0027 - accuracy: 1.0000 - val_loss: 0.0017 - val_accuracy: 1.0000\n",
      "Epoch 17/50\n",
      "21/21 [==============================] - 0s 4ms/step - loss: 0.0023 - accuracy: 1.0000 - val_loss: 0.0014 - val_accuracy: 1.0000\n",
      "Epoch 18/50\n",
      "21/21 [==============================] - 0s 4ms/step - loss: 0.0019 - accuracy: 1.0000 - val_loss: 0.0013 - val_accuracy: 1.0000\n",
      "Epoch 19/50\n",
      "21/21 [==============================] - 0s 4ms/step - loss: 0.0019 - accuracy: 1.0000 - val_loss: 0.0011 - val_accuracy: 1.0000\n",
      "Epoch 20/50\n",
      "21/21 [==============================] - 0s 4ms/step - loss: 0.0016 - accuracy: 1.0000 - val_loss: 0.0010 - val_accuracy: 1.0000\n",
      "Epoch 21/50\n",
      "21/21 [==============================] - 0s 4ms/step - loss: 0.0013 - accuracy: 1.0000 - val_loss: 9.2550e-04 - val_accuracy: 1.0000\n",
      "Epoch 22/50\n",
      "21/21 [==============================] - 0s 4ms/step - loss: 0.0012 - accuracy: 1.0000 - val_loss: 8.5009e-04 - val_accuracy: 1.0000\n",
      "Epoch 23/50\n",
      "21/21 [==============================] - 0s 4ms/step - loss: 0.0017 - accuracy: 1.0000 - val_loss: 7.5837e-04 - val_accuracy: 1.0000\n",
      "Epoch 24/50\n",
      "21/21 [==============================] - 0s 4ms/step - loss: 0.0015 - accuracy: 1.0000 - val_loss: 6.9232e-04 - val_accuracy: 1.0000\n",
      "Epoch 25/50\n",
      "21/21 [==============================] - 0s 6ms/step - loss: 8.6117e-04 - accuracy: 1.0000 - val_loss: 6.3592e-04 - val_accuracy: 1.0000\n",
      "Epoch 26/50\n",
      "21/21 [==============================] - 0s 5ms/step - loss: 0.0010 - accuracy: 1.0000 - val_loss: 5.8598e-04 - val_accuracy: 1.0000\n",
      "Epoch 27/50\n",
      "21/21 [==============================] - 0s 4ms/step - loss: 0.0011 - accuracy: 1.0000 - val_loss: 5.2563e-04 - val_accuracy: 1.0000\n",
      "Epoch 28/50\n",
      "21/21 [==============================] - 0s 4ms/step - loss: 7.6763e-04 - accuracy: 1.0000 - val_loss: 4.8038e-04 - val_accuracy: 1.0000\n",
      "Epoch 29/50\n",
      "21/21 [==============================] - 0s 4ms/step - loss: 0.0011 - accuracy: 1.0000 - val_loss: 4.3144e-04 - val_accuracy: 1.0000\n",
      "Epoch 30/50\n",
      "21/21 [==============================] - 0s 4ms/step - loss: 6.7771e-04 - accuracy: 1.0000 - val_loss: 3.9632e-04 - val_accuracy: 1.0000\n",
      "Epoch 31/50\n",
      "21/21 [==============================] - 0s 4ms/step - loss: 5.6402e-04 - accuracy: 1.0000 - val_loss: 3.7043e-04 - val_accuracy: 1.0000\n",
      "Epoch 32/50\n",
      "21/21 [==============================] - 0s 4ms/step - loss: 7.4612e-04 - accuracy: 1.0000 - val_loss: 3.4589e-04 - val_accuracy: 1.0000\n",
      "Epoch 33/50\n",
      "21/21 [==============================] - 0s 4ms/step - loss: 4.8478e-04 - accuracy: 1.0000 - val_loss: 3.2488e-04 - val_accuracy: 1.0000\n",
      "Epoch 34/50\n",
      "21/21 [==============================] - 0s 4ms/step - loss: 5.0693e-04 - accuracy: 1.0000 - val_loss: 3.0585e-04 - val_accuracy: 1.0000\n",
      "Epoch 35/50\n",
      "21/21 [==============================] - 0s 4ms/step - loss: 5.7812e-04 - accuracy: 1.0000 - val_loss: 2.8605e-04 - val_accuracy: 1.0000\n",
      "Epoch 36/50\n",
      "21/21 [==============================] - 0s 4ms/step - loss: 6.1327e-04 - accuracy: 1.0000 - val_loss: 2.6724e-04 - val_accuracy: 1.0000\n",
      "Epoch 37/50\n",
      "21/21 [==============================] - 0s 5ms/step - loss: 4.2842e-04 - accuracy: 1.0000 - val_loss: 2.4983e-04 - val_accuracy: 1.0000\n",
      "Epoch 38/50\n",
      "21/21 [==============================] - 0s 6ms/step - loss: 4.2859e-04 - accuracy: 1.0000 - val_loss: 2.3403e-04 - val_accuracy: 1.0000\n",
      "Epoch 39/50\n",
      "21/21 [==============================] - 0s 4ms/step - loss: 3.9737e-04 - accuracy: 1.0000 - val_loss: 2.2000e-04 - val_accuracy: 1.0000\n",
      "Epoch 40/50\n",
      "21/21 [==============================] - 0s 4ms/step - loss: 3.5535e-04 - accuracy: 1.0000 - val_loss: 2.0723e-04 - val_accuracy: 1.0000\n",
      "Epoch 41/50\n",
      "21/21 [==============================] - 0s 4ms/step - loss: 4.1210e-04 - accuracy: 1.0000 - val_loss: 1.9454e-04 - val_accuracy: 1.0000\n",
      "Epoch 42/50\n",
      "21/21 [==============================] - 0s 5ms/step - loss: 3.4589e-04 - accuracy: 1.0000 - val_loss: 1.8408e-04 - val_accuracy: 1.0000\n",
      "Epoch 43/50\n",
      "21/21 [==============================] - 0s 4ms/step - loss: 3.5706e-04 - accuracy: 1.0000 - val_loss: 1.7455e-04 - val_accuracy: 1.0000\n",
      "Epoch 44/50\n",
      "21/21 [==============================] - 0s 4ms/step - loss: 2.8991e-04 - accuracy: 1.0000 - val_loss: 1.6679e-04 - val_accuracy: 1.0000\n",
      "Epoch 45/50\n",
      "21/21 [==============================] - 0s 4ms/step - loss: 3.2632e-04 - accuracy: 1.0000 - val_loss: 1.5957e-04 - val_accuracy: 1.0000\n",
      "Epoch 46/50\n",
      "21/21 [==============================] - 0s 4ms/step - loss: 3.2020e-04 - accuracy: 1.0000 - val_loss: 1.5083e-04 - val_accuracy: 1.0000\n",
      "Epoch 47/50\n",
      "21/21 [==============================] - 0s 4ms/step - loss: 2.9813e-04 - accuracy: 1.0000 - val_loss: 1.4424e-04 - val_accuracy: 1.0000\n",
      "Epoch 48/50\n",
      "21/21 [==============================] - 0s 6ms/step - loss: 2.6782e-04 - accuracy: 1.0000 - val_loss: 1.3811e-04 - val_accuracy: 1.0000\n",
      "Epoch 49/50\n",
      "21/21 [==============================] - 0s 4ms/step - loss: 2.4553e-04 - accuracy: 1.0000 - val_loss: 1.3166e-04 - val_accuracy: 1.0000\n",
      "Epoch 50/50\n",
      "21/21 [==============================] - 0s 4ms/step - loss: 2.8379e-04 - accuracy: 1.0000 - val_loss: 1.2687e-04 - val_accuracy: 1.0000\n"
     ]
    }
   ],
   "source": [
    "history = model.fit(X_train,\n",
    "                    y_train,\n",
    "                    validation_data=(X_test,y_test),\n",
    "                    epochs=EPOCHS,\n",
    "                    callbacks=[\n",
    "                        EarlyStopping(patience=5, restore_best_weights=True),\n",
    "                        ModelCheckpoint(\"model/titanic_neural.h5\", save_best_only=True)\n",
    "                    ],\n",
    "                    batch_size=BATCH_SIZE\n",
    "                    )"
   ]
  },
  {
   "attachments": {},
   "cell_type": "markdown",
   "metadata": {},
   "source": [
    "## Model Evaluation"
   ]
  },
  {
   "cell_type": "code",
   "execution_count": 15,
   "metadata": {},
   "outputs": [
    {
     "name": "stdout",
     "output_type": "stream",
     "text": [
      "3/3 [==============================] - 0s 3ms/step - loss: 1.2687e-04 - accuracy: 1.0000\n",
      "Test Loss is 0.00012686899572145194\n",
      "Test Accuracy is 1.0\n"
     ]
    }
   ],
   "source": [
    "test_loss, test_acc = model.evaluate(X_test, y_test)\n",
    "\n",
    "print(f'Test Loss is {test_loss}')\n",
    "print(f'Test Accuracy is {test_acc}')"
   ]
  },
  {
   "cell_type": "code",
   "execution_count": 16,
   "metadata": {},
   "outputs": [
    {
     "data": {
      "image/png": "[encoded data removed]",
      "text/plain": [
       "<Figure size 2000x500 with 2 Axes>"
      ]
     },
     "metadata": {},
     "output_type": "display_data"
    }
   ],
   "source": [
    "# Collect the history of the training run\n",
    "history = pd.DataFrame(history.history)\n",
    "\n",
    "# Create a figure to display the model's performance\n",
    "plt.figure(figsize=(20, 5))\n",
    "\n",
    "# Plot the loss curve in the first subplot\n",
    "plt.subplot(1, 2, 1)\n",
    "plt.title(\"Model - Loss Curve\")\n",
    "plt.plot(history['loss'], label=\"Training Loss\")\n",
    "plt.plot(history['val_loss'], label=\"Validation Loss\")\n",
    "\n",
    "# Horizontal line to show the testing performance\n",
    "plt.axhline(y=test_loss, label=\"Test Loss\", linestyle='--', color='green')\n",
    "\n",
    "# Set the x- and y-labels, and the x- and y-limits\n",
    "plt.xlabel(\"Epochs\")\n",
    "plt.ylabel(\"Cross Entropy Loss\")\n",
    "plt.ylim([0, 0.4])\n",
    "\n",
    "# Show the legend and grid\n",
    "plt.legend()\n",
    "plt.grid()\n",
    "\n",
    "# Plot the accuracy curve in the second subplot\n",
    "plt.subplot(1, 2, 2)\n",
    "plt.title(\"Model - Accuracy Curve\")\n",
    "plt.plot(history['accuracy'], label=\"Training Accuracy\")\n",
    "plt.plot(history['val_accuracy'], label=\"Validation Accuracy\")\n",
    "\n",
    "# Horizontal line to show the testing performance\n",
    "plt.axhline(y=test_acc, label=\"Test Accuracy\", linestyle='--', color='green')\n",
    "\n",
    "# Set the x- and y-labels, and the x- and y-limits\n",
    "plt.xlabel(\"Epochs\")\n",
    "plt.ylabel(\"Accuracy\")\n",
    "plt.ylim([0.85, 1])\n",
    "\n",
    "# Show the legend and grid\n",
    "plt.legend()\n",
    "plt.grid()\n",
    "\n",
    "# Display the plot\n",
    "plt.show()"
   ]
  },
  {
   "cell_type": "code",
   "execution_count": 17,
   "metadata": {},
   "outputs": [
    {
     "name": "stdout",
     "output_type": "stream",
     "text": [
      "3/3 [==============================] - 0s 2ms/step\n"
     ]
    }
   ],
   "source": [
    "predict=model.predict(X_test)\n",
    "\n",
    "y_pred=[]\n",
    "for i in range(len(predict)):\n",
    "    y_pred.append(0 if predict[i] < 0.5 else 1)"
   ]
  },
  {
   "cell_type": "code",
   "execution_count": 18,
   "metadata": {},
   "outputs": [
    {
     "name": "stdout",
     "output_type": "stream",
     "text": [
      "              precision    recall  f1-score   support\n",
      "\n",
      "           0       1.00      1.00      1.00        50\n",
      "           1       1.00      1.00      1.00        34\n",
      "\n",
      "    accuracy                           1.00        84\n",
      "   macro avg       1.00      1.00      1.00        84\n",
      "weighted avg       1.00      1.00      1.00        84\n",
      "\n"
     ]
    }
   ],
   "source": [
    "cr = classification_report(y_test, y_pred)\n",
    "print(cr)"
   ]
  },
  {
   "cell_type": "code",
   "execution_count": 19,
   "metadata": {},
   "outputs": [
    {
     "name": "stdout",
     "output_type": "stream",
     "text": [
      "3/3 [==============================] - 0s 2ms/step\n"
     ]
    },
    {
     "data": {
      "text/plain": [
       "Text(0.5, 36.72222222222221, 'Predicted label')"
      ]
     },
     "execution_count": 19,
     "metadata": {},
     "output_type": "execute_result"
    },
    {
     "data": {
      "image/png": "[encoded data removed]",
      "text/plain": [
       "<Figure size 1500x600 with 2 Axes>"
      ]
     },
     "metadata": {},
     "output_type": "display_data"
    },
    {
     "name": "stderr",
     "output_type": "stream",
     "text": [
      "Bad pipe message: %s [b'o\\x7f\\xc1\\x02\\x0eG\\x03%^$m\\x1e0\\xb6', b'\\x08~ \\xe5h\\xd7(\\n\\x05\\xa2\\xc7\\xd5\\x97S\\xe2\\x19\\x85\\x0626Q\\x92\\\\\\x07\\x1c\\xd6\\xaf\\xa1\\xe6\\x0c\\x06g\\x1d\\xc5\\xf4\\x00\\x08\\x13\\x02\\x13\\x03\\x13\\x01\\x00\\xff\\x01\\x00\\x00\\x8f\\x00\\x00']\n",
      "Bad pipe message: %s [b'\\xfd4\\x16\\xbf]\\x06x\\xf7\\x8c\\xe6\\xe9X\\xe0\\x1d&\\xa2\\xfa( \\xfaZ\\xeed\\xc4\\xf8\\x8bhU|\\xdeG\\xb4\\x7f\\x14\\xa5E2\\xebx\\x8c\\x00\\x14\\xd2r\\xecB\\x16\\xc7\\xe9t\\xe7\\x00\\x08\\x13\\x02\\x13']\n",
      "Bad pipe message: %s [b\"\\x184\\x7f\\xefi\\xb4\\xb5\\xc16h\\xa0\\xf4\\x1a\\xaaE\\x0f\\xc6=\\x00\\x00|\\xc0,\\xc00\\x00\\xa3\\x00\\x9f\\xcc\\xa9\\xcc\\xa8\\xcc\\xaa\\xc0\\xaf\\xc0\\xad\\xc0\\xa3\\xc0\\x9f\\xc0]\\xc0a\\xc0W\\xc0S\\xc0+\\xc0/\\x00\\xa2\\x00\\x9e\\xc0\\xae\\xc0\\xac\\xc0\\xa2\\xc0\\x9e\\xc0\\\\\\xc0`\\xc0V\\xc0R\\xc0$\\xc0(\\x00k\\x00j\\xc0#\\xc0'\\x00g\\x00@\\xc0\\n\\xc0\\x14\\x009\\x008\\xc0\\t\\xc0\\x13\\x003\\x002\\x00\\x9d\\xc0\\xa1\\xc0\\x9d\\xc0Q\\x00\\x9c\\xc0\\xa0\\xc0\\x9c\\xc0P\\x00=\\x00<\\x005\\x00/\\x00\\x9a\\x00\\x99\\xc0\\x07\\xc0\\x11\\x00\\x96\\x00\\x05\\x00\\xff\\x01\\x00\\x00j\\x00\\x00\\x00\\x0e\\x00\\x0c\\x00\\x00\\t127.0.0.1\\x00\\x0b\\x00\\x04\\x03\\x00\\x01\\x02\\x00\\n\\x00\\x0c\\x00\\n\\x00\\x1d\\x00\\x17\"]\n",
      "Bad pipe message: %s [b\"\\xce\\x00\\x7f\\x80v\\x07\\xe8\\n,V5\\xbfX\\x10\\x00\\x8b,=\\x00\\x00\\xa6\\xc0,\\xc00\\x00\\xa3\\x00\\x9f\\xcc\\xa9\\xcc\\xa8\\xcc\\xaa\\xc0\\xaf\\xc0\\xad\\xc0\\xa3\\xc0\\x9f\\xc0]\\xc0a\\xc0W\\xc0S\\xc0+\\xc0/\\x00\\xa2\\x00\\x9e\\xc0\\xae\\xc0\\xac\\xc0\\xa2\\xc0\\x9e\\xc0\\\\\\xc0`\\xc0V\\xc0R\\xc0$\\xc0(\\x00k\\x00j\\xc0s\\xc0w\\x00\\xc4\\x00\\xc3\\xc0#\\xc0'\\x00g\\x00@\\xc0r\\xc0v\\x00\\xbe\\x00\\xbd\\xc0\\n\\xc0\\x14\\x009\\x008\\x00\\x88\\x00\\x87\\xc0\\t\\xc0\\x13\\x003\\x002\\x00\\x9a\\x00\\x99\\x00E\\x00D\\xc0\\x07\\xc0\\x11\\xc0\\x08\\xc0\\x12\\x00\\x16\\x00\\x13\\x00\\x9d\\xc0\\xa1\\xc0\\x9d\\xc0Q\\x00\\x9c\\xc0\\xa0\\xc0\\x9c\\xc0P\\x00=\\x00\\xc0\\x00<\\x00\\xba\\x005\\x00\\x84\\x00/\\x00\\x96\\x00A\\x00\\x05\\x00\\n\\x00\\xff\\x01\\x00\\x00j\\x00\\x00\\x00\\x0e\"]\n",
      "Bad pipe message: %s [b'\\xb6\\xd3\\xf8\\xdd\\x10\\x96Lx\\xf4l\\x1e\\xd9\\xbc\\x8et\\xcfk-\\x00\\x00\\xa2\\xc0\\x14\\xc0\\n\\x009\\x008\\x007\\x006\\x00\\x88']\n",
      "Bad pipe message: %s [b'\\x9cY\\x12vL.\\xc5b5i`J3c\\xb4\\x9b\\xef\\xec\\x00\\x00\\xa2\\xc0\\x14\\xc0\\n\\x009\\x008\\x007\\x006\\x00\\x88\\x00\\x87\\x00\\x86\\x00\\x85\\xc0\\x19\\x00:\\x00\\x89\\xc0\\x0f\\xc0\\x05\\x005\\x00\\x84\\xc0\\x13\\xc0\\t\\x003\\x002\\x001\\x000\\x00\\x9a\\x00\\x99\\x00\\x98\\x00\\x97\\x00E\\x00D\\x00C\\x00B\\xc0\\x18\\x004\\x00\\x9b\\x00F\\xc0\\x0e\\xc0\\x04\\x00/\\x00\\x96\\x00A\\x00\\x07\\xc0\\x11\\xc0\\x07']\n",
      "Bad pipe message: %s [b'\\xc9D0\\x98e\\t\\xbaE\\xd8U\\xa6\\x198\\x9eQ0t5\\x00\\x00\\xa2\\xc0\\x14\\xc0\\n\\x009\\x008\\x007\\x006\\x00\\x88\\x00\\x87\\x00\\x86\\x00\\x85\\xc0\\x19\\x00:\\x00\\x89\\xc0\\x0f\\xc0\\x05\\x005\\x00\\x84\\xc0\\x13\\xc0']\n",
      "Bad pipe message: %s [b'3\\x002\\x001\\x000\\x00']\n"
     ]
    }
   ],
   "source": [
    "p_test = model.predict(X_test).argmax(axis=1)\n",
    "cm = tf.math.confusion_matrix(y_test, y_pred)\n",
    "\n",
    "f, ax = plt.subplots(figsize=(15, 6))\n",
    "sns.heatmap(cm, annot=True, cmap='Blues', square=True, linewidths=0.01, linecolor='grey')\n",
    "plt.title('Confustion matrix')\n",
    "plt.ylabel('True label')\n",
    "plt.xlabel('Predicted label')"
   ]
  }
 ],
 "metadata": {
  "kernelspec": {
   "display_name": "tf",
   "language": "python",
   "name": "python3"
  },
  "language_info": {
   "codemirror_mode": {
    "name": "ipython",
    "version": 3
   },
   "file_extension": ".py",
   "mimetype": "text/x-python",
   "name": "python",
   "nbconvert_exporter": "python",
   "pygments_lexer": "ipython3",
   "version": "3.10.4"
  },
  "orig_nbformat": 4
 },
 "nbformat": 4,
 "nbformat_minor": 2
}

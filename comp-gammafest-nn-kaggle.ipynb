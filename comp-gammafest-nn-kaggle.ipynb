{
 "cells": [
  {
   "cell_type": "markdown",
   "id": "2d8d5639",
   "metadata": {
    "papermill": {
     "duration": 0.015589,
     "end_time": "2023-05-12T20:43:14.855902",
     "exception": false,
     "start_time": "2023-05-12T20:43:14.840313",
     "status": "completed"
    },
    "tags": []
   },
   "source": [
    "# Water Feasabilty with TensorFlow"
   ]
  },
  {
   "cell_type": "code",
   "execution_count": 1,
   "id": "72751877",
   "metadata": {
    "execution": {
     "iopub.execute_input": "2023-05-12T20:43:14.876075Z",
     "iopub.status.busy": "2023-05-12T20:43:14.875626Z",
     "iopub.status.idle": "2023-05-12T20:43:22.231452Z",
     "shell.execute_reply": "2023-05-12T20:43:22.230459Z"
    },
    "papermill": {
     "duration": 7.369127,
     "end_time": "2023-05-12T20:43:22.233857",
     "exception": false,
     "start_time": "2023-05-12T20:43:14.864730",
     "status": "completed"
    },
    "tags": []
   },
   "outputs": [
    {
     "name": "stderr",
     "output_type": "stream",
     "text": [
      "/opt/conda/lib/python3.10/site-packages/scipy/__init__.py:146: UserWarning: A NumPy version >=1.16.5 and <1.23.0 is required for this version of SciPy (detected version 1.23.5\n",
      "  warnings.warn(f\"A NumPy version >={np_minversion} and <{np_maxversion}\"\n"
     ]
    }
   ],
   "source": [
    "# General\n",
    "import pandas as pd\n",
    "import numpy as np\n",
    "\n",
    "# Visualization\n",
    "import matplotlib.pyplot as plt\n",
    "import seaborn as sns\n",
    "%matplotlib inline\n",
    "\n",
    "# Modeling\n",
    "import tensorflow as tf\n",
    "from sklearn.model_selection import train_test_split\n",
    "from sklearn.preprocessing import StandardScaler, MinMaxScaler\n",
    "\n",
    "from tensorflow.keras.optimizers import Adam\n",
    "from tensorflow.keras.callbacks import EarlyStopping\n",
    "from tensorflow.keras.callbacks import ModelCheckpoint\n",
    "\n",
    "# Model Evaluation\n",
    "from sklearn.metrics import confusion_matrix, classification_report"
   ]
  },
  {
   "cell_type": "code",
   "execution_count": 2,
   "id": "65bfd753",
   "metadata": {
    "execution": {
     "iopub.execute_input": "2023-05-12T20:43:22.249803Z",
     "iopub.status.busy": "2023-05-12T20:43:22.249195Z",
     "iopub.status.idle": "2023-05-12T20:43:22.255124Z",
     "shell.execute_reply": "2023-05-12T20:43:22.254298Z"
    },
    "papermill": {
     "duration": 0.016046,
     "end_time": "2023-05-12T20:43:22.257121",
     "exception": false,
     "start_time": "2023-05-12T20:43:22.241075",
     "status": "completed"
    },
    "tags": []
   },
   "outputs": [],
   "source": [
    "# Random Seed\n",
    "random_seed = 42 # set random seed for reproducibility\n",
    "tf.random.set_seed(random_seed) # set random seed for TensorFlow\n",
    "np.random.seed(random_seed) # set random seed for NumPy"
   ]
  },
  {
   "cell_type": "markdown",
   "id": "4f6b6e89",
   "metadata": {
    "papermill": {
     "duration": 0.006788,
     "end_time": "2023-05-12T20:43:22.271331",
     "exception": false,
     "start_time": "2023-05-12T20:43:22.264543",
     "status": "completed"
    },
    "tags": []
   },
   "source": [
    "## Data"
   ]
  },
  {
   "cell_type": "code",
   "execution_count": 3,
   "id": "fc329290",
   "metadata": {
    "execution": {
     "iopub.execute_input": "2023-05-12T20:43:22.286401Z",
     "iopub.status.busy": "2023-05-12T20:43:22.286120Z",
     "iopub.status.idle": "2023-05-12T20:43:22.367507Z",
     "shell.execute_reply": "2023-05-12T20:43:22.366617Z"
    },
    "papermill": {
     "duration": 0.091438,
     "end_time": "2023-05-12T20:43:22.369726",
     "exception": false,
     "start_time": "2023-05-12T20:43:22.278288",
     "status": "completed"
    },
    "tags": []
   },
   "outputs": [
    {
     "data": {
      "text/html": [
       "<div>\n",
       "<style scoped>\n",
       "    .dataframe tbody tr th:only-of-type {\n",
       "        vertical-align: middle;\n",
       "    }\n",
       "\n",
       "    .dataframe tbody tr th {\n",
       "        vertical-align: top;\n",
       "    }\n",
       "\n",
       "    .dataframe thead th {\n",
       "        text-align: right;\n",
       "    }\n",
       "</style>\n",
       "<table border=\"1\" class=\"dataframe\">\n",
       "  <thead>\n",
       "    <tr style=\"text-align: right;\">\n",
       "      <th></th>\n",
       "      <th>DC024</th>\n",
       "      <th>DC205</th>\n",
       "      <th>DC214</th>\n",
       "      <th>DC220</th>\n",
       "      <th>DC235</th>\n",
       "      <th>DC109</th>\n",
       "      <th>DC142a</th>\n",
       "      <th>DC201</th>\n",
       "    </tr>\n",
       "  </thead>\n",
       "  <tbody>\n",
       "    <tr>\n",
       "      <th>0</th>\n",
       "      <td>11.0</td>\n",
       "      <td>16.0</td>\n",
       "      <td>36.0</td>\n",
       "      <td>80.0</td>\n",
       "      <td>1.000000</td>\n",
       "      <td>12.0</td>\n",
       "      <td>60.0</td>\n",
       "      <td>1.0</td>\n",
       "    </tr>\n",
       "    <tr>\n",
       "      <th>1</th>\n",
       "      <td>11.0</td>\n",
       "      <td>31.0</td>\n",
       "      <td>36.0</td>\n",
       "      <td>44.0</td>\n",
       "      <td>1.000000</td>\n",
       "      <td>31.0</td>\n",
       "      <td>70.0</td>\n",
       "      <td>1.0</td>\n",
       "    </tr>\n",
       "    <tr>\n",
       "      <th>2</th>\n",
       "      <td>11.0</td>\n",
       "      <td>12.0</td>\n",
       "      <td>36.0</td>\n",
       "      <td>35.0</td>\n",
       "      <td>1.000000</td>\n",
       "      <td>11.0</td>\n",
       "      <td>75.0</td>\n",
       "      <td>1.0</td>\n",
       "    </tr>\n",
       "    <tr>\n",
       "      <th>3</th>\n",
       "      <td>11.0</td>\n",
       "      <td>12.0</td>\n",
       "      <td>36.0</td>\n",
       "      <td>79.0</td>\n",
       "      <td>1.000000</td>\n",
       "      <td>11.0</td>\n",
       "      <td>85.0</td>\n",
       "      <td>1.0</td>\n",
       "    </tr>\n",
       "    <tr>\n",
       "      <th>4</th>\n",
       "      <td>11.0</td>\n",
       "      <td>12.0</td>\n",
       "      <td>36.0</td>\n",
       "      <td>37.0</td>\n",
       "      <td>1.000000</td>\n",
       "      <td>11.0</td>\n",
       "      <td>65.0</td>\n",
       "      <td>1.0</td>\n",
       "    </tr>\n",
       "    <tr>\n",
       "      <th>...</th>\n",
       "      <td>...</td>\n",
       "      <td>...</td>\n",
       "      <td>...</td>\n",
       "      <td>...</td>\n",
       "      <td>...</td>\n",
       "      <td>...</td>\n",
       "      <td>...</td>\n",
       "      <td>...</td>\n",
       "    </tr>\n",
       "    <tr>\n",
       "      <th>35965</th>\n",
       "      <td>94.0</td>\n",
       "      <td>17.0</td>\n",
       "      <td>24.0</td>\n",
       "      <td>21.0</td>\n",
       "      <td>3.000000</td>\n",
       "      <td>21.0</td>\n",
       "      <td>9.0</td>\n",
       "      <td>1.0</td>\n",
       "    </tr>\n",
       "    <tr>\n",
       "      <th>35966</th>\n",
       "      <td>94.0</td>\n",
       "      <td>12.0</td>\n",
       "      <td>32.0</td>\n",
       "      <td>41.0</td>\n",
       "      <td>1.951290</td>\n",
       "      <td>11.0</td>\n",
       "      <td>12.0</td>\n",
       "      <td>1.0</td>\n",
       "    </tr>\n",
       "    <tr>\n",
       "      <th>35967</th>\n",
       "      <td>94.0</td>\n",
       "      <td>12.0</td>\n",
       "      <td>24.0</td>\n",
       "      <td>52.0</td>\n",
       "      <td>2.073468</td>\n",
       "      <td>11.0</td>\n",
       "      <td>48.0</td>\n",
       "      <td>1.0</td>\n",
       "    </tr>\n",
       "    <tr>\n",
       "      <th>35968</th>\n",
       "      <td>94.0</td>\n",
       "      <td>12.0</td>\n",
       "      <td>32.0</td>\n",
       "      <td>58.0</td>\n",
       "      <td>1.969629</td>\n",
       "      <td>11.0</td>\n",
       "      <td>39.0</td>\n",
       "      <td>1.0</td>\n",
       "    </tr>\n",
       "    <tr>\n",
       "      <th>35969</th>\n",
       "      <td>94.0</td>\n",
       "      <td>12.0</td>\n",
       "      <td>32.0</td>\n",
       "      <td>31.0</td>\n",
       "      <td>2.070088</td>\n",
       "      <td>11.0</td>\n",
       "      <td>40.0</td>\n",
       "      <td>1.0</td>\n",
       "    </tr>\n",
       "  </tbody>\n",
       "</table>\n",
       "<p>35970 rows × 8 columns</p>\n",
       "</div>"
      ],
      "text/plain": [
       "       DC024  DC205  DC214  DC220     DC235  DC109  DC142a  DC201\n",
       "0       11.0   16.0   36.0   80.0  1.000000   12.0    60.0    1.0\n",
       "1       11.0   31.0   36.0   44.0  1.000000   31.0    70.0    1.0\n",
       "2       11.0   12.0   36.0   35.0  1.000000   11.0    75.0    1.0\n",
       "3       11.0   12.0   36.0   79.0  1.000000   11.0    85.0    1.0\n",
       "4       11.0   12.0   36.0   37.0  1.000000   11.0    65.0    1.0\n",
       "...      ...    ...    ...    ...       ...    ...     ...    ...\n",
       "35965   94.0   17.0   24.0   21.0  3.000000   21.0     9.0    1.0\n",
       "35966   94.0   12.0   32.0   41.0  1.951290   11.0    12.0    1.0\n",
       "35967   94.0   12.0   24.0   52.0  2.073468   11.0    48.0    1.0\n",
       "35968   94.0   12.0   32.0   58.0  1.969629   11.0    39.0    1.0\n",
       "35969   94.0   12.0   32.0   31.0  2.070088   11.0    40.0    1.0\n",
       "\n",
       "[35970 rows x 8 columns]"
      ]
     },
     "execution_count": 3,
     "metadata": {},
     "output_type": "execute_result"
    }
   ],
   "source": [
    "df = pd.read_csv('/kaggle/input/gammafest-water-feasability/important_features.csv')\n",
    "df"
   ]
  },
  {
   "cell_type": "code",
   "execution_count": 4,
   "id": "0f5a87ce",
   "metadata": {
    "execution": {
     "iopub.execute_input": "2023-05-12T20:43:22.386706Z",
     "iopub.status.busy": "2023-05-12T20:43:22.385920Z",
     "iopub.status.idle": "2023-05-12T20:43:22.390336Z",
     "shell.execute_reply": "2023-05-12T20:43:22.389470Z"
    },
    "papermill": {
     "duration": 0.014827,
     "end_time": "2023-05-12T20:43:22.392275",
     "exception": false,
     "start_time": "2023-05-12T20:43:22.377448",
     "status": "completed"
    },
    "tags": []
   },
   "outputs": [],
   "source": [
    "target_column = 'DC201'"
   ]
  },
  {
   "cell_type": "code",
   "execution_count": 5,
   "id": "ae189ce4",
   "metadata": {
    "execution": {
     "iopub.execute_input": "2023-05-12T20:43:22.407929Z",
     "iopub.status.busy": "2023-05-12T20:43:22.407663Z",
     "iopub.status.idle": "2023-05-12T20:43:22.413631Z",
     "shell.execute_reply": "2023-05-12T20:43:22.412841Z"
    },
    "papermill": {
     "duration": 0.015919,
     "end_time": "2023-05-12T20:43:22.415512",
     "exception": false,
     "start_time": "2023-05-12T20:43:22.399593",
     "status": "completed"
    },
    "tags": []
   },
   "outputs": [],
   "source": [
    "df[target_column] = df[target_column].astype(int)"
   ]
  },
  {
   "cell_type": "code",
   "execution_count": 6,
   "id": "3ab2c5ca",
   "metadata": {
    "execution": {
     "iopub.execute_input": "2023-05-12T20:43:22.431715Z",
     "iopub.status.busy": "2023-05-12T20:43:22.430961Z",
     "iopub.status.idle": "2023-05-12T20:43:22.441814Z",
     "shell.execute_reply": "2023-05-12T20:43:22.441008Z"
    },
    "papermill": {
     "duration": 0.02096,
     "end_time": "2023-05-12T20:43:22.443740",
     "exception": false,
     "start_time": "2023-05-12T20:43:22.422780",
     "status": "completed"
    },
    "tags": []
   },
   "outputs": [],
   "source": [
    "y = np.array(df[target_column]) # value dari label\n",
    "df = df.drop(target_column, axis=1) # drop target\n",
    "feature_list = list(df.columns) # list column\n",
    "X = np.array(df) # df dalam bentuk numpy array"
   ]
  },
  {
   "cell_type": "markdown",
   "id": "3ee3b0ae",
   "metadata": {
    "papermill": {
     "duration": 0.006974,
     "end_time": "2023-05-12T20:43:22.458073",
     "exception": false,
     "start_time": "2023-05-12T20:43:22.451099",
     "status": "completed"
    },
    "tags": []
   },
   "source": [
    "### Undersampling"
   ]
  },
  {
   "cell_type": "code",
   "execution_count": 7,
   "id": "6972f3cc",
   "metadata": {
    "execution": {
     "iopub.execute_input": "2023-05-12T20:43:22.474063Z",
     "iopub.status.busy": "2023-05-12T20:43:22.473722Z",
     "iopub.status.idle": "2023-05-12T20:43:23.156194Z",
     "shell.execute_reply": "2023-05-12T20:43:23.154311Z"
    },
    "papermill": {
     "duration": 0.693112,
     "end_time": "2023-05-12T20:43:23.158399",
     "exception": false,
     "start_time": "2023-05-12T20:43:22.465287",
     "status": "completed"
    },
    "tags": []
   },
   "outputs": [
    {
     "name": "stdout",
     "output_type": "stream",
     "text": [
      "Counter({0: 3572, 1: 3572})\n"
     ]
    }
   ],
   "source": [
    "from imblearn.under_sampling import NearMiss\n",
    "from collections import Counter\n",
    "\n",
    "undersampling = NearMiss(version = 1, n_neighbors=3)\n",
    "X_nm, y_nm = undersampling.fit_resample(X, y)\n",
    "\n",
    "counter = Counter(y_nm)\n",
    "print(counter)"
   ]
  },
  {
   "cell_type": "markdown",
   "id": "de39a7d8",
   "metadata": {
    "papermill": {
     "duration": 0.007277,
     "end_time": "2023-05-12T20:43:23.173272",
     "exception": false,
     "start_time": "2023-05-12T20:43:23.165995",
     "status": "completed"
    },
    "tags": []
   },
   "source": [
    "### Oversampling"
   ]
  },
  {
   "cell_type": "code",
   "execution_count": 8,
   "id": "c4729b32",
   "metadata": {
    "execution": {
     "iopub.execute_input": "2023-05-12T20:43:23.189716Z",
     "iopub.status.busy": "2023-05-12T20:43:23.189361Z",
     "iopub.status.idle": "2023-05-12T20:43:23.193625Z",
     "shell.execute_reply": "2023-05-12T20:43:23.192632Z"
    },
    "papermill": {
     "duration": 0.015055,
     "end_time": "2023-05-12T20:43:23.195673",
     "exception": false,
     "start_time": "2023-05-12T20:43:23.180618",
     "status": "completed"
    },
    "tags": []
   },
   "outputs": [],
   "source": [
    "# from imblearn.over_sampling import SMOTE\n",
    "# from collections import Counter\n",
    "\n",
    "# smote = SMOTE()\n",
    "# X_sm, y_sm = smote.fit_resample(X, y)\n",
    "\n",
    "# counter = Counter(y_sm)\n",
    "# print(counter)"
   ]
  },
  {
   "cell_type": "markdown",
   "id": "2f87283b",
   "metadata": {
    "papermill": {
     "duration": 0.007071,
     "end_time": "2023-05-12T20:43:23.209993",
     "exception": false,
     "start_time": "2023-05-12T20:43:23.202922",
     "status": "completed"
    },
    "tags": []
   },
   "source": [
    "### Splitting"
   ]
  },
  {
   "cell_type": "code",
   "execution_count": 9,
   "id": "e19959f2",
   "metadata": {
    "execution": {
     "iopub.execute_input": "2023-05-12T20:43:23.226521Z",
     "iopub.status.busy": "2023-05-12T20:43:23.225668Z",
     "iopub.status.idle": "2023-05-12T20:43:23.233209Z",
     "shell.execute_reply": "2023-05-12T20:43:23.231969Z"
    },
    "papermill": {
     "duration": 0.017881,
     "end_time": "2023-05-12T20:43:23.235122",
     "exception": false,
     "start_time": "2023-05-12T20:43:23.217241",
     "status": "completed"
    },
    "tags": []
   },
   "outputs": [
    {
     "name": "stdout",
     "output_type": "stream",
     "text": [
      "(5715, 7) (5715,)\n",
      "(1429, 7) (1429,)\n"
     ]
    }
   ],
   "source": [
    "# X_train, X_test, y_train, y_test = train_test_split(X, y, test_size=0.2)\n",
    "# X_train, X_test, y_train, y_test = train_test_split(X_sm, y_sm, test_size=0.2)\n",
    "X_train, X_test, y_train, y_test = train_test_split(X_nm, y_nm, test_size=0.2)\n",
    "\n",
    "print(X_train.shape, y_train.shape)\n",
    "# print(X_valid.shape, y_valid.shape)\n",
    "print(X_test.shape, y_test.shape)"
   ]
  },
  {
   "cell_type": "code",
   "execution_count": 10,
   "id": "ccd0e71b",
   "metadata": {
    "execution": {
     "iopub.execute_input": "2023-05-12T20:43:23.252185Z",
     "iopub.status.busy": "2023-05-12T20:43:23.250807Z",
     "iopub.status.idle": "2023-05-12T20:43:23.258640Z",
     "shell.execute_reply": "2023-05-12T20:43:23.257788Z"
    },
    "papermill": {
     "duration": 0.018167,
     "end_time": "2023-05-12T20:43:23.260665",
     "exception": false,
     "start_time": "2023-05-12T20:43:23.242498",
     "status": "completed"
    },
    "tags": []
   },
   "outputs": [],
   "source": [
    "# scaler = StandardScaler()\n",
    "scaler = MinMaxScaler()\n",
    "X_train = scaler.fit_transform(X_train)\n",
    "X_test = scaler.fit_transform(X_test)"
   ]
  },
  {
   "cell_type": "markdown",
   "id": "fcb9569d",
   "metadata": {
    "papermill": {
     "duration": 0.007262,
     "end_time": "2023-05-12T20:43:23.275638",
     "exception": false,
     "start_time": "2023-05-12T20:43:23.268376",
     "status": "completed"
    },
    "tags": []
   },
   "source": [
    "## Modeling"
   ]
  },
  {
   "cell_type": "code",
   "execution_count": 11,
   "id": "090e0528",
   "metadata": {
    "execution": {
     "iopub.execute_input": "2023-05-12T20:43:23.291538Z",
     "iopub.status.busy": "2023-05-12T20:43:23.291223Z",
     "iopub.status.idle": "2023-05-12T20:43:23.295375Z",
     "shell.execute_reply": "2023-05-12T20:43:23.294476Z"
    },
    "papermill": {
     "duration": 0.01439,
     "end_time": "2023-05-12T20:43:23.297348",
     "exception": false,
     "start_time": "2023-05-12T20:43:23.282958",
     "status": "completed"
    },
    "tags": []
   },
   "outputs": [],
   "source": [
    "LEARNING_RATE = 0.001\n",
    "BATCH_SIZE = 32\n",
    "EPOCHS = 100"
   ]
  },
  {
   "cell_type": "code",
   "execution_count": 12,
   "id": "95adc26a",
   "metadata": {
    "execution": {
     "iopub.execute_input": "2023-05-12T20:43:23.314059Z",
     "iopub.status.busy": "2023-05-12T20:43:23.313243Z",
     "iopub.status.idle": "2023-05-12T20:43:25.927627Z",
     "shell.execute_reply": "2023-05-12T20:43:25.926501Z"
    },
    "papermill": {
     "duration": 2.639214,
     "end_time": "2023-05-12T20:43:25.943944",
     "exception": false,
     "start_time": "2023-05-12T20:43:23.304730",
     "status": "completed"
    },
    "tags": []
   },
   "outputs": [
    {
     "name": "stdout",
     "output_type": "stream",
     "text": [
      "Model: \"sequential\"\n",
      "_________________________________________________________________\n",
      " Layer (type)                Output Shape              Param #   \n",
      "=================================================================\n",
      " dense (Dense)               (None, 64)                512       \n",
      "                                                                 \n",
      " dense_1 (Dense)             (None, 32)                2080      \n",
      "                                                                 \n",
      " dense_2 (Dense)             (None, 1)                 33        \n",
      "                                                                 \n",
      "=================================================================\n",
      "Total params: 2,625\n",
      "Trainable params: 2,625\n",
      "Non-trainable params: 0\n",
      "_________________________________________________________________\n"
     ]
    }
   ],
   "source": [
    "tf.keras.backend.clear_session() # clean session\n",
    "model = tf.keras.models.Sequential([\n",
    "    tf.keras.layers.Input(shape=(X_train.shape[1],)), # input layer\n",
    "    tf.keras.layers.Dense(64, activation='relu'),\n",
    "    tf.keras.layers.Dense(32, activation='relu'),\n",
    "    tf.keras.layers.Dense(1)\n",
    "])\n",
    "\n",
    "model.compile(optimizer=Adam(learning_rate=LEARNING_RATE),\n",
    "              loss=tf.keras.losses.BinaryCrossentropy(from_logits=True),\n",
    "#               loss=tf.keras.losses.BinaryCrossentropy(),\n",
    "              metrics=['accuracy'])\n",
    "\n",
    "model.summary()"
   ]
  },
  {
   "cell_type": "code",
   "execution_count": 13,
   "id": "c408bbae",
   "metadata": {
    "execution": {
     "iopub.execute_input": "2023-05-12T20:43:25.964052Z",
     "iopub.status.busy": "2023-05-12T20:43:25.963698Z",
     "iopub.status.idle": "2023-05-12T20:43:50.306580Z",
     "shell.execute_reply": "2023-05-12T20:43:50.305482Z"
    },
    "papermill": {
     "duration": 24.355058,
     "end_time": "2023-05-12T20:43:50.309050",
     "exception": false,
     "start_time": "2023-05-12T20:43:25.953992",
     "status": "completed"
    },
    "tags": []
   },
   "outputs": [
    {
     "name": "stdout",
     "output_type": "stream",
     "text": [
      "Epoch 1/100\n",
      "179/179 [==============================] - 5s 5ms/step - loss: 0.5910 - accuracy: 0.6261 - val_loss: 0.5228 - val_accuracy: 0.7782\n",
      "Epoch 2/100\n",
      "179/179 [==============================] - 1s 4ms/step - loss: 0.5180 - accuracy: 0.7627 - val_loss: 0.4977 - val_accuracy: 0.7775\n",
      "Epoch 3/100\n",
      "179/179 [==============================] - 1s 5ms/step - loss: 0.4982 - accuracy: 0.7734 - val_loss: 0.4865 - val_accuracy: 0.7656\n",
      "Epoch 4/100\n",
      "179/179 [==============================] - 1s 5ms/step - loss: 0.4876 - accuracy: 0.7755 - val_loss: 0.4728 - val_accuracy: 0.7922\n",
      "Epoch 5/100\n",
      "179/179 [==============================] - 1s 4ms/step - loss: 0.4770 - accuracy: 0.7785 - val_loss: 0.4617 - val_accuracy: 0.7922\n",
      "Epoch 6/100\n",
      "179/179 [==============================] - 1s 4ms/step - loss: 0.4694 - accuracy: 0.7822 - val_loss: 0.4531 - val_accuracy: 0.7922\n",
      "Epoch 7/100\n",
      "179/179 [==============================] - 1s 4ms/step - loss: 0.4624 - accuracy: 0.7853 - val_loss: 0.4465 - val_accuracy: 0.7957\n",
      "Epoch 8/100\n",
      "179/179 [==============================] - 1s 4ms/step - loss: 0.4549 - accuracy: 0.7862 - val_loss: 0.4382 - val_accuracy: 0.8006\n",
      "Epoch 9/100\n",
      "179/179 [==============================] - 1s 4ms/step - loss: 0.4465 - accuracy: 0.7871 - val_loss: 0.4339 - val_accuracy: 0.7992\n",
      "Epoch 10/100\n",
      "179/179 [==============================] - 1s 4ms/step - loss: 0.4417 - accuracy: 0.7911 - val_loss: 0.4298 - val_accuracy: 0.8034\n",
      "Epoch 11/100\n",
      "179/179 [==============================] - 1s 4ms/step - loss: 0.4382 - accuracy: 0.7893 - val_loss: 0.4302 - val_accuracy: 0.8104\n",
      "Epoch 12/100\n",
      "179/179 [==============================] - 1s 4ms/step - loss: 0.4339 - accuracy: 0.7923 - val_loss: 0.4241 - val_accuracy: 0.8118\n",
      "Epoch 13/100\n",
      "179/179 [==============================] - 1s 4ms/step - loss: 0.4313 - accuracy: 0.7955 - val_loss: 0.4176 - val_accuracy: 0.8104\n",
      "Epoch 14/100\n",
      "179/179 [==============================] - 1s 4ms/step - loss: 0.4259 - accuracy: 0.7976 - val_loss: 0.4353 - val_accuracy: 0.8195\n",
      "Epoch 15/100\n",
      "179/179 [==============================] - 1s 4ms/step - loss: 0.4238 - accuracy: 0.7965 - val_loss: 0.4141 - val_accuracy: 0.8048\n",
      "Epoch 16/100\n",
      "179/179 [==============================] - 1s 4ms/step - loss: 0.4207 - accuracy: 0.8010 - val_loss: 0.4150 - val_accuracy: 0.8097\n",
      "Epoch 17/100\n",
      "179/179 [==============================] - 1s 4ms/step - loss: 0.4198 - accuracy: 0.7983 - val_loss: 0.4148 - val_accuracy: 0.8160\n",
      "Epoch 18/100\n",
      "179/179 [==============================] - 1s 4ms/step - loss: 0.4190 - accuracy: 0.7988 - val_loss: 0.4093 - val_accuracy: 0.8083\n",
      "Epoch 19/100\n",
      "179/179 [==============================] - 1s 4ms/step - loss: 0.4168 - accuracy: 0.8002 - val_loss: 0.4087 - val_accuracy: 0.8118\n",
      "Epoch 20/100\n",
      "179/179 [==============================] - 1s 4ms/step - loss: 0.4151 - accuracy: 0.8068 - val_loss: 0.4062 - val_accuracy: 0.8069\n",
      "Epoch 21/100\n",
      "179/179 [==============================] - 1s 4ms/step - loss: 0.4130 - accuracy: 0.8031 - val_loss: 0.4066 - val_accuracy: 0.8090\n",
      "Epoch 22/100\n",
      "179/179 [==============================] - 1s 4ms/step - loss: 0.4128 - accuracy: 0.8012 - val_loss: 0.4083 - val_accuracy: 0.8041\n",
      "Epoch 23/100\n",
      "179/179 [==============================] - 1s 4ms/step - loss: 0.4119 - accuracy: 0.8030 - val_loss: 0.4030 - val_accuracy: 0.8118\n",
      "Epoch 24/100\n",
      "179/179 [==============================] - 1s 4ms/step - loss: 0.4080 - accuracy: 0.8049 - val_loss: 0.4132 - val_accuracy: 0.8104\n",
      "Epoch 25/100\n",
      "179/179 [==============================] - 1s 4ms/step - loss: 0.4086 - accuracy: 0.8040 - val_loss: 0.4280 - val_accuracy: 0.8160\n",
      "Epoch 26/100\n",
      "179/179 [==============================] - 1s 4ms/step - loss: 0.4084 - accuracy: 0.8030 - val_loss: 0.4070 - val_accuracy: 0.8132\n",
      "Epoch 27/100\n",
      "179/179 [==============================] - 1s 4ms/step - loss: 0.4052 - accuracy: 0.8037 - val_loss: 0.4032 - val_accuracy: 0.8076\n",
      "Epoch 28/100\n",
      "179/179 [==============================] - 1s 4ms/step - loss: 0.4061 - accuracy: 0.8070 - val_loss: 0.4042 - val_accuracy: 0.8104\n"
     ]
    }
   ],
   "source": [
    "history = model.fit(X_train,\n",
    "                    y_train,\n",
    "                    validation_data=(X_test,y_test),\n",
    "                    epochs=EPOCHS,\n",
    "                    callbacks=[\n",
    "                        EarlyStopping(patience=5, restore_best_weights=True),\n",
    "                        ModelCheckpoint(\"model/titanic_neural.h5\", save_best_only=True)\n",
    "                    ],\n",
    "                    batch_size=BATCH_SIZE\n",
    "                    )"
   ]
  },
  {
   "cell_type": "markdown",
   "id": "a8dbc39f",
   "metadata": {
    "papermill": {
     "duration": 0.035568,
     "end_time": "2023-05-12T20:43:50.381126",
     "exception": false,
     "start_time": "2023-05-12T20:43:50.345558",
     "status": "completed"
    },
    "tags": []
   },
   "source": [
    "## Model Evaluation"
   ]
  },
  {
   "cell_type": "code",
   "execution_count": 14,
   "id": "598b1cba",
   "metadata": {
    "execution": {
     "iopub.execute_input": "2023-05-12T20:43:50.454126Z",
     "iopub.status.busy": "2023-05-12T20:43:50.453406Z",
     "iopub.status.idle": "2023-05-12T20:44:08.182515Z",
     "shell.execute_reply": "2023-05-12T20:44:08.180856Z"
    },
    "papermill": {
     "duration": 17.767921,
     "end_time": "2023-05-12T20:44:08.184632",
     "exception": false,
     "start_time": "2023-05-12T20:43:50.416711",
     "status": "completed"
    },
    "tags": []
   },
   "outputs": [
    {
     "name": "stdout",
     "output_type": "stream",
     "text": [
      "45/45 [==============================] - 0s 2ms/step - loss: 0.4030 - accuracy: 0.8118\n",
      "Test Loss is 0.40296778082847595\n",
      "Test Accuracy is 0.8117564916610718\n"
     ]
    }
   ],
   "source": [
    "test_loss, test_acc = model.evaluate(X_test, y_test)\n",
    "\n",
    "print(f'Test Loss is {test_loss}')\n",
    "print(f'Test Accuracy is {test_acc}')"
   ]
  },
  {
   "cell_type": "code",
   "execution_count": 15,
   "id": "9128cb99",
   "metadata": {
    "execution": {
     "iopub.execute_input": "2023-05-12T20:44:08.259924Z",
     "iopub.status.busy": "2023-05-12T20:44:08.259004Z",
     "iopub.status.idle": "2023-05-12T20:44:08.822006Z",
     "shell.execute_reply": "2023-05-12T20:44:08.820347Z"
    },
    "papermill": {
     "duration": 0.603186,
     "end_time": "2023-05-12T20:44:08.824381",
     "exception": false,
     "start_time": "2023-05-12T20:44:08.221195",
     "status": "completed"
    },
    "tags": []
   },
   "outputs": [
    {
     "data": {
      "image/png": "[encoded data removed]",
      "text/plain": [
       "<Figure size 2000x500 with 2 Axes>"
      ]
     },
     "metadata": {},
     "output_type": "display_data"
    }
   ],
   "source": [
    "# Collect the history of the training run\n",
    "history = pd.DataFrame(history.history)\n",
    "\n",
    "# Create a figure to display the model's performance\n",
    "plt.figure(figsize=(20, 5))\n",
    "\n",
    "# Plot the loss curve in the first subplot\n",
    "plt.subplot(1, 2, 1)\n",
    "plt.title(\"Model - Loss Curve\")\n",
    "plt.plot(history['loss'], label=\"Training Loss\")\n",
    "plt.plot(history['val_loss'], label=\"Validation Loss\")\n",
    "\n",
    "# Horizontal line to show the testing performance\n",
    "plt.axhline(y=test_loss, label=\"Test Loss\", linestyle='--', color='green')\n",
    "\n",
    "# Set the x- and y-labels, and the x- and y-limits\n",
    "plt.xlabel(\"Epochs\")\n",
    "plt.ylabel(\"Cross Entropy Loss\")\n",
    "# plt.ylim([0, 0.4])\n",
    "\n",
    "# Show the legend and grid\n",
    "plt.legend()\n",
    "plt.grid()\n",
    "\n",
    "# Plot the accuracy curve in the second subplot\n",
    "plt.subplot(1, 2, 2)\n",
    "plt.title(\"Model - Accuracy Curve\")\n",
    "plt.plot(history['accuracy'], label=\"Training Accuracy\")\n",
    "plt.plot(history['val_accuracy'], label=\"Validation Accuracy\")\n",
    "\n",
    "# Horizontal line to show the testing performance\n",
    "plt.axhline(y=test_acc, label=\"Test Accuracy\", linestyle='--', color='green')\n",
    "\n",
    "# Set the x- and y-labels, and the x- and y-limits\n",
    "plt.xlabel(\"Epochs\")\n",
    "plt.ylabel(\"Accuracy\")\n",
    "# plt.ylim([0.85, 1])\n",
    "\n",
    "# Show the legend and grid\n",
    "plt.legend()\n",
    "plt.grid()\n",
    "\n",
    "# Display the plot\n",
    "plt.show()"
   ]
  },
  {
   "cell_type": "code",
   "execution_count": 16,
   "id": "eb71c0ff",
   "metadata": {
    "execution": {
     "iopub.execute_input": "2023-05-12T20:44:08.901818Z",
     "iopub.status.busy": "2023-05-12T20:44:08.901459Z",
     "iopub.status.idle": "2023-05-12T20:44:09.141978Z",
     "shell.execute_reply": "2023-05-12T20:44:09.141054Z"
    },
    "papermill": {
     "duration": 0.281633,
     "end_time": "2023-05-12T20:44:09.144228",
     "exception": false,
     "start_time": "2023-05-12T20:44:08.862595",
     "status": "completed"
    },
    "tags": []
   },
   "outputs": [
    {
     "name": "stdout",
     "output_type": "stream",
     "text": [
      "45/45 [==============================] - 0s 1ms/step\n"
     ]
    }
   ],
   "source": [
    "predict=model.predict(X_test)\n",
    "\n",
    "y_pred=[]\n",
    "for i in range(len(predict)):\n",
    "    y_pred.append(0 if predict[i] < 0.5 else 1)"
   ]
  },
  {
   "cell_type": "code",
   "execution_count": 17,
   "id": "802df0ce",
   "metadata": {
    "execution": {
     "iopub.execute_input": "2023-05-12T20:44:09.225856Z",
     "iopub.status.busy": "2023-05-12T20:44:09.224778Z",
     "iopub.status.idle": "2023-05-12T20:44:09.242241Z",
     "shell.execute_reply": "2023-05-12T20:44:09.240745Z"
    },
    "papermill": {
     "duration": 0.060188,
     "end_time": "2023-05-12T20:44:09.244762",
     "exception": false,
     "start_time": "2023-05-12T20:44:09.184574",
     "status": "completed"
    },
    "tags": []
   },
   "outputs": [
    {
     "name": "stdout",
     "output_type": "stream",
     "text": [
      "              precision    recall  f1-score   support\n",
      "\n",
      "           0       0.77      0.89      0.83       722\n",
      "           1       0.86      0.74      0.79       707\n",
      "\n",
      "    accuracy                           0.81      1429\n",
      "   macro avg       0.82      0.81      0.81      1429\n",
      "weighted avg       0.82      0.81      0.81      1429\n",
      "\n"
     ]
    }
   ],
   "source": [
    "cr = classification_report(y_test, y_pred)\n",
    "print(cr)"
   ]
  },
  {
   "cell_type": "code",
   "execution_count": 18,
   "id": "867ecdac",
   "metadata": {
    "execution": {
     "iopub.execute_input": "2023-05-12T20:44:09.339756Z",
     "iopub.status.busy": "2023-05-12T20:44:09.339339Z",
     "iopub.status.idle": "2023-05-12T20:44:09.696905Z",
     "shell.execute_reply": "2023-05-12T20:44:09.695998Z"
    },
    "papermill": {
     "duration": 0.404601,
     "end_time": "2023-05-12T20:44:09.699033",
     "exception": false,
     "start_time": "2023-05-12T20:44:09.294432",
     "status": "completed"
    },
    "tags": []
   },
   "outputs": [
    {
     "data": {
      "text/plain": [
       "Text(0.5, 36.72222222222221, 'Predicted label')"
      ]
     },
     "execution_count": 18,
     "metadata": {},
     "output_type": "execute_result"
    },
    {
     "data": {
      "image/png": "[encoded data removed]",
      "text/plain": [
       "<Figure size 1500x600 with 2 Axes>"
      ]
     },
     "metadata": {},
     "output_type": "display_data"
    }
   ],
   "source": [
    "cm = tf.math.confusion_matrix(y_test, y_pred)\n",
    "\n",
    "f, ax = plt.subplots(figsize=(15, 6))\n",
    "sns.heatmap(cm, annot=True, cmap='Blues', square=True, linewidths=0.01, linecolor='grey')\n",
    "plt.title('Confustion matrix')\n",
    "plt.ylabel('True label')\n",
    "plt.xlabel('Predicted label')"
   ]
  },
  {
   "cell_type": "code",
   "execution_count": 19,
   "id": "f4b5b458",
   "metadata": {
    "execution": {
     "iopub.execute_input": "2023-05-12T20:44:09.805402Z",
     "iopub.status.busy": "2023-05-12T20:44:09.804885Z",
     "iopub.status.idle": "2023-05-12T20:44:09.812924Z",
     "shell.execute_reply": "2023-05-12T20:44:09.812056Z"
    },
    "papermill": {
     "duration": 0.07763,
     "end_time": "2023-05-12T20:44:09.817527",
     "exception": false,
     "start_time": "2023-05-12T20:44:09.739897",
     "status": "completed"
    },
    "tags": []
   },
   "outputs": [],
   "source": [
    "# df_test = pd.read_csv('/kaggle/input/gammafest-water-feasability/test.csv')\n",
    "# df_test"
   ]
  },
  {
   "cell_type": "code",
   "execution_count": 20,
   "id": "0713742c",
   "metadata": {
    "execution": {
     "iopub.execute_input": "2023-05-12T20:44:09.952123Z",
     "iopub.status.busy": "2023-05-12T20:44:09.951756Z",
     "iopub.status.idle": "2023-05-12T20:44:09.956029Z",
     "shell.execute_reply": "2023-05-12T20:44:09.955128Z"
    },
    "papermill": {
     "duration": 0.067085,
     "end_time": "2023-05-12T20:44:09.958230",
     "exception": false,
     "start_time": "2023-05-12T20:44:09.891145",
     "status": "completed"
    },
    "tags": []
   },
   "outputs": [],
   "source": [
    "# df_imp_test = df_test.iloc[:, [0,2,11,16,22,36,37]]"
   ]
  },
  {
   "cell_type": "code",
   "execution_count": 21,
   "id": "b6f9bf71",
   "metadata": {
    "execution": {
     "iopub.execute_input": "2023-05-12T20:44:10.037783Z",
     "iopub.status.busy": "2023-05-12T20:44:10.037421Z",
     "iopub.status.idle": "2023-05-12T20:44:10.041640Z",
     "shell.execute_reply": "2023-05-12T20:44:10.040607Z"
    },
    "papermill": {
     "duration": 0.045966,
     "end_time": "2023-05-12T20:44:10.043683",
     "exception": false,
     "start_time": "2023-05-12T20:44:09.997717",
     "status": "completed"
    },
    "tags": []
   },
   "outputs": [],
   "source": [
    "# X_test_real = np.array(df_imp_test)\n",
    "# X_test_real = scaler.fit_transform(X_test_real)"
   ]
  },
  {
   "cell_type": "code",
   "execution_count": 22,
   "id": "8a2e49b9",
   "metadata": {
    "execution": {
     "iopub.execute_input": "2023-05-12T20:44:10.122417Z",
     "iopub.status.busy": "2023-05-12T20:44:10.122066Z",
     "iopub.status.idle": "2023-05-12T20:44:10.127260Z",
     "shell.execute_reply": "2023-05-12T20:44:10.126412Z"
    },
    "papermill": {
     "duration": 0.046853,
     "end_time": "2023-05-12T20:44:10.129295",
     "exception": false,
     "start_time": "2023-05-12T20:44:10.082442",
     "status": "completed"
    },
    "tags": []
   },
   "outputs": [],
   "source": [
    "# pred_real = model.predict(X_test_real)\n",
    "\n",
    "# y_pred_real=[]\n",
    "# for i in range(len(pred_real)):\n",
    "#     y_pred_real.append(0 if pred_real[i] < 0.5 else 1)"
   ]
  },
  {
   "cell_type": "code",
   "execution_count": 23,
   "id": "b5489cd7",
   "metadata": {
    "execution": {
     "iopub.execute_input": "2023-05-12T20:44:10.210207Z",
     "iopub.status.busy": "2023-05-12T20:44:10.209837Z",
     "iopub.status.idle": "2023-05-12T20:44:10.214360Z",
     "shell.execute_reply": "2023-05-12T20:44:10.213254Z"
    },
    "papermill": {
     "duration": 0.048154,
     "end_time": "2023-05-12T20:44:10.216773",
     "exception": false,
     "start_time": "2023-05-12T20:44:10.168619",
     "status": "completed"
    },
    "tags": []
   },
   "outputs": [],
   "source": [
    "# cr = classification_report(y_test, y_pred_real)\n",
    "# print(cr)"
   ]
  },
  {
   "cell_type": "code",
   "execution_count": 24,
   "id": "ac2f7a24",
   "metadata": {
    "execution": {
     "iopub.execute_input": "2023-05-12T20:44:10.299142Z",
     "iopub.status.busy": "2023-05-12T20:44:10.298825Z",
     "iopub.status.idle": "2023-05-12T20:44:10.303445Z",
     "shell.execute_reply": "2023-05-12T20:44:10.302365Z"
    },
    "papermill": {
     "duration": 0.047896,
     "end_time": "2023-05-12T20:44:10.305653",
     "exception": false,
     "start_time": "2023-05-12T20:44:10.257757",
     "status": "completed"
    },
    "tags": []
   },
   "outputs": [],
   "source": [
    "# p_test = model.predict(X_test_real).argmax(axis=1)\n",
    "# cm = tf.math.confusion_matrix(p_test, y_pred)\n",
    "\n",
    "# f, ax = plt.subplots(figsize=(15, 6))\n",
    "# sns.heatmap(cm, annot=True, cmap='Blues', square=True, linewidths=0.01, linecolor='grey')\n",
    "# plt.title('Confustion matrix')\n",
    "# plt.ylabel('True label')\n",
    "# plt.xlabel('Predicted label')"
   ]
  }
 ],
 "metadata": {
  "kernelspec": {
   "display_name": "Python 3",
   "language": "python",
   "name": "python3"
  },
  "language_info": {
   "codemirror_mode": {
    "name": "ipython",
    "version": 3
   },
   "file_extension": ".py",
   "mimetype": "text/x-python",
   "name": "python",
   "nbconvert_exporter": "python",
   "pygments_lexer": "ipython3",
   "version": "3.10.10"
  },
  "papermill": {
   "default_parameters": {},
   "duration": 68.718967,
   "end_time": "2023-05-12T20:44:13.298760",
   "environment_variables": {},
   "exception": null,
   "input_path": "__notebook__.ipynb",
   "output_path": "__notebook__.ipynb",
   "parameters": {},
   "start_time": "2023-05-12T20:43:04.579793",
   "version": "2.4.0"
  }
 },
 "nbformat": 4,
 "nbformat_minor": 5
}

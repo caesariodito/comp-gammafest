{
 "cells": [
  {
   "cell_type": "code",
   "execution_count": 1,
   "metadata": {},
   "outputs": [],
   "source": [
    "import pandas as pd"
   ]
  },
  {
   "cell_type": "code",
   "execution_count": 2,
   "metadata": {},
   "outputs": [
    {
     "data": {
      "text/html": [
       "<div>\n",
       "<style scoped>\n",
       "    .dataframe tbody tr th:only-of-type {\n",
       "        vertical-align: middle;\n",
       "    }\n",
       "\n",
       "    .dataframe tbody tr th {\n",
       "        vertical-align: top;\n",
       "    }\n",
       "\n",
       "    .dataframe thead th {\n",
       "        text-align: right;\n",
       "    }\n",
       "</style>\n",
       "<table border=\"1\" class=\"dataframe\">\n",
       "  <thead>\n",
       "    <tr style=\"text-align: right;\">\n",
       "      <th></th>\n",
       "      <th>id</th>\n",
       "      <th>DC024</th>\n",
       "      <th>DC025</th>\n",
       "      <th>DC205</th>\n",
       "      <th>DC206</th>\n",
       "      <th>DC207</th>\n",
       "      <th>DC208</th>\n",
       "      <th>DC209</th>\n",
       "      <th>DC210</th>\n",
       "      <th>DC211</th>\n",
       "      <th>...</th>\n",
       "      <th>DC237f</th>\n",
       "      <th>DC241</th>\n",
       "      <th>DC242</th>\n",
       "      <th>DC244</th>\n",
       "      <th>DC246</th>\n",
       "      <th>DC252</th>\n",
       "      <th>DC270a</th>\n",
       "      <th>DC109</th>\n",
       "      <th>DC142a</th>\n",
       "      <th>DC201</th>\n",
       "    </tr>\n",
       "  </thead>\n",
       "  <tbody>\n",
       "    <tr>\n",
       "      <th>0</th>\n",
       "      <td>1</td>\n",
       "      <td>11</td>\n",
       "      <td>2</td>\n",
       "      <td>16.0</td>\n",
       "      <td>1.0</td>\n",
       "      <td>0.0</td>\n",
       "      <td>1.0</td>\n",
       "      <td>0.0</td>\n",
       "      <td>0.0</td>\n",
       "      <td>0.0</td>\n",
       "      <td>...</td>\n",
       "      <td>0.0</td>\n",
       "      <td>1.0</td>\n",
       "      <td>0.0</td>\n",
       "      <td>0.0</td>\n",
       "      <td>0.0</td>\n",
       "      <td>2.0</td>\n",
       "      <td>1</td>\n",
       "      <td>12.0</td>\n",
       "      <td>60.0</td>\n",
       "      <td>Layak Minum</td>\n",
       "    </tr>\n",
       "    <tr>\n",
       "      <th>1</th>\n",
       "      <td>2</td>\n",
       "      <td>11</td>\n",
       "      <td>2</td>\n",
       "      <td>31.0</td>\n",
       "      <td>1.0</td>\n",
       "      <td>0.0</td>\n",
       "      <td>1.0</td>\n",
       "      <td>0.0</td>\n",
       "      <td>0.0</td>\n",
       "      <td>1.0</td>\n",
       "      <td>...</td>\n",
       "      <td>0.0</td>\n",
       "      <td>1.0</td>\n",
       "      <td>0.0</td>\n",
       "      <td>1.0</td>\n",
       "      <td>1.0</td>\n",
       "      <td>1.0</td>\n",
       "      <td>2</td>\n",
       "      <td>31.0</td>\n",
       "      <td>70.0</td>\n",
       "      <td>Layak Minum</td>\n",
       "    </tr>\n",
       "    <tr>\n",
       "      <th>2</th>\n",
       "      <td>3</td>\n",
       "      <td>11</td>\n",
       "      <td>2</td>\n",
       "      <td>12.0</td>\n",
       "      <td>1.0</td>\n",
       "      <td>0.0</td>\n",
       "      <td>1.0</td>\n",
       "      <td>1.0</td>\n",
       "      <td>1.0</td>\n",
       "      <td>1.0</td>\n",
       "      <td>...</td>\n",
       "      <td>0.0</td>\n",
       "      <td>1.0</td>\n",
       "      <td>0.0</td>\n",
       "      <td>1.0</td>\n",
       "      <td>1.0</td>\n",
       "      <td>0.0</td>\n",
       "      <td>4</td>\n",
       "      <td>11.0</td>\n",
       "      <td>75.0</td>\n",
       "      <td>Layak Minum</td>\n",
       "    </tr>\n",
       "    <tr>\n",
       "      <th>3</th>\n",
       "      <td>6</td>\n",
       "      <td>11</td>\n",
       "      <td>2</td>\n",
       "      <td>12.0</td>\n",
       "      <td>1.0</td>\n",
       "      <td>0.0</td>\n",
       "      <td>0.0</td>\n",
       "      <td>0.0</td>\n",
       "      <td>0.0</td>\n",
       "      <td>1.0</td>\n",
       "      <td>...</td>\n",
       "      <td>0.0</td>\n",
       "      <td>2.0</td>\n",
       "      <td>NaN</td>\n",
       "      <td>1.0</td>\n",
       "      <td>0.0</td>\n",
       "      <td>1.0</td>\n",
       "      <td>1</td>\n",
       "      <td>11.0</td>\n",
       "      <td>85.0</td>\n",
       "      <td>Layak Minum</td>\n",
       "    </tr>\n",
       "    <tr>\n",
       "      <th>4</th>\n",
       "      <td>7</td>\n",
       "      <td>11</td>\n",
       "      <td>2</td>\n",
       "      <td>12.0</td>\n",
       "      <td>1.0</td>\n",
       "      <td>0.0</td>\n",
       "      <td>1.0</td>\n",
       "      <td>1.0</td>\n",
       "      <td>0.0</td>\n",
       "      <td>0.0</td>\n",
       "      <td>...</td>\n",
       "      <td>0.0</td>\n",
       "      <td>1.0</td>\n",
       "      <td>0.0</td>\n",
       "      <td>0.0</td>\n",
       "      <td>1.0</td>\n",
       "      <td>0.0</td>\n",
       "      <td>2</td>\n",
       "      <td>11.0</td>\n",
       "      <td>65.0</td>\n",
       "      <td>Layak Minum</td>\n",
       "    </tr>\n",
       "  </tbody>\n",
       "</table>\n",
       "<p>5 rows × 40 columns</p>\n",
       "</div>"
      ],
      "text/plain": [
       "   id  DC024  DC025  DC205  DC206  DC207  DC208  DC209  DC210  DC211  ...   \n",
       "0   1     11      2   16.0    1.0    0.0    1.0    0.0    0.0    0.0  ...  \\\n",
       "1   2     11      2   31.0    1.0    0.0    1.0    0.0    0.0    1.0  ...   \n",
       "2   3     11      2   12.0    1.0    0.0    1.0    1.0    1.0    1.0  ...   \n",
       "3   6     11      2   12.0    1.0    0.0    0.0    0.0    0.0    1.0  ...   \n",
       "4   7     11      2   12.0    1.0    0.0    1.0    1.0    0.0    0.0  ...   \n",
       "\n",
       "   DC237f  DC241  DC242  DC244  DC246  DC252  DC270a  DC109  DC142a   \n",
       "0     0.0    1.0    0.0    0.0    0.0    2.0       1   12.0    60.0  \\\n",
       "1     0.0    1.0    0.0    1.0    1.0    1.0       2   31.0    70.0   \n",
       "2     0.0    1.0    0.0    1.0    1.0    0.0       4   11.0    75.0   \n",
       "3     0.0    2.0    NaN    1.0    0.0    1.0       1   11.0    85.0   \n",
       "4     0.0    1.0    0.0    0.0    1.0    0.0       2   11.0    65.0   \n",
       "\n",
       "         DC201  \n",
       "0  Layak Minum  \n",
       "1  Layak Minum  \n",
       "2  Layak Minum  \n",
       "3  Layak Minum  \n",
       "4  Layak Minum  \n",
       "\n",
       "[5 rows x 40 columns]"
      ]
     },
     "execution_count": 2,
     "metadata": {},
     "output_type": "execute_result"
    }
   ],
   "source": [
    "df = pd.read_csv('../datasets/train.csv')\n",
    "df.head()"
   ]
  },
  {
   "cell_type": "code",
   "execution_count": 3,
   "metadata": {},
   "outputs": [],
   "source": [
    "target = 'DC201'\n",
    "\n",
    "df = df.drop('id', axis=1)\n",
    "df[target].replace(to_replace={'Layak Minum':1, 'Tidak Layak Minum':0}, inplace=True)"
   ]
  },
  {
   "cell_type": "code",
   "execution_count": 4,
   "metadata": {},
   "outputs": [],
   "source": [
    "NUMERICAL_DATA = ['DC216', 'DC220', 'DC142a']\n",
    "CATEGORICAL_DATA = [column for column in df.columns if column != target and column not in NUMERICAL_DATA]\n",
    "\n",
    "COLUMN_CATEGORICAL_INDEX = []\n",
    "\n",
    "for column in CATEGORICAL_DATA:\n",
    "    COLUMN_CATEGORICAL_INDEX.append(df.columns.get_loc(column))"
   ]
  },
  {
   "cell_type": "code",
   "execution_count": 5,
   "metadata": {},
   "outputs": [
    {
     "name": "stdout",
     "output_type": "stream",
     "text": [
      "column: DC024 DC024\n",
      "32    3513\n",
      "35    3016\n",
      "33    2701\n",
      "53    1856\n",
      "12    1743\n",
      "11    1609\n",
      "81    1290\n",
      "73    1280\n",
      "31    1262\n",
      "52    1122\n",
      "76    1071\n",
      "64    1067\n",
      "36    1043\n",
      "74     946\n",
      "18     879\n",
      "72     841\n",
      "16     833\n",
      "21     822\n",
      "13     810\n",
      "82     763\n",
      "51     719\n",
      "61     674\n",
      "63     648\n",
      "14     648\n",
      "17     580\n",
      "19     531\n",
      "34     517\n",
      "15     492\n",
      "94     472\n",
      "75     465\n",
      "62     463\n",
      "71     453\n",
      "65     431\n",
      "91     413\n",
      "Name: count, dtype: int64\n",
      "column: DC025 DC025\n",
      "1    19116\n",
      "2    16857\n",
      "Name: count, dtype: int64\n",
      "column: DC205 DC205\n",
      "12.0    25224\n",
      "31.0     3576\n",
      "17.0     3067\n",
      "16.0     2815\n",
      "21.0     1262\n",
      "96.0       18\n",
      "Name: count, dtype: int64\n",
      "column: DC206 DC206\n",
      "1.0    34517\n",
      "0.0     1435\n",
      "Name: count, dtype: int64\n",
      "column: DC207 DC207\n",
      "0.0    29130\n",
      "1.0     6799\n",
      "Name: count, dtype: int64\n",
      "column: DC208 DC208\n",
      "1.0    30453\n",
      "0.0     5507\n",
      "Name: count, dtype: int64\n",
      "column: DC209 DC209\n",
      "1.0    20474\n",
      "0.0    15481\n",
      "Name: count, dtype: int64\n",
      "column: DC210 DC210\n",
      "0.0    24193\n",
      "1.0    11739\n",
      "Name: count, dtype: int64\n",
      "column: DC211 DC211\n",
      "1.0    27269\n",
      "0.0     8680\n",
      "Name: count, dtype: int64\n",
      "column: DC212 DC212\n",
      "0.0    31182\n",
      "1.0     4767\n",
      "Name: count, dtype: int64\n",
      "column: DC213 DC213\n",
      "33.0    16035\n",
      "35.0    11692\n",
      "21.0     4523\n",
      "34.0     1643\n",
      "11.0     1540\n",
      "22.0      226\n",
      "36.0      111\n",
      "31.0       56\n",
      "32.0       49\n",
      "96.0       21\n",
      "Name: count, dtype: int64\n",
      "column: DC214 DC214\n",
      "35.0    19360\n",
      "36.0     8059\n",
      "34.0     3605\n",
      "23.0     1177\n",
      "32.0     1117\n",
      "31.0      963\n",
      "12.0      477\n",
      "38.0      428\n",
      "24.0      385\n",
      "21.0      147\n",
      "37.0      126\n",
      "26.0       67\n",
      "96.0       41\n",
      "22.0        8\n",
      "25.0        4\n",
      "Name: count, dtype: int64\n",
      "column: DC215 DC215\n",
      "31.0    17851\n",
      "33.0    12672\n",
      "32.0     3359\n",
      "35.0      740\n",
      "12.0      592\n",
      "34.0      429\n",
      "36.0      167\n",
      "13.0       96\n",
      "23.0       22\n",
      "21.0       15\n",
      "96.0        9\n",
      "22.0        7\n",
      "Name: count, dtype: int64\n",
      "column: DC217 DC217\n",
      "4    17723\n",
      "2    13022\n",
      "1     3228\n",
      "3     1028\n",
      "5      970\n",
      "0        2\n",
      "Name: count, dtype: int64\n",
      "column: DC219 DC219\n",
      "1    30357\n",
      "2     5616\n",
      "Name: count, dtype: int64\n",
      "column: DC226 DC226\n",
      "2.0     23013\n",
      "8.0      8993\n",
      "5.0      2937\n",
      "95.0      601\n",
      "3.0       201\n",
      "1.0       141\n",
      "7.0        59\n",
      "9.0        13\n",
      "4.0         4\n",
      "6.0         4\n",
      "10.0        1\n",
      "Name: count, dtype: int64\n",
      "column: DC230a DC230a\n",
      "1.0    28991\n",
      "2.0     3991\n",
      "3.0     2489\n",
      "5.0      286\n",
      "4.0      205\n",
      "Name: count, dtype: int64\n",
      "column: DC230b DC230b\n",
      "1.0    32166\n",
      "0.0      798\n",
      "Name: count, dtype: int64\n",
      "column: DC232 DC232\n",
      "1.0    30741\n",
      "0.0     2208\n",
      "Name: count, dtype: int64\n",
      "column: DC232b DC232b\n",
      "0.0    32746\n",
      "1.0      203\n",
      "Name: count, dtype: int64\n",
      "column: DC235 DC235\n",
      "3.0    8811\n",
      "1.0    8479\n",
      "2.0    8237\n",
      "Name: count, dtype: int64\n",
      "column: DC237 DC237\n",
      "1.0    24605\n",
      "0.0    11333\n",
      "8.0       14\n",
      "Name: count, dtype: int64\n",
      "column: DC237a DC237a\n",
      "1.0    23823\n",
      "0.0    12099\n",
      "8.0       14\n",
      "Name: count, dtype: int64\n",
      "column: DC237b DC237b\n",
      "0.0    35724\n",
      "1.0      198\n",
      "8.0       14\n",
      "Name: count, dtype: int64\n",
      "column: DC237c DC237c\n",
      "0.0    33386\n",
      "1.0     2536\n",
      "8.0       14\n",
      "Name: count, dtype: int64\n",
      "column: DC237d DC237d\n",
      "0.0    35319\n",
      "1.0      603\n",
      "8.0       14\n",
      "Name: count, dtype: int64\n",
      "column: DC237e DC237e\n",
      "0.0    35910\n",
      "8.0       14\n",
      "1.0       12\n",
      "Name: count, dtype: int64\n",
      "column: DC237f DC237f\n",
      "0.0    28894\n",
      "1.0     7028\n",
      "8.0       14\n",
      "Name: count, dtype: int64\n",
      "column: DC241 DC241\n",
      "1.0    30665\n",
      "2.0     3488\n",
      "3.0     1204\n",
      "6.0        4\n",
      "Name: count, dtype: int64\n",
      "column: DC242 DC242\n",
      "1.0    25303\n",
      "0.0     5296\n",
      "Name: count, dtype: int64\n",
      "column: DC244 DC244\n",
      "0.0    22794\n",
      "1.0    13175\n",
      "Name: count, dtype: int64\n",
      "column: DC246 DC246\n",
      "0.0    22313\n",
      "1.0    13651\n",
      "Name: count, dtype: int64\n",
      "column: DC252 DC252\n",
      "1.0    18706\n",
      "0.0     9791\n",
      "4.0     4601\n",
      "2.0     2290\n",
      "3.0      571\n",
      "Name: count, dtype: int64\n",
      "column: DC270a DC270a\n",
      "1    10280\n",
      "2     7565\n",
      "3     6520\n",
      "4     5907\n",
      "5     5701\n",
      "Name: count, dtype: int64\n",
      "column: DC109 DC109\n",
      "11.0    25224\n",
      "21.0     3067\n",
      "12.0     2815\n",
      "31.0     2381\n",
      "41.0     1262\n",
      "51.0      847\n",
      "32.0      251\n",
      "33.0       97\n",
      "96.0       18\n",
      "Name: count, dtype: int64\n"
     ]
    }
   ],
   "source": [
    "for column in CATEGORICAL_DATA:\n",
    "  print('column:', column, df[column].value_counts())"
   ]
  },
  {
   "cell_type": "code",
   "execution_count": 6,
   "metadata": {},
   "outputs": [
    {
     "data": {
      "text/plain": [
       "DC024         0\n",
       "DC025         0\n",
       "DC205        11\n",
       "DC206        21\n",
       "DC207        44\n",
       "DC208        13\n",
       "DC209        18\n",
       "DC210        41\n",
       "DC211        24\n",
       "DC212        24\n",
       "DC213        77\n",
       "DC214         9\n",
       "DC215        14\n",
       "DC216        39\n",
       "DC217         0\n",
       "DC219         0\n",
       "DC220         4\n",
       "DC226         6\n",
       "DC230a       11\n",
       "DC230b     3009\n",
       "DC232      3024\n",
       "DC232b     3024\n",
       "DC235     10446\n",
       "DC237        21\n",
       "DC237a       37\n",
       "DC237b       37\n",
       "DC237c       37\n",
       "DC237d       37\n",
       "DC237e       37\n",
       "DC237f       37\n",
       "DC241       612\n",
       "DC242      5374\n",
       "DC244         4\n",
       "DC246         9\n",
       "DC252        14\n",
       "DC270a        0\n",
       "DC109        11\n",
       "DC142a       52\n",
       "DC201         3\n",
       "dtype: int64"
      ]
     },
     "execution_count": 6,
     "metadata": {},
     "output_type": "execute_result"
    }
   ],
   "source": [
    "df.isna().sum()"
   ]
  },
  {
   "cell_type": "code",
   "execution_count": 7,
   "metadata": {},
   "outputs": [
    {
     "name": "stdout",
     "output_type": "stream",
     "text": [
      "DC235\n",
      "3.0    8811\n",
      "1.0    8479\n",
      "2.0    8237\n",
      "Name: count, dtype: int64\n",
      "10446\n"
     ]
    }
   ],
   "source": [
    "print(df['DC235'].value_counts())\n",
    "print(df['DC235'].isna().sum())"
   ]
  },
  {
   "cell_type": "code",
   "execution_count": 8,
   "metadata": {},
   "outputs": [
    {
     "name": "stdout",
     "output_type": "stream",
     "text": [
      "DC230b\n",
      "1.0    32166\n",
      "0.0      798\n",
      "Name: count, dtype: int64\n",
      "3009\n"
     ]
    }
   ],
   "source": [
    "print(df['DC230b'].value_counts())\n",
    "print(df['DC230b'].isna().sum())"
   ]
  },
  {
   "cell_type": "code",
   "execution_count": 9,
   "metadata": {},
   "outputs": [
    {
     "name": "stdout",
     "output_type": "stream",
     "text": [
      "DC232\n",
      "1.0    30741\n",
      "0.0     2208\n",
      "Name: count, dtype: int64\n",
      "3024\n"
     ]
    }
   ],
   "source": [
    "print(df['DC232'].value_counts())\n",
    "print(df['DC232'].isna().sum())"
   ]
  },
  {
   "cell_type": "code",
   "execution_count": 10,
   "metadata": {},
   "outputs": [
    {
     "name": "stdout",
     "output_type": "stream",
     "text": [
      "DC232b\n",
      "0.0    32746\n",
      "1.0      203\n",
      "Name: count, dtype: int64\n",
      "3024\n"
     ]
    }
   ],
   "source": [
    "print(df['DC232b'].value_counts())\n",
    "print(df['DC232b'].isna().sum())"
   ]
  },
  {
   "cell_type": "code",
   "execution_count": 11,
   "metadata": {},
   "outputs": [
    {
     "name": "stdout",
     "output_type": "stream",
     "text": [
      "DC241\n",
      "1.0    30665\n",
      "2.0     3488\n",
      "3.0     1204\n",
      "6.0        4\n",
      "Name: count, dtype: int64\n",
      "612\n"
     ]
    }
   ],
   "source": [
    "print(df['DC241'].value_counts())\n",
    "print(df['DC241'].isna().sum())"
   ]
  },
  {
   "cell_type": "code",
   "execution_count": 12,
   "metadata": {},
   "outputs": [
    {
     "name": "stdout",
     "output_type": "stream",
     "text": [
      "DC242\n",
      "1.0    25303\n",
      "0.0     5296\n",
      "Name: count, dtype: int64\n",
      "5374\n"
     ]
    }
   ],
   "source": [
    "print(df['DC242'].value_counts())\n",
    "print(df['DC242'].isna().sum())"
   ]
  },
  {
   "cell_type": "code",
   "execution_count": 13,
   "metadata": {},
   "outputs": [
    {
     "data": {
      "text/plain": [
       "DC216     39\n",
       "DC220      4\n",
       "DC142a    52\n",
       "dtype: int64"
      ]
     },
     "execution_count": 13,
     "metadata": {},
     "output_type": "execute_result"
    }
   ],
   "source": [
    "df[NUMERICAL_DATA].isna().sum()"
   ]
  },
  {
   "cell_type": "code",
   "execution_count": 14,
   "metadata": {},
   "outputs": [
    {
     "data": {
      "text/html": [
       "<div>\n",
       "<style scoped>\n",
       "    .dataframe tbody tr th:only-of-type {\n",
       "        vertical-align: middle;\n",
       "    }\n",
       "\n",
       "    .dataframe tbody tr th {\n",
       "        vertical-align: top;\n",
       "    }\n",
       "\n",
       "    .dataframe thead th {\n",
       "        text-align: right;\n",
       "    }\n",
       "</style>\n",
       "<table border=\"1\" class=\"dataframe\">\n",
       "  <thead>\n",
       "    <tr style=\"text-align: right;\">\n",
       "      <th></th>\n",
       "      <th>DC216</th>\n",
       "      <th>DC220</th>\n",
       "      <th>DC142a</th>\n",
       "    </tr>\n",
       "  </thead>\n",
       "  <tbody>\n",
       "    <tr>\n",
       "      <th>0</th>\n",
       "      <td>1.0</td>\n",
       "      <td>80.0</td>\n",
       "      <td>60.0</td>\n",
       "    </tr>\n",
       "    <tr>\n",
       "      <th>1</th>\n",
       "      <td>2.0</td>\n",
       "      <td>44.0</td>\n",
       "      <td>70.0</td>\n",
       "    </tr>\n",
       "    <tr>\n",
       "      <th>2</th>\n",
       "      <td>2.0</td>\n",
       "      <td>35.0</td>\n",
       "      <td>75.0</td>\n",
       "    </tr>\n",
       "    <tr>\n",
       "      <th>3</th>\n",
       "      <td>3.0</td>\n",
       "      <td>79.0</td>\n",
       "      <td>85.0</td>\n",
       "    </tr>\n",
       "    <tr>\n",
       "      <th>4</th>\n",
       "      <td>2.0</td>\n",
       "      <td>37.0</td>\n",
       "      <td>65.0</td>\n",
       "    </tr>\n",
       "    <tr>\n",
       "      <th>...</th>\n",
       "      <td>...</td>\n",
       "      <td>...</td>\n",
       "      <td>...</td>\n",
       "    </tr>\n",
       "    <tr>\n",
       "      <th>35968</th>\n",
       "      <td>1.0</td>\n",
       "      <td>21.0</td>\n",
       "      <td>9.0</td>\n",
       "    </tr>\n",
       "    <tr>\n",
       "      <th>35969</th>\n",
       "      <td>1.0</td>\n",
       "      <td>41.0</td>\n",
       "      <td>12.0</td>\n",
       "    </tr>\n",
       "    <tr>\n",
       "      <th>35970</th>\n",
       "      <td>2.0</td>\n",
       "      <td>52.0</td>\n",
       "      <td>48.0</td>\n",
       "    </tr>\n",
       "    <tr>\n",
       "      <th>35971</th>\n",
       "      <td>2.0</td>\n",
       "      <td>58.0</td>\n",
       "      <td>39.0</td>\n",
       "    </tr>\n",
       "    <tr>\n",
       "      <th>35972</th>\n",
       "      <td>1.0</td>\n",
       "      <td>31.0</td>\n",
       "      <td>40.0</td>\n",
       "    </tr>\n",
       "  </tbody>\n",
       "</table>\n",
       "<p>35880 rows × 3 columns</p>\n",
       "</div>"
      ],
      "text/plain": [
       "       DC216  DC220  DC142a\n",
       "0        1.0   80.0    60.0\n",
       "1        2.0   44.0    70.0\n",
       "2        2.0   35.0    75.0\n",
       "3        3.0   79.0    85.0\n",
       "4        2.0   37.0    65.0\n",
       "...      ...    ...     ...\n",
       "35968    1.0   21.0     9.0\n",
       "35969    1.0   41.0    12.0\n",
       "35970    2.0   52.0    48.0\n",
       "35971    2.0   58.0    39.0\n",
       "35972    1.0   31.0    40.0\n",
       "\n",
       "[35880 rows x 3 columns]"
      ]
     },
     "execution_count": 14,
     "metadata": {},
     "output_type": "execute_result"
    }
   ],
   "source": [
    "temp_num_df = df[NUMERICAL_DATA].dropna()\n",
    "temp_num_df"
   ]
  },
  {
   "cell_type": "code",
   "execution_count": 15,
   "metadata": {},
   "outputs": [
    {
     "data": {
      "text/plain": [
       "(0.0, 200.0)"
      ]
     },
     "execution_count": 15,
     "metadata": {},
     "output_type": "execute_result"
    },
    {
     "data": {
      "image/png": "[encoded data removed]",
      "text/plain": [
       "<Figure size 640x480 with 1 Axes>"
      ]
     },
     "metadata": {},
     "output_type": "display_data"
    }
   ],
   "source": [
    "import matplotlib.pyplot as plt\n",
    "import seaborn as sns\n",
    "from sklearn.preprocessing import MinMaxScaler\n",
    "\n",
    "# scaler = MinMaxScaler()\n",
    "# temp_num_df = scaler.fit_transform(temp_num_df)\n",
    "# temp_num_df = pd.DataFrame(temp_num_df, columns=NUMERICAL_DATA)\n",
    "\n",
    "ax = sns.boxplot(temp_num_df)\n",
    "ax.set_ylim([0, 200])"
   ]
  },
  {
   "cell_type": "code",
   "execution_count": 16,
   "metadata": {},
   "outputs": [],
   "source": [
    "import numpy as np\n",
    "\n",
    "# Calculate the quartiles\n",
    "Q1 = np.percentile(temp_num_df['DC142a'], 25)\n",
    "Q3 = np.percentile(temp_num_df['DC142a'], 75)\n",
    "\n",
    "# Calculate the interquartile range\n",
    "IQR = Q3 - Q1\n",
    "\n",
    "# Calculate the whisker values\n",
    "lower_whisker = Q1 - 1.5 * IQR\n",
    "upper_whisker = Q3 + 1.5 * IQR\n",
    "\n",
    "# Count the number of outliers\n",
    "n_outliers = np.sum((temp_num_df['DC142a'] < lower_whisker) | (temp_num_df['DC142a'] > upper_whisker))\n",
    "\n",
    "temp_num_df_no_outlier = temp_num_df[(temp_num_df['DC142a'] >= lower_whisker) & (temp_num_df['DC142a'] <= upper_whisker)]"
   ]
  },
  {
   "cell_type": "code",
   "execution_count": 17,
   "metadata": {},
   "outputs": [],
   "source": [
    "def drop_outliers(data: pd.DataFrame, column: str):\n",
    "  # Calculate the quartiles\n",
    "  Q1 = np.percentile(data[column], 25)\n",
    "  Q3 = np.percentile(data[column], 75)\n",
    "\n",
    "  # Calculate the interquartile range\n",
    "  IQR = Q3 - Q1\n",
    "\n",
    "  # Calculate the whisker values\n",
    "  lower_whisker = Q1 - 1.5 * IQR\n",
    "  upper_whisker = Q3 + 1.5 * IQR\n",
    "\n",
    "  # Count the number of outliers\n",
    "  n_outliers = np.sum((data[column] < lower_whisker) | (data[column] > upper_whisker))\n",
    "  print('num of outliers:', n_outliers)\n",
    "\n",
    "  data_no_outlier = data[(data[column] >= lower_whisker) & (data[column] <= upper_whisker)]\n",
    "  \n",
    "  return data_no_outlier"
   ]
  },
  {
   "cell_type": "code",
   "execution_count": 57,
   "metadata": {},
   "outputs": [
    {
     "name": "stdout",
     "output_type": "stream",
     "text": [
      "num of outliers: 1329\n",
      "num of outliers: 199\n",
      "num of outliers: 1799\n"
     ]
    }
   ],
   "source": [
    "test = temp_num_df.copy()\n",
    "\n",
    "for column in NUMERICAL_DATA:\n",
    "  test = drop_outliers(test, column)\n",
    "\n"
   ]
  },
  {
   "cell_type": "code",
   "execution_count": 58,
   "metadata": {},
   "outputs": [
    {
     "data": {
      "text/plain": [
       "(0.0, 200.0)"
      ]
     },
     "execution_count": 58,
     "metadata": {},
     "output_type": "execute_result"
    },
    {
     "data": {
      "image/png": "[encoded data removed]",
      "text/plain": [
       "<Figure size 640x480 with 1 Axes>"
      ]
     },
     "metadata": {},
     "output_type": "display_data"
    }
   ],
   "source": [
    "ax = sns.boxplot(test['DC142a'])\n",
    "ax.set_ylim([0, 200])"
   ]
  },
  {
   "cell_type": "code",
   "execution_count": 59,
   "metadata": {},
   "outputs": [
    {
     "data": {
      "text/plain": [
       "32553"
      ]
     },
     "execution_count": 59,
     "metadata": {},
     "output_type": "execute_result"
    }
   ],
   "source": [
    "len(test)"
   ]
  },
  {
   "cell_type": "code",
   "execution_count": 60,
   "metadata": {},
   "outputs": [
    {
     "data": {
      "text/plain": [
       "(0.0, 200.0)"
      ]
     },
     "execution_count": 60,
     "metadata": {},
     "output_type": "execute_result"
    },
    {
     "data": {
      "image/png": "[encoded data removed]",
      "text/plain": [
       "<Figure size 640x480 with 1 Axes>"
      ]
     },
     "metadata": {},
     "output_type": "display_data"
    }
   ],
   "source": [
    "ax = sns.boxplot(temp_num_df_no_outlier['DC142a'])\n",
    "ax.set_ylim([0, 200])"
   ]
  },
  {
   "cell_type": "code",
   "execution_count": 61,
   "metadata": {},
   "outputs": [
    {
     "data": {
      "text/plain": [
       "2084"
      ]
     },
     "execution_count": 61,
     "metadata": {},
     "output_type": "execute_result"
    }
   ],
   "source": [
    "n_outliers"
   ]
  },
  {
   "cell_type": "code",
   "execution_count": 62,
   "metadata": {},
   "outputs": [
    {
     "data": {
      "text/html": [
       "<div>\n",
       "<style scoped>\n",
       "    .dataframe tbody tr th:only-of-type {\n",
       "        vertical-align: middle;\n",
       "    }\n",
       "\n",
       "    .dataframe tbody tr th {\n",
       "        vertical-align: top;\n",
       "    }\n",
       "\n",
       "    .dataframe thead th {\n",
       "        text-align: right;\n",
       "    }\n",
       "</style>\n",
       "<table border=\"1\" class=\"dataframe\">\n",
       "  <thead>\n",
       "    <tr style=\"text-align: right;\">\n",
       "      <th></th>\n",
       "      <th>DC216</th>\n",
       "      <th>DC220</th>\n",
       "      <th>DC142a</th>\n",
       "    </tr>\n",
       "  </thead>\n",
       "  <tbody>\n",
       "    <tr>\n",
       "      <th>count</th>\n",
       "      <td>35880.000000</td>\n",
       "      <td>35880.000000</td>\n",
       "      <td>35880.000000</td>\n",
       "    </tr>\n",
       "    <tr>\n",
       "      <th>mean</th>\n",
       "      <td>2.323328</td>\n",
       "      <td>48.477118</td>\n",
       "      <td>82.629236</td>\n",
       "    </tr>\n",
       "    <tr>\n",
       "      <th>std</th>\n",
       "      <td>1.105188</td>\n",
       "      <td>13.715199</td>\n",
       "      <td>91.062892</td>\n",
       "    </tr>\n",
       "    <tr>\n",
       "      <th>min</th>\n",
       "      <td>0.000000</td>\n",
       "      <td>13.000000</td>\n",
       "      <td>0.000000</td>\n",
       "    </tr>\n",
       "    <tr>\n",
       "      <th>25%</th>\n",
       "      <td>2.000000</td>\n",
       "      <td>38.000000</td>\n",
       "      <td>42.000000</td>\n",
       "    </tr>\n",
       "    <tr>\n",
       "      <th>50%</th>\n",
       "      <td>2.000000</td>\n",
       "      <td>48.000000</td>\n",
       "      <td>63.000000</td>\n",
       "    </tr>\n",
       "    <tr>\n",
       "      <th>75%</th>\n",
       "      <td>3.000000</td>\n",
       "      <td>58.000000</td>\n",
       "      <td>96.000000</td>\n",
       "    </tr>\n",
       "    <tr>\n",
       "      <th>max</th>\n",
       "      <td>20.000000</td>\n",
       "      <td>98.000000</td>\n",
       "      <td>998.000000</td>\n",
       "    </tr>\n",
       "  </tbody>\n",
       "</table>\n",
       "</div>"
      ],
      "text/plain": [
       "              DC216         DC220        DC142a\n",
       "count  35880.000000  35880.000000  35880.000000\n",
       "mean       2.323328     48.477118     82.629236\n",
       "std        1.105188     13.715199     91.062892\n",
       "min        0.000000     13.000000      0.000000\n",
       "25%        2.000000     38.000000     42.000000\n",
       "50%        2.000000     48.000000     63.000000\n",
       "75%        3.000000     58.000000     96.000000\n",
       "max       20.000000     98.000000    998.000000"
      ]
     },
     "execution_count": 62,
     "metadata": {},
     "output_type": "execute_result"
    }
   ],
   "source": [
    "temp_num_df.describe()"
   ]
  },
  {
   "cell_type": "code",
   "execution_count": null,
   "metadata": {},
   "outputs": [],
   "source": []
  }
 ],
 "metadata": {
  "kernelspec": {
   "display_name": "venv",
   "language": "python",
   "name": "python3"
  },
  "language_info": {
   "codemirror_mode": {
    "name": "ipython",
    "version": 3
   },
   "file_extension": ".py",
   "mimetype": "text/x-python",
   "name": "python",
   "nbconvert_exporter": "python",
   "pygments_lexer": "ipython3",
   "version": "3.11.1"
  },
  "orig_nbformat": 4
 },
 "nbformat": 4,
 "nbformat_minor": 2
}

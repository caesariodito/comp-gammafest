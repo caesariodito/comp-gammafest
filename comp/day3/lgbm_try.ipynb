{
 "cells": [
  {
   "cell_type": "code",
   "execution_count": 9,
   "metadata": {},
   "outputs": [],
   "source": [
    "import pandas as pd\n",
    "import numpy as np\n",
    "import matplotlib.pyplot as plt\n",
    "%matplotlib inline\n",
    "import seaborn as sns"
   ]
  },
  {
   "cell_type": "code",
   "execution_count": 10,
   "metadata": {},
   "outputs": [
    {
     "data": {
      "text/plain": [
       "(35970, 39)"
      ]
     },
     "execution_count": 10,
     "metadata": {},
     "output_type": "execute_result"
    }
   ],
   "source": [
    "df = pd.read_csv(\"mapped-v2_imputed_mf5iter.csv\")\n",
    "df.shape"
   ]
  },
  {
   "cell_type": "code",
   "execution_count": 11,
   "metadata": {},
   "outputs": [
    {
     "data": {
      "text/plain": [
       "DC201\n",
       "1.0    32398\n",
       "0.0     3572\n",
       "Name: count, dtype: int64"
      ]
     },
     "execution_count": 11,
     "metadata": {},
     "output_type": "execute_result"
    }
   ],
   "source": [
    "df['DC201'].value_counts()"
   ]
  },
  {
   "cell_type": "code",
   "execution_count": 12,
   "metadata": {},
   "outputs": [
    {
     "name": "stdout",
     "output_type": "stream",
     "text": [
      "<class 'pandas.core.frame.DataFrame'>\n",
      "RangeIndex: 35970 entries, 0 to 35969\n",
      "Data columns (total 39 columns):\n",
      " #   Column  Non-Null Count  Dtype  \n",
      "---  ------  --------------  -----  \n",
      " 0   DC216   35970 non-null  float64\n",
      " 1   DC220   35970 non-null  float64\n",
      " 2   DC142a  35970 non-null  float64\n",
      " 3   DC024   35970 non-null  int64  \n",
      " 4   DC025   35970 non-null  int64  \n",
      " 5   DC205   35970 non-null  float64\n",
      " 6   DC206   35970 non-null  float64\n",
      " 7   DC207   35970 non-null  float64\n",
      " 8   DC208   35970 non-null  float64\n",
      " 9   DC209   35970 non-null  float64\n",
      " 10  DC210   35970 non-null  float64\n",
      " 11  DC211   35970 non-null  float64\n",
      " 12  DC212   35970 non-null  float64\n",
      " 13  DC213   35970 non-null  float64\n",
      " 14  DC214   35970 non-null  float64\n",
      " 15  DC215   35970 non-null  float64\n",
      " 16  DC217   35970 non-null  int64  \n",
      " 17  DC219   35970 non-null  int64  \n",
      " 18  DC226   35970 non-null  float64\n",
      " 19  DC230a  35970 non-null  float64\n",
      " 20  DC230b  35970 non-null  float64\n",
      " 21  DC232   35970 non-null  float64\n",
      " 22  DC232b  35970 non-null  float64\n",
      " 23  DC235   35970 non-null  float64\n",
      " 24  DC237   35970 non-null  float64\n",
      " 25  DC237a  35970 non-null  float64\n",
      " 26  DC237b  35970 non-null  float64\n",
      " 27  DC237c  35970 non-null  float64\n",
      " 28  DC237d  35970 non-null  float64\n",
      " 29  DC237e  35970 non-null  float64\n",
      " 30  DC237f  35970 non-null  float64\n",
      " 31  DC241   35970 non-null  float64\n",
      " 32  DC242   35970 non-null  float64\n",
      " 33  DC244   35970 non-null  float64\n",
      " 34  DC246   35970 non-null  float64\n",
      " 35  DC252   35970 non-null  float64\n",
      " 36  DC270a  35970 non-null  int64  \n",
      " 37  DC109   35970 non-null  float64\n",
      " 38  DC201   35970 non-null  float64\n",
      "dtypes: float64(34), int64(5)\n",
      "memory usage: 10.7 MB\n"
     ]
    }
   ],
   "source": [
    "df.info()"
   ]
  },
  {
   "cell_type": "code",
   "execution_count": 15,
   "metadata": {},
   "outputs": [],
   "source": [
    "# # Use Seaborn to make a correlation matrix\n",
    "\n",
    "# corr_matrix = df.corr()\n",
    "# fig, ax = plt.subplots(figsize=(25,25))\n",
    "# ax = sns.heatmap(corr_matrix,\n",
    "#                 annot=True,\n",
    "#                 linewidths=0.5,\n",
    "#                 fmt=\".2f\",\n",
    "#                 cmap=\"YlGnBu\");"
   ]
  },
  {
   "cell_type": "code",
   "execution_count": 7,
   "metadata": {},
   "outputs": [],
   "source": [
    "target = \"DC201\""
   ]
  },
  {
   "cell_type": "code",
   "execution_count": 8,
   "metadata": {},
   "outputs": [],
   "source": [
    "y_train = np.array(df[target]) # value dari label\n",
    "df = df.drop(target, axis=1) # drop target\n",
    "feature_list = list(df.columns) # list column\n",
    "X_train = np.array(df)"
   ]
  },
  {
   "attachments": {},
   "cell_type": "markdown",
   "metadata": {},
   "source": [
    "SMOTE"
   ]
  },
  {
   "cell_type": "code",
   "execution_count": 11,
   "metadata": {},
   "outputs": [
    {
     "name": "stdout",
     "output_type": "stream",
     "text": [
      "Jumlah sampel sebelum oversampling: 35973\n",
      "Jumlah sampel setelah oversampling: 64802\n"
     ]
    }
   ],
   "source": [
    "# from imblearn.over_sampling import SMOTE\n",
    "# from sklearn.datasets import make_classification\n",
    "\n",
    "\n",
    "# # Melakukan oversampling dengan SMOTE\n",
    "# smote = SMOTE()\n",
    "# X_resampled, y_resampled = smote.fit_resample(X_train, y_train)\n",
    "\n",
    "# # Melihat jumlah sampel setelah oversampling\n",
    "# print(\"Jumlah sampel sebelum oversampling:\", len(X_train))\n",
    "# print(\"Jumlah sampel setelah oversampling:\", len(X_resampled))"
   ]
  },
  {
   "cell_type": "code",
   "execution_count": 16,
   "metadata": {},
   "outputs": [],
   "source": [
    "from sklearn.preprocessing import MinMaxScaler\n",
    "\n",
    "scaler = MinMaxScaler()\n",
    "X_train_norm = scaler.fit_transform(X_train)"
   ]
  },
  {
   "cell_type": "code",
   "execution_count": 17,
   "metadata": {},
   "outputs": [
    {
     "data": {
      "text/plain": [
       "array([[0.05      , 0.78823529, 0.06012024, ..., 0.5       , 0.        ,\n",
       "        0.125     ],\n",
       "       [0.1       , 0.36470588, 0.07014028, ..., 0.25      , 0.25      ,\n",
       "        0.375     ],\n",
       "       [0.1       , 0.25882353, 0.0751503 , ..., 0.        , 0.75      ,\n",
       "        0.        ],\n",
       "       ...,\n",
       "       [0.1       , 0.45882353, 0.04809619, ..., 0.25      , 0.        ,\n",
       "        0.        ],\n",
       "       [0.1       , 0.52941176, 0.03907816, ..., 0.        , 0.25      ,\n",
       "        0.        ],\n",
       "       [0.05      , 0.21176471, 0.04008016, ..., 0.        , 0.5       ,\n",
       "        0.        ]])"
      ]
     },
     "execution_count": 17,
     "metadata": {},
     "output_type": "execute_result"
    }
   ],
   "source": [
    "X_train_norm"
   ]
  },
  {
   "cell_type": "code",
   "execution_count": 18,
   "metadata": {},
   "outputs": [],
   "source": [
    "# Using Skicit-learn to split data into training and testing sets\n",
    "from sklearn.model_selection import train_test_split\n",
    "\n",
    "TEST_SIZE = 0.2\n",
    "RANDOM_SEED = 36\n",
    "\n",
    "# Split the data into training and testing sets\n",
    "X_train, X_test, y_train, y_test = train_test_split(X_train_norm, y_train, test_size = TEST_SIZE, random_state = RANDOM_SEED)"
   ]
  },
  {
   "cell_type": "code",
   "execution_count": 23,
   "metadata": {},
   "outputs": [
    {
     "name": "stderr",
     "output_type": "stream",
     "text": [
      "/home/codespace/.python/current/lib/python3.10/site-packages/lightgbm/sklearn.py:736: UserWarning: 'verbose' argument is deprecated and will be removed in a future release of LightGBM. Pass 'log_evaluation()' callback via 'callbacks' argument instead.\n",
      "  _log_warning(\"'verbose' argument is deprecated and will be removed in a future release of LightGBM. \"\n"
     ]
    },
    {
     "name": "stdout",
     "output_type": "stream",
     "text": [
      "[LightGBM] [Warning] feature_fraction is set=1, colsample_bytree=1.0 will be ignored. Current value: feature_fraction=1\n",
      "[LightGBM] [Warning] bagging_freq is set=1, subsample_freq=0 will be ignored. Current value: bagging_freq=1\n",
      "[LightGBM] [Warning] min_data_in_leaf is set=20, min_child_samples=20 will be ignored. Current value: min_data_in_leaf=20\n",
      "[22]\ttraining's l1: 0.132746\ttraining's binary_logloss: 0.199951\tvalid_0's l1: 0.141904\tvalid_0's binary_logloss: 0.226178\n",
      "[44]\ttraining's l1: 0.11463\ttraining's binary_logloss: 0.167457\tvalid_0's l1: 0.131008\tvalid_0's binary_logloss: 0.216025\n",
      "[66]\ttraining's l1: 0.104997\ttraining's binary_logloss: 0.146804\tvalid_0's l1: 0.127522\tvalid_0's binary_logloss: 0.215562\n",
      "[88]\ttraining's l1: 0.097014\ttraining's binary_logloss: 0.131112\tvalid_0's l1: 0.125112\tvalid_0's binary_logloss: 0.216081\n"
     ]
    },
    {
     "data": {
      "text/html": [
       "<style>#sk-container-id-1 {color: black;background-color: white;}#sk-container-id-1 pre{padding: 0;}#sk-container-id-1 div.sk-toggleable {background-color: white;}#sk-container-id-1 label.sk-toggleable__label {cursor: pointer;display: block;width: 100%;margin-bottom: 0;padding: 0.3em;box-sizing: border-box;text-align: center;}#sk-container-id-1 label.sk-toggleable__label-arrow:before {content: \"▸\";float: left;margin-right: 0.25em;color: #696969;}#sk-container-id-1 label.sk-toggleable__label-arrow:hover:before {color: black;}#sk-container-id-1 div.sk-estimator:hover label.sk-toggleable__label-arrow:before {color: black;}#sk-container-id-1 div.sk-toggleable__content {max-height: 0;max-width: 0;overflow: hidden;text-align: left;background-color: #f0f8ff;}#sk-container-id-1 div.sk-toggleable__content pre {margin: 0.2em;color: black;border-radius: 0.25em;background-color: #f0f8ff;}#sk-container-id-1 input.sk-toggleable__control:checked~div.sk-toggleable__content {max-height: 200px;max-width: 100%;overflow: auto;}#sk-container-id-1 input.sk-toggleable__control:checked~label.sk-toggleable__label-arrow:before {content: \"▾\";}#sk-container-id-1 div.sk-estimator input.sk-toggleable__control:checked~label.sk-toggleable__label {background-color: #d4ebff;}#sk-container-id-1 div.sk-label input.sk-toggleable__control:checked~label.sk-toggleable__label {background-color: #d4ebff;}#sk-container-id-1 input.sk-hidden--visually {border: 0;clip: rect(1px 1px 1px 1px);clip: rect(1px, 1px, 1px, 1px);height: 1px;margin: -1px;overflow: hidden;padding: 0;position: absolute;width: 1px;}#sk-container-id-1 div.sk-estimator {font-family: monospace;background-color: #f0f8ff;border: 1px dotted black;border-radius: 0.25em;box-sizing: border-box;margin-bottom: 0.5em;}#sk-container-id-1 div.sk-estimator:hover {background-color: #d4ebff;}#sk-container-id-1 div.sk-parallel-item::after {content: \"\";width: 100%;border-bottom: 1px solid gray;flex-grow: 1;}#sk-container-id-1 div.sk-label:hover label.sk-toggleable__label {background-color: #d4ebff;}#sk-container-id-1 div.sk-serial::before {content: \"\";position: absolute;border-left: 1px solid gray;box-sizing: border-box;top: 0;bottom: 0;left: 50%;z-index: 0;}#sk-container-id-1 div.sk-serial {display: flex;flex-direction: column;align-items: center;background-color: white;padding-right: 0.2em;padding-left: 0.2em;position: relative;}#sk-container-id-1 div.sk-item {position: relative;z-index: 1;}#sk-container-id-1 div.sk-parallel {display: flex;align-items: stretch;justify-content: center;background-color: white;position: relative;}#sk-container-id-1 div.sk-item::before, #sk-container-id-1 div.sk-parallel-item::before {content: \"\";position: absolute;border-left: 1px solid gray;box-sizing: border-box;top: 0;bottom: 0;left: 50%;z-index: -1;}#sk-container-id-1 div.sk-parallel-item {display: flex;flex-direction: column;z-index: 1;position: relative;background-color: white;}#sk-container-id-1 div.sk-parallel-item:first-child::after {align-self: flex-end;width: 50%;}#sk-container-id-1 div.sk-parallel-item:last-child::after {align-self: flex-start;width: 50%;}#sk-container-id-1 div.sk-parallel-item:only-child::after {width: 0;}#sk-container-id-1 div.sk-dashed-wrapped {border: 1px dashed gray;margin: 0 0.4em 0.5em 0.4em;box-sizing: border-box;padding-bottom: 0.4em;background-color: white;}#sk-container-id-1 div.sk-label label {font-family: monospace;font-weight: bold;display: inline-block;line-height: 1.2em;}#sk-container-id-1 div.sk-label-container {text-align: center;}#sk-container-id-1 div.sk-container {/* jupyter's `normalize.less` sets `[hidden] { display: none; }` but bootstrap.min.css set `[hidden] { display: none !important; }` so we also need the `!important` here to be able to override the default hidden behavior on the sphinx rendered scikit-learn.org. See: https://github.com/scikit-learn/scikit-learn/issues/21755 */display: inline-block !important;position: relative;}#sk-container-id-1 div.sk-text-repr-fallback {display: none;}</style><div id=\"sk-container-id-1\" class=\"sk-top-container\"><div class=\"sk-text-repr-fallback\"><pre>LGBMClassifier(bagging_freq=1, feature_fraction=1, learning_rate=0.07,\n",
       "               max_depth=20, min_data_in_leaf=20, num_leaves=100,\n",
       "               random_state=40)</pre><b>In a Jupyter environment, please rerun this cell to show the HTML representation or trust the notebook. <br />On GitHub, the HTML representation is unable to render, please try loading this page with nbviewer.org.</b></div><div class=\"sk-container\" hidden><div class=\"sk-item\"><div class=\"sk-estimator sk-toggleable\"><input class=\"sk-toggleable__control sk-hidden--visually\" id=\"sk-estimator-id-1\" type=\"checkbox\" checked><label for=\"sk-estimator-id-1\" class=\"sk-toggleable__label sk-toggleable__label-arrow\">LGBMClassifier</label><div class=\"sk-toggleable__content\"><pre>LGBMClassifier(bagging_freq=1, feature_fraction=1, learning_rate=0.07,\n",
       "               max_depth=20, min_data_in_leaf=20, num_leaves=100,\n",
       "               random_state=40)</pre></div></div></div></div></div>"
      ],
      "text/plain": [
       "LGBMClassifier(bagging_freq=1, feature_fraction=1, learning_rate=0.07,\n",
       "               max_depth=20, min_data_in_leaf=20, num_leaves=100,\n",
       "               random_state=40)"
      ]
     },
     "execution_count": 23,
     "metadata": {},
     "output_type": "execute_result"
    }
   ],
   "source": [
    "from lightgbm import LGBMClassifier\n",
    "import lightgbm.plotting as lgbm_plotting\n",
    "\n",
    "model = LGBMClassifier(learning_rate=0.07, \n",
    "                       max_depth=20, \n",
    "                       random_state=40, \n",
    "                       num_leaves=100,\n",
    "                       bagging_freq=1,\n",
    "                       min_data_in_leaf=20,\n",
    "                       feature_fraction =1)\n",
    "model.fit(X_train, y_train, eval_set=[(X_test, y_test), (X_train, y_train)],\n",
    "          verbose=22, eval_metric='l1')"
   ]
  },
  {
   "cell_type": "code",
   "execution_count": 24,
   "metadata": {},
   "outputs": [
    {
     "name": "stdout",
     "output_type": "stream",
     "text": [
      "Training accuracy 0.9537\n",
      "Testing accuracy 0.9190\n"
     ]
    }
   ],
   "source": [
    "print('Training accuracy {:.4f}'.format(model.score(X_train,y_train)))\n",
    "print('Testing accuracy {:.4f}'.format(model.score(X_test,y_test)))"
   ]
  },
  {
   "cell_type": "code",
   "execution_count": 25,
   "metadata": {},
   "outputs": [
    {
     "name": "stdout",
     "output_type": "stream",
     "text": [
      "              precision    recall  f1-score   support\n",
      "\n",
      "         0.0    0.67771   0.32097   0.43562       701\n",
      "         1.0    0.93063   0.98352   0.95635      6493\n",
      "\n",
      "    accuracy                        0.91896      7194\n",
      "   macro avg    0.80417   0.65225   0.69599      7194\n",
      "weighted avg    0.90599   0.91896   0.90561      7194\n",
      "\n"
     ]
    }
   ],
   "source": [
    "from sklearn.metrics import classification_report\n",
    "\n",
    "print(classification_report(y_test,model.predict(X_test),digits=5))"
   ]
  }
 ],
 "metadata": {
  "kernelspec": {
   "display_name": "Python 3",
   "language": "python",
   "name": "python3"
  },
  "language_info": {
   "codemirror_mode": {
    "name": "ipython",
    "version": 3
   },
   "file_extension": ".py",
   "mimetype": "text/x-python",
   "name": "python",
   "nbconvert_exporter": "python",
   "pygments_lexer": "ipython3",
   "version": "3.10.4"
  },
  "orig_nbformat": 4
 },
 "nbformat": 4,
 "nbformat_minor": 2
}

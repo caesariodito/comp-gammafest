{
 "cells": [
  {
   "cell_type": "code",
   "execution_count": 5,
   "metadata": {},
   "outputs": [],
   "source": [
    "import pandas as pd\n",
    "import numpy as np"
   ]
  },
  {
   "cell_type": "code",
   "execution_count": 6,
   "metadata": {},
   "outputs": [],
   "source": [
    "df = pd.read_csv('../datasets/train.csv')"
   ]
  },
  {
   "cell_type": "code",
   "execution_count": 7,
   "metadata": {},
   "outputs": [],
   "source": [
    "target = 'DC201'\n",
    "df = df.dropna(subset=target)"
   ]
  },
  {
   "cell_type": "code",
   "execution_count": 8,
   "metadata": {},
   "outputs": [],
   "source": [
    "NUMERICAL_DATA = ['DC216', 'DC220', 'DC142a']\n",
    "CATEGORICAL_DATA = [column for column in df.columns if column != target and column not in NUMERICAL_DATA]\n",
    "\n",
    "numerical_df = df[NUMERICAL_DATA].copy()\n",
    "categorical_df = df[CATEGORICAL_DATA].astype('category').copy()\n",
    "target_df = df[target].copy()"
   ]
  },
  {
   "cell_type": "code",
   "execution_count": 14,
   "metadata": {},
   "outputs": [],
   "source": [
    "df[CATEGORICAL_DATA] = df[CATEGORICAL_DATA].astype('category')\n",
    "df[target] = df[target].astype('category')"
   ]
  },
  {
   "cell_type": "code",
   "execution_count": 15,
   "metadata": {},
   "outputs": [
    {
     "name": "stdout",
     "output_type": "stream",
     "text": [
      "<class 'pandas.core.frame.DataFrame'>\n",
      "Index: 35970 entries, 0 to 35972\n",
      "Data columns (total 40 columns):\n",
      " #   Column  Non-Null Count  Dtype   \n",
      "---  ------  --------------  -----   \n",
      " 0   id      35970 non-null  category\n",
      " 1   DC024   35970 non-null  category\n",
      " 2   DC025   35970 non-null  category\n",
      " 3   DC205   35960 non-null  category\n",
      " 4   DC206   35949 non-null  category\n",
      " 5   DC207   35927 non-null  category\n",
      " 6   DC208   35957 non-null  category\n",
      " 7   DC209   35952 non-null  category\n",
      " 8   DC210   35929 non-null  category\n",
      " 9   DC211   35946 non-null  category\n",
      " 10  DC212   35946 non-null  category\n",
      " 11  DC213   35893 non-null  category\n",
      " 12  DC214   35961 non-null  category\n",
      " 13  DC215   35956 non-null  category\n",
      " 14  DC216   35931 non-null  float64 \n",
      " 15  DC217   35970 non-null  category\n",
      " 16  DC219   35970 non-null  category\n",
      " 17  DC220   35966 non-null  float64 \n",
      " 18  DC226   35964 non-null  category\n",
      " 19  DC230a  35959 non-null  category\n",
      " 20  DC230b  32961 non-null  category\n",
      " 21  DC232   32946 non-null  category\n",
      " 22  DC232b  32946 non-null  category\n",
      " 23  DC235   25526 non-null  category\n",
      " 24  DC237   35951 non-null  category\n",
      " 25  DC237a  35935 non-null  category\n",
      " 26  DC237b  35935 non-null  category\n",
      " 27  DC237c  35935 non-null  category\n",
      " 28  DC237d  35935 non-null  category\n",
      " 29  DC237e  35935 non-null  category\n",
      " 30  DC237f  35935 non-null  category\n",
      " 31  DC241   35358 non-null  category\n",
      " 32  DC242   30596 non-null  category\n",
      " 33  DC244   35966 non-null  category\n",
      " 34  DC246   35961 non-null  category\n",
      " 35  DC252   35956 non-null  category\n",
      " 36  DC270a  35970 non-null  category\n",
      " 37  DC109   35960 non-null  category\n",
      " 38  DC142a  35918 non-null  float64 \n",
      " 39  DC201   35970 non-null  category\n",
      "dtypes: category(37), float64(3)\n",
      "memory usage: 3.8 MB\n"
     ]
    }
   ],
   "source": [
    "df.info()"
   ]
  },
  {
   "cell_type": "code",
   "execution_count": 16,
   "metadata": {},
   "outputs": [
    {
     "name": "stderr",
     "output_type": "stream",
     "text": [
      "/home/codespace/.python/current/lib/python3.10/site-packages/miceforest/ImputationKernel.py:371: UserWarning: [id,DC205,DC213,DC214,DC215,DC217,DC226,DC237,DC237a,DC237b,DC237c,DC237d,DC237e,DC237f,DC241,DC109] have very rare categories, it is a good idea to group these, or set the min_data_in_leaf parameter to prevent lightgbm from outputting 0.0 probabilities.\n",
      "  warn(\n"
     ]
    },
    {
     "name": "stdout",
     "output_type": "stream",
     "text": [
      "Initialized logger with name mice 1-5\n",
      "Dataset 0\n",
      "1  | DC220 | DC244 | DC226 | DC246 | DC214 | DC109 | DC205 | DC230a | DC208 | DC215 | DC252 | DC209 | DC237 | DC206 | DC212 | DC211 | DC237e | DC237a | DC237b | DC237c | DC237d | DC237f | DC216 | DC210 | DC207 | DC142a | DC213 | DC241 | DC230b | DC232 | DC232b | DC242 | DC235\n",
      "2  | DC220 | DC244 | DC226 | DC246 | DC214 | DC109 | DC205 | DC230a | DC208 | DC215 | DC252 | DC209 | DC237 | DC206 | DC212 | DC211 | DC237e | DC237a | DC237b | DC237c | DC237d | DC237f | DC216 | DC210 | DC207 | DC142a | DC213 | DC241 | DC230b | DC232 | DC232b | DC242 | DC235\n",
      "3  | DC220 | DC244 | DC226 | DC246 | DC214 | DC109 | DC205 | DC230a | DC208 | DC215 | DC252 | DC209 | DC237 | DC206 | DC212 | DC211 | DC237e | DC237a | DC237b | DC237c | DC237d | DC237f | DC216 | DC210 | DC207 | DC142a | DC213 | DC241 | DC230b | DC232 | DC232b | DC242 | DC235\n",
      "4  | DC220 | DC244 | DC226 | DC246 | DC214 | DC109 | DC205 | DC230a | DC208 | DC215 | DC252 | DC209 | DC237 | DC206 | DC212 | DC211 | DC237e | DC237a | DC237b | DC237c | DC237d | DC237f | DC216 | DC210 | DC207 | DC142a | DC213 | DC241 | DC230b | DC232 | DC232b | DC242 | DC235\n",
      "5  | DC220 | DC244 | DC226 | DC246 | DC214 | DC109 | DC205 | DC230a | DC208 | DC215 | DC252 | DC209 | DC237 | DC206 | DC212 | DC211 | DC237e | DC237a | DC237b | DC237c | DC237d | DC237f | DC216 | DC210 | DC207 | DC142a | DC213 | DC241 | DC230b | DC232 | DC232b | DC242 | DC235\n"
     ]
    }
   ],
   "source": [
    "# mice forest\n",
    "\n",
    "import miceforest as mf\n",
    "\n",
    "# Create kernels.  # Mice Forest\n",
    "kernel = mf.ImputationKernel(\n",
    "  data=df,\n",
    "  save_all_iterations=True,\n",
    "  random_state=1343\n",
    ")\n",
    "# Run the MICE algorithm for 5 iterations on each of the datasets\n",
    "kernel.mice(5,verbose=True)\n",
    "#print(kernel)\n",
    "completed_dataset_mf = kernel.complete_data(dataset=0, inplace=False)"
   ]
  },
  {
   "cell_type": "code",
   "execution_count": 17,
   "metadata": {},
   "outputs": [
    {
     "data": {
      "text/plain": [
       "id        35970\n",
       "DC024        34\n",
       "DC025         2\n",
       "DC205         6\n",
       "DC206         2\n",
       "DC207         2\n",
       "DC208         2\n",
       "DC209         2\n",
       "DC210         2\n",
       "DC211         2\n",
       "DC212         2\n",
       "DC213        10\n",
       "DC214        15\n",
       "DC215        12\n",
       "DC216        15\n",
       "DC217         6\n",
       "DC219         2\n",
       "DC220        84\n",
       "DC226        11\n",
       "DC230a        5\n",
       "DC230b        2\n",
       "DC232         2\n",
       "DC232b        2\n",
       "DC235         3\n",
       "DC237         3\n",
       "DC237a        3\n",
       "DC237b        3\n",
       "DC237c        3\n",
       "DC237d        3\n",
       "DC237e        3\n",
       "DC237f        3\n",
       "DC241         4\n",
       "DC242         2\n",
       "DC244         2\n",
       "DC246         2\n",
       "DC252         5\n",
       "DC270a        5\n",
       "DC109         9\n",
       "DC142a      362\n",
       "DC201         2\n",
       "dtype: int64"
      ]
     },
     "execution_count": 17,
     "metadata": {},
     "output_type": "execute_result"
    }
   ],
   "source": [
    "completed_dataset_mf.nunique()"
   ]
  },
  {
   "cell_type": "code",
   "execution_count": 18,
   "metadata": {},
   "outputs": [
    {
     "data": {
      "text/plain": [
       "id        35970\n",
       "DC024        34\n",
       "DC025         2\n",
       "DC205         6\n",
       "DC206         2\n",
       "DC207         2\n",
       "DC208         2\n",
       "DC209         2\n",
       "DC210         2\n",
       "DC211         2\n",
       "DC212         2\n",
       "DC213        10\n",
       "DC214        15\n",
       "DC215        12\n",
       "DC216        15\n",
       "DC217         6\n",
       "DC219         2\n",
       "DC220        84\n",
       "DC226        11\n",
       "DC230a        5\n",
       "DC230b        2\n",
       "DC232         2\n",
       "DC232b        2\n",
       "DC235         3\n",
       "DC237         3\n",
       "DC237a        3\n",
       "DC237b        3\n",
       "DC237c        3\n",
       "DC237d        3\n",
       "DC237e        3\n",
       "DC237f        3\n",
       "DC241         4\n",
       "DC242         2\n",
       "DC244         2\n",
       "DC246         2\n",
       "DC252         5\n",
       "DC270a        5\n",
       "DC109         9\n",
       "DC142a      362\n",
       "DC201         2\n",
       "dtype: int64"
      ]
     },
     "execution_count": 18,
     "metadata": {},
     "output_type": "execute_result"
    }
   ],
   "source": [
    "df.nunique()"
   ]
  },
  {
   "cell_type": "code",
   "execution_count": null,
   "metadata": {},
   "outputs": [],
   "source": [
    "completed_dataset_mf.to_csv('imputed_mf_train.csv', index=False)"
   ]
  }
 ],
 "metadata": {
  "kernelspec": {
   "display_name": "Python 3",
   "language": "python",
   "name": "python3"
  },
  "language_info": {
   "codemirror_mode": {
    "name": "ipython",
    "version": 3
   },
   "file_extension": ".py",
   "mimetype": "text/x-python",
   "name": "python",
   "nbconvert_exporter": "python",
   "pygments_lexer": "ipython3",
   "version": "3.10.4"
  },
  "orig_nbformat": 4
 },
 "nbformat": 4,
 "nbformat_minor": 2
}

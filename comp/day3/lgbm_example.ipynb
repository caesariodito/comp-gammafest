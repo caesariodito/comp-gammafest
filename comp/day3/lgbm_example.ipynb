{
 "cells": [
  {
   "cell_type": "code",
   "execution_count": 4,
   "metadata": {},
   "outputs": [],
   "source": [
    "import pandas as pd\n",
    "import numpy as np\n",
    "import matplotlib.pyplot as plt\n",
    "%matplotlib inline\n",
    "import seaborn as sns"
   ]
  },
  {
   "cell_type": "code",
   "execution_count": 5,
   "metadata": {},
   "outputs": [
    {
     "data": {
      "text/plain": [
       "(35973, 40)"
      ]
     },
     "execution_count": 5,
     "metadata": {},
     "output_type": "execute_result"
    }
   ],
   "source": [
    "df = pd.read_csv(\"MF.csv\")\n",
    "df.shape"
   ]
  },
  {
   "cell_type": "code",
   "execution_count": 7,
   "metadata": {},
   "outputs": [
    {
     "data": {
      "text/plain": [
       "DC201\n",
       "1.0    32401\n",
       "0.0     3572\n",
       "Name: count, dtype: int64"
      ]
     },
     "execution_count": 7,
     "metadata": {},
     "output_type": "execute_result"
    }
   ],
   "source": [
    "df['DC201'].value_counts()"
   ]
  },
  {
   "cell_type": "code",
   "execution_count": 3,
   "metadata": {},
   "outputs": [],
   "source": [
    "df= df.drop('id',axis=1)"
   ]
  },
  {
   "cell_type": "code",
   "execution_count": 4,
   "metadata": {},
   "outputs": [
    {
     "data": {
      "text/plain": [
       "(35973, 39)"
      ]
     },
     "execution_count": 4,
     "metadata": {},
     "output_type": "execute_result"
    }
   ],
   "source": [
    "df.shape"
   ]
  },
  {
   "cell_type": "code",
   "execution_count": 5,
   "metadata": {},
   "outputs": [
    {
     "data": {
      "text/plain": [
       "<bound method NDFrame.describe of        DC024  DC025  DC205  DC206  DC207  DC208  DC209  DC210  DC211  DC212   \n",
       "0         11      2   16.0    1.0    0.0    1.0    0.0    0.0    0.0    0.0  \\\n",
       "1         11      2   31.0    1.0    0.0    1.0    0.0    0.0    1.0    0.0   \n",
       "2         11      2   12.0    1.0    0.0    1.0    1.0    1.0    1.0    0.0   \n",
       "3         11      2   12.0    1.0    0.0    0.0    0.0    0.0    1.0    0.0   \n",
       "4         11      2   12.0    1.0    0.0    1.0    1.0    0.0    0.0    0.0   \n",
       "...      ...    ...    ...    ...    ...    ...    ...    ...    ...    ...   \n",
       "35968     94      1   17.0    1.0    0.0    0.0    0.0    0.0    0.0    0.0   \n",
       "35969     94      1   12.0    1.0    0.0    1.0    1.0    0.0    0.0    0.0   \n",
       "35970     94      1   12.0    1.0    0.0    1.0    1.0    0.0    1.0    0.0   \n",
       "35971     94      1   12.0    1.0    0.0    1.0    1.0    0.0    1.0    0.0   \n",
       "35972     94      1   12.0    1.0    0.0    1.0    1.0    0.0    1.0    1.0   \n",
       "\n",
       "       ...  DC237f  DC241  DC242  DC244  DC246  DC252  DC270a  DC109  DC142a   \n",
       "0      ...     0.0    1.0    0.0    0.0    0.0    2.0       1   12.0    60.0  \\\n",
       "1      ...     0.0    1.0    0.0    1.0    1.0    1.0       2   31.0    70.0   \n",
       "2      ...     0.0    1.0    0.0    1.0    1.0    0.0       4   11.0    75.0   \n",
       "3      ...     0.0    2.0    1.0    1.0    0.0    1.0       1   11.0    85.0   \n",
       "4      ...     0.0    1.0    0.0    0.0    1.0    0.0       2   11.0    65.0   \n",
       "...    ...     ...    ...    ...    ...    ...    ...     ...    ...     ...   \n",
       "35968  ...     0.0    3.0    0.0    0.0    0.0    0.0       1   21.0     9.0   \n",
       "35969  ...     0.0    1.0    1.0    0.0    0.0    0.0       2   11.0    12.0   \n",
       "35970  ...     0.0    1.0    1.0    0.0    1.0    1.0       1   11.0    48.0   \n",
       "35971  ...     0.0    1.0    1.0    0.0    0.0    0.0       2   11.0    39.0   \n",
       "35972  ...     0.0    1.0    0.0    0.0    0.0    0.0       3   11.0    40.0   \n",
       "\n",
       "       DC201  \n",
       "0        1.0  \n",
       "1        1.0  \n",
       "2        1.0  \n",
       "3        1.0  \n",
       "4        1.0  \n",
       "...      ...  \n",
       "35968    1.0  \n",
       "35969    1.0  \n",
       "35970    1.0  \n",
       "35971    1.0  \n",
       "35972    1.0  \n",
       "\n",
       "[35973 rows x 39 columns]>"
      ]
     },
     "execution_count": 5,
     "metadata": {},
     "output_type": "execute_result"
    }
   ],
   "source": [
    "df.describe"
   ]
  },
  {
   "cell_type": "code",
   "execution_count": 6,
   "metadata": {},
   "outputs": [
    {
     "data": {
      "text/html": [
       "<div>\n",
       "<style scoped>\n",
       "    .dataframe tbody tr th:only-of-type {\n",
       "        vertical-align: middle;\n",
       "    }\n",
       "\n",
       "    .dataframe tbody tr th {\n",
       "        vertical-align: top;\n",
       "    }\n",
       "\n",
       "    .dataframe thead th {\n",
       "        text-align: right;\n",
       "    }\n",
       "</style>\n",
       "<table border=\"1\" class=\"dataframe\">\n",
       "  <thead>\n",
       "    <tr style=\"text-align: right;\">\n",
       "      <th></th>\n",
       "      <th>DC024</th>\n",
       "      <th>DC025</th>\n",
       "      <th>DC205</th>\n",
       "      <th>DC206</th>\n",
       "      <th>DC207</th>\n",
       "      <th>DC208</th>\n",
       "      <th>DC209</th>\n",
       "      <th>DC210</th>\n",
       "      <th>DC211</th>\n",
       "      <th>DC212</th>\n",
       "      <th>...</th>\n",
       "      <th>DC237f</th>\n",
       "      <th>DC241</th>\n",
       "      <th>DC242</th>\n",
       "      <th>DC244</th>\n",
       "      <th>DC246</th>\n",
       "      <th>DC252</th>\n",
       "      <th>DC270a</th>\n",
       "      <th>DC109</th>\n",
       "      <th>DC142a</th>\n",
       "      <th>DC201</th>\n",
       "    </tr>\n",
       "  </thead>\n",
       "  <tbody>\n",
       "    <tr>\n",
       "      <th>0</th>\n",
       "      <td>11</td>\n",
       "      <td>2</td>\n",
       "      <td>16.0</td>\n",
       "      <td>1.0</td>\n",
       "      <td>0.0</td>\n",
       "      <td>1.0</td>\n",
       "      <td>0.0</td>\n",
       "      <td>0.0</td>\n",
       "      <td>0.0</td>\n",
       "      <td>0.0</td>\n",
       "      <td>...</td>\n",
       "      <td>0.0</td>\n",
       "      <td>1.0</td>\n",
       "      <td>0.0</td>\n",
       "      <td>0.0</td>\n",
       "      <td>0.0</td>\n",
       "      <td>2.0</td>\n",
       "      <td>1</td>\n",
       "      <td>12.0</td>\n",
       "      <td>60.0</td>\n",
       "      <td>1.0</td>\n",
       "    </tr>\n",
       "    <tr>\n",
       "      <th>1</th>\n",
       "      <td>11</td>\n",
       "      <td>2</td>\n",
       "      <td>31.0</td>\n",
       "      <td>1.0</td>\n",
       "      <td>0.0</td>\n",
       "      <td>1.0</td>\n",
       "      <td>0.0</td>\n",
       "      <td>0.0</td>\n",
       "      <td>1.0</td>\n",
       "      <td>0.0</td>\n",
       "      <td>...</td>\n",
       "      <td>0.0</td>\n",
       "      <td>1.0</td>\n",
       "      <td>0.0</td>\n",
       "      <td>1.0</td>\n",
       "      <td>1.0</td>\n",
       "      <td>1.0</td>\n",
       "      <td>2</td>\n",
       "      <td>31.0</td>\n",
       "      <td>70.0</td>\n",
       "      <td>1.0</td>\n",
       "    </tr>\n",
       "    <tr>\n",
       "      <th>2</th>\n",
       "      <td>11</td>\n",
       "      <td>2</td>\n",
       "      <td>12.0</td>\n",
       "      <td>1.0</td>\n",
       "      <td>0.0</td>\n",
       "      <td>1.0</td>\n",
       "      <td>1.0</td>\n",
       "      <td>1.0</td>\n",
       "      <td>1.0</td>\n",
       "      <td>0.0</td>\n",
       "      <td>...</td>\n",
       "      <td>0.0</td>\n",
       "      <td>1.0</td>\n",
       "      <td>0.0</td>\n",
       "      <td>1.0</td>\n",
       "      <td>1.0</td>\n",
       "      <td>0.0</td>\n",
       "      <td>4</td>\n",
       "      <td>11.0</td>\n",
       "      <td>75.0</td>\n",
       "      <td>1.0</td>\n",
       "    </tr>\n",
       "    <tr>\n",
       "      <th>3</th>\n",
       "      <td>11</td>\n",
       "      <td>2</td>\n",
       "      <td>12.0</td>\n",
       "      <td>1.0</td>\n",
       "      <td>0.0</td>\n",
       "      <td>0.0</td>\n",
       "      <td>0.0</td>\n",
       "      <td>0.0</td>\n",
       "      <td>1.0</td>\n",
       "      <td>0.0</td>\n",
       "      <td>...</td>\n",
       "      <td>0.0</td>\n",
       "      <td>2.0</td>\n",
       "      <td>1.0</td>\n",
       "      <td>1.0</td>\n",
       "      <td>0.0</td>\n",
       "      <td>1.0</td>\n",
       "      <td>1</td>\n",
       "      <td>11.0</td>\n",
       "      <td>85.0</td>\n",
       "      <td>1.0</td>\n",
       "    </tr>\n",
       "    <tr>\n",
       "      <th>4</th>\n",
       "      <td>11</td>\n",
       "      <td>2</td>\n",
       "      <td>12.0</td>\n",
       "      <td>1.0</td>\n",
       "      <td>0.0</td>\n",
       "      <td>1.0</td>\n",
       "      <td>1.0</td>\n",
       "      <td>0.0</td>\n",
       "      <td>0.0</td>\n",
       "      <td>0.0</td>\n",
       "      <td>...</td>\n",
       "      <td>0.0</td>\n",
       "      <td>1.0</td>\n",
       "      <td>0.0</td>\n",
       "      <td>0.0</td>\n",
       "      <td>1.0</td>\n",
       "      <td>0.0</td>\n",
       "      <td>2</td>\n",
       "      <td>11.0</td>\n",
       "      <td>65.0</td>\n",
       "      <td>1.0</td>\n",
       "    </tr>\n",
       "  </tbody>\n",
       "</table>\n",
       "<p>5 rows × 39 columns</p>\n",
       "</div>"
      ],
      "text/plain": [
       "   DC024  DC025  DC205  DC206  DC207  DC208  DC209  DC210  DC211  DC212  ...   \n",
       "0     11      2   16.0    1.0    0.0    1.0    0.0    0.0    0.0    0.0  ...  \\\n",
       "1     11      2   31.0    1.0    0.0    1.0    0.0    0.0    1.0    0.0  ...   \n",
       "2     11      2   12.0    1.0    0.0    1.0    1.0    1.0    1.0    0.0  ...   \n",
       "3     11      2   12.0    1.0    0.0    0.0    0.0    0.0    1.0    0.0  ...   \n",
       "4     11      2   12.0    1.0    0.0    1.0    1.0    0.0    0.0    0.0  ...   \n",
       "\n",
       "   DC237f  DC241  DC242  DC244  DC246  DC252  DC270a  DC109  DC142a  DC201  \n",
       "0     0.0    1.0    0.0    0.0    0.0    2.0       1   12.0    60.0    1.0  \n",
       "1     0.0    1.0    0.0    1.0    1.0    1.0       2   31.0    70.0    1.0  \n",
       "2     0.0    1.0    0.0    1.0    1.0    0.0       4   11.0    75.0    1.0  \n",
       "3     0.0    2.0    1.0    1.0    0.0    1.0       1   11.0    85.0    1.0  \n",
       "4     0.0    1.0    0.0    0.0    1.0    0.0       2   11.0    65.0    1.0  \n",
       "\n",
       "[5 rows x 39 columns]"
      ]
     },
     "execution_count": 6,
     "metadata": {},
     "output_type": "execute_result"
    }
   ],
   "source": [
    "df.head()"
   ]
  },
  {
   "cell_type": "code",
   "execution_count": 7,
   "metadata": {},
   "outputs": [
    {
     "data": {
      "text/html": [
       "<div>\n",
       "<style scoped>\n",
       "    .dataframe tbody tr th:only-of-type {\n",
       "        vertical-align: middle;\n",
       "    }\n",
       "\n",
       "    .dataframe tbody tr th {\n",
       "        vertical-align: top;\n",
       "    }\n",
       "\n",
       "    .dataframe thead th {\n",
       "        text-align: right;\n",
       "    }\n",
       "</style>\n",
       "<table border=\"1\" class=\"dataframe\">\n",
       "  <thead>\n",
       "    <tr style=\"text-align: right;\">\n",
       "      <th></th>\n",
       "      <th>DC024</th>\n",
       "      <th>DC025</th>\n",
       "      <th>DC205</th>\n",
       "      <th>DC206</th>\n",
       "      <th>DC207</th>\n",
       "      <th>DC208</th>\n",
       "      <th>DC209</th>\n",
       "      <th>DC210</th>\n",
       "      <th>DC211</th>\n",
       "      <th>DC212</th>\n",
       "      <th>...</th>\n",
       "      <th>DC237f</th>\n",
       "      <th>DC241</th>\n",
       "      <th>DC242</th>\n",
       "      <th>DC244</th>\n",
       "      <th>DC246</th>\n",
       "      <th>DC252</th>\n",
       "      <th>DC270a</th>\n",
       "      <th>DC109</th>\n",
       "      <th>DC142a</th>\n",
       "      <th>DC201</th>\n",
       "    </tr>\n",
       "  </thead>\n",
       "  <tbody>\n",
       "    <tr>\n",
       "      <th>35968</th>\n",
       "      <td>94</td>\n",
       "      <td>1</td>\n",
       "      <td>17.0</td>\n",
       "      <td>1.0</td>\n",
       "      <td>0.0</td>\n",
       "      <td>0.0</td>\n",
       "      <td>0.0</td>\n",
       "      <td>0.0</td>\n",
       "      <td>0.0</td>\n",
       "      <td>0.0</td>\n",
       "      <td>...</td>\n",
       "      <td>0.0</td>\n",
       "      <td>3.0</td>\n",
       "      <td>0.0</td>\n",
       "      <td>0.0</td>\n",
       "      <td>0.0</td>\n",
       "      <td>0.0</td>\n",
       "      <td>1</td>\n",
       "      <td>21.0</td>\n",
       "      <td>9.0</td>\n",
       "      <td>1.0</td>\n",
       "    </tr>\n",
       "    <tr>\n",
       "      <th>35969</th>\n",
       "      <td>94</td>\n",
       "      <td>1</td>\n",
       "      <td>12.0</td>\n",
       "      <td>1.0</td>\n",
       "      <td>0.0</td>\n",
       "      <td>1.0</td>\n",
       "      <td>1.0</td>\n",
       "      <td>0.0</td>\n",
       "      <td>0.0</td>\n",
       "      <td>0.0</td>\n",
       "      <td>...</td>\n",
       "      <td>0.0</td>\n",
       "      <td>1.0</td>\n",
       "      <td>1.0</td>\n",
       "      <td>0.0</td>\n",
       "      <td>0.0</td>\n",
       "      <td>0.0</td>\n",
       "      <td>2</td>\n",
       "      <td>11.0</td>\n",
       "      <td>12.0</td>\n",
       "      <td>1.0</td>\n",
       "    </tr>\n",
       "    <tr>\n",
       "      <th>35970</th>\n",
       "      <td>94</td>\n",
       "      <td>1</td>\n",
       "      <td>12.0</td>\n",
       "      <td>1.0</td>\n",
       "      <td>0.0</td>\n",
       "      <td>1.0</td>\n",
       "      <td>1.0</td>\n",
       "      <td>0.0</td>\n",
       "      <td>1.0</td>\n",
       "      <td>0.0</td>\n",
       "      <td>...</td>\n",
       "      <td>0.0</td>\n",
       "      <td>1.0</td>\n",
       "      <td>1.0</td>\n",
       "      <td>0.0</td>\n",
       "      <td>1.0</td>\n",
       "      <td>1.0</td>\n",
       "      <td>1</td>\n",
       "      <td>11.0</td>\n",
       "      <td>48.0</td>\n",
       "      <td>1.0</td>\n",
       "    </tr>\n",
       "    <tr>\n",
       "      <th>35971</th>\n",
       "      <td>94</td>\n",
       "      <td>1</td>\n",
       "      <td>12.0</td>\n",
       "      <td>1.0</td>\n",
       "      <td>0.0</td>\n",
       "      <td>1.0</td>\n",
       "      <td>1.0</td>\n",
       "      <td>0.0</td>\n",
       "      <td>1.0</td>\n",
       "      <td>0.0</td>\n",
       "      <td>...</td>\n",
       "      <td>0.0</td>\n",
       "      <td>1.0</td>\n",
       "      <td>1.0</td>\n",
       "      <td>0.0</td>\n",
       "      <td>0.0</td>\n",
       "      <td>0.0</td>\n",
       "      <td>2</td>\n",
       "      <td>11.0</td>\n",
       "      <td>39.0</td>\n",
       "      <td>1.0</td>\n",
       "    </tr>\n",
       "    <tr>\n",
       "      <th>35972</th>\n",
       "      <td>94</td>\n",
       "      <td>1</td>\n",
       "      <td>12.0</td>\n",
       "      <td>1.0</td>\n",
       "      <td>0.0</td>\n",
       "      <td>1.0</td>\n",
       "      <td>1.0</td>\n",
       "      <td>0.0</td>\n",
       "      <td>1.0</td>\n",
       "      <td>1.0</td>\n",
       "      <td>...</td>\n",
       "      <td>0.0</td>\n",
       "      <td>1.0</td>\n",
       "      <td>0.0</td>\n",
       "      <td>0.0</td>\n",
       "      <td>0.0</td>\n",
       "      <td>0.0</td>\n",
       "      <td>3</td>\n",
       "      <td>11.0</td>\n",
       "      <td>40.0</td>\n",
       "      <td>1.0</td>\n",
       "    </tr>\n",
       "  </tbody>\n",
       "</table>\n",
       "<p>5 rows × 39 columns</p>\n",
       "</div>"
      ],
      "text/plain": [
       "       DC024  DC025  DC205  DC206  DC207  DC208  DC209  DC210  DC211  DC212   \n",
       "35968     94      1   17.0    1.0    0.0    0.0    0.0    0.0    0.0    0.0  \\\n",
       "35969     94      1   12.0    1.0    0.0    1.0    1.0    0.0    0.0    0.0   \n",
       "35970     94      1   12.0    1.0    0.0    1.0    1.0    0.0    1.0    0.0   \n",
       "35971     94      1   12.0    1.0    0.0    1.0    1.0    0.0    1.0    0.0   \n",
       "35972     94      1   12.0    1.0    0.0    1.0    1.0    0.0    1.0    1.0   \n",
       "\n",
       "       ...  DC237f  DC241  DC242  DC244  DC246  DC252  DC270a  DC109  DC142a   \n",
       "35968  ...     0.0    3.0    0.0    0.0    0.0    0.0       1   21.0     9.0  \\\n",
       "35969  ...     0.0    1.0    1.0    0.0    0.0    0.0       2   11.0    12.0   \n",
       "35970  ...     0.0    1.0    1.0    0.0    1.0    1.0       1   11.0    48.0   \n",
       "35971  ...     0.0    1.0    1.0    0.0    0.0    0.0       2   11.0    39.0   \n",
       "35972  ...     0.0    1.0    0.0    0.0    0.0    0.0       3   11.0    40.0   \n",
       "\n",
       "       DC201  \n",
       "35968    1.0  \n",
       "35969    1.0  \n",
       "35970    1.0  \n",
       "35971    1.0  \n",
       "35972    1.0  \n",
       "\n",
       "[5 rows x 39 columns]"
      ]
     },
     "execution_count": 7,
     "metadata": {},
     "output_type": "execute_result"
    }
   ],
   "source": [
    "df.tail()"
   ]
  },
  {
   "cell_type": "code",
   "execution_count": 8,
   "metadata": {},
   "outputs": [],
   "source": [
    "# df.to_csv(\"MF.csv\")"
   ]
  },
  {
   "cell_type": "code",
   "execution_count": 9,
   "metadata": {},
   "outputs": [],
   "source": [
    "target_column = \"DC201\""
   ]
  },
  {
   "cell_type": "code",
   "execution_count": 10,
   "metadata": {},
   "outputs": [],
   "source": [
    "y_train = np.array(df[target_column]) # value dari label\n",
    "df = df.drop(target_column, axis=1) # drop target\n",
    "feature_list = list(df.columns) # list column\n",
    "X_train = np.array(df) #"
   ]
  },
  {
   "attachments": {},
   "cell_type": "markdown",
   "metadata": {},
   "source": [
    "SMOTE"
   ]
  },
  {
   "cell_type": "code",
   "execution_count": 11,
   "metadata": {},
   "outputs": [
    {
     "name": "stdout",
     "output_type": "stream",
     "text": [
      "Jumlah sampel sebelum oversampling: 35973\n",
      "Jumlah sampel setelah oversampling: 64802\n"
     ]
    }
   ],
   "source": [
    "from imblearn.over_sampling import SMOTE\n",
    "from sklearn.datasets import make_classification\n",
    "\n",
    "\n",
    "# Melakukan oversampling dengan SMOTE\n",
    "smote = SMOTE()\n",
    "X_resampled, y_resampled = smote.fit_resample(X_train, y_train)\n",
    "\n",
    "# Melihat jumlah sampel setelah oversampling\n",
    "print(\"Jumlah sampel sebelum oversampling:\", len(X_train))\n",
    "print(\"Jumlah sampel setelah oversampling:\", len(X_resampled))"
   ]
  },
  {
   "cell_type": "code",
   "execution_count": 12,
   "metadata": {},
   "outputs": [],
   "source": [
    "# # Use Seaborn to make a correlation matrix\n",
    "\n",
    "# corr_matrix = df.corr()\n",
    "# fig, ax = plt.subplots(figsize=(15,10))\n",
    "# ax = sns.heatmap(corr_matrix,\n",
    "#                 annot=True,\n",
    "#                 linewidths=0.5,\n",
    "#                 fmt=\".2f\",\n",
    "#                 cmap=\"YlGnBu\");"
   ]
  },
  {
   "cell_type": "code",
   "execution_count": 13,
   "metadata": {},
   "outputs": [],
   "source": [
    "from sklearn.preprocessing import MinMaxScaler\n",
    "\n",
    "scaler = MinMaxScaler()\n",
    "X_train_norm = scaler.fit_transform(X_resampled)"
   ]
  },
  {
   "cell_type": "code",
   "execution_count": 14,
   "metadata": {},
   "outputs": [
    {
     "data": {
      "text/plain": [
       "array([[0.        , 1.        , 0.04761905, ..., 0.        , 0.01176471,\n",
       "        0.06012024],\n",
       "       [0.        , 1.        , 0.22619048, ..., 0.25      , 0.23529412,\n",
       "        0.07014028],\n",
       "       [0.        , 1.        , 0.        , ..., 0.75      , 0.        ,\n",
       "        0.0751503 ],\n",
       "       ...,\n",
       "       [0.04890592, 0.01973045, 0.        , ..., 0.00493261, 0.        ,\n",
       "        0.03206413],\n",
       "       [0.07629345, 0.33235661, 0.03179254, ..., 0.08308915, 0.00785463,\n",
       "        0.02137217],\n",
       "       [0.78313253, 1.        , 0.22619048, ..., 0.0438167 , 0.23529412,\n",
       "        0.07838363]])"
      ]
     },
     "execution_count": 14,
     "metadata": {},
     "output_type": "execute_result"
    }
   ],
   "source": [
    "X_train_norm"
   ]
  },
  {
   "cell_type": "code",
   "execution_count": 15,
   "metadata": {},
   "outputs": [],
   "source": [
    "# Using Skicit-learn to split data into training and testing sets\n",
    "from sklearn.model_selection import train_test_split\n",
    "\n",
    "TEST_SIZE = 0.2\n",
    "RANDOM_SEED = 36\n",
    "\n",
    "# Split the data into training and testing sets\n",
    "X_train, X_test, y_train, y_test = train_test_split(X_train_norm, y_resampled, test_size = TEST_SIZE, random_state = RANDOM_SEED)"
   ]
  },
  {
   "cell_type": "code",
   "execution_count": 16,
   "metadata": {},
   "outputs": [
    {
     "name": "stderr",
     "output_type": "stream",
     "text": [
      "c:\\Users\\asus\\AppData\\Local\\Programs\\Python\\Python311\\Lib\\site-packages\\lightgbm\\sklearn.py:736: UserWarning: 'verbose' argument is deprecated and will be removed in a future release of LightGBM. Pass 'log_evaluation()' callback via 'callbacks' argument instead.\n",
      "  _log_warning(\"'verbose' argument is deprecated and will be removed in a future release of LightGBM. \"\n"
     ]
    },
    {
     "name": "stdout",
     "output_type": "stream",
     "text": [
      "[LightGBM] [Warning] feature_fraction is set=1, colsample_bytree=1.0 will be ignored. Current value: feature_fraction=1\n",
      "[LightGBM] [Warning] min_data_in_leaf is set=20, min_child_samples=20 will be ignored. Current value: min_data_in_leaf=20\n",
      "[LightGBM] [Warning] bagging_freq is set=1, subsample_freq=0 will be ignored. Current value: bagging_freq=1\n",
      "[22]\ttraining's l1: 0.185958\ttraining's binary_logloss: 0.228821\tvalid_0's l1: 0.189098\tvalid_0's binary_logloss: 0.234535\n",
      "[44]\ttraining's l1: 0.102949\ttraining's binary_logloss: 0.13802\tvalid_0's l1: 0.107921\tvalid_0's binary_logloss: 0.148558\n",
      "[66]\ttraining's l1: 0.0759627\ttraining's binary_logloss: 0.106979\tvalid_0's l1: 0.0832518\tvalid_0's binary_logloss: 0.124834\n",
      "[88]\ttraining's l1: 0.0650776\ttraining's binary_logloss: 0.0908028\tvalid_0's l1: 0.0748963\tvalid_0's binary_logloss: 0.117583\n",
      "Training accuracy 0.9682\n",
      "Testing accuracy 0.9566\n",
      "              precision    recall  f1-score   support\n",
      "\n",
      "         0.0    0.97947   0.93236   0.95533      6446\n",
      "         1.0    0.93612   0.98066   0.95787      6515\n",
      "\n",
      "    accuracy                        0.95664     12961\n",
      "   macro avg    0.95779   0.95651   0.95660     12961\n",
      "weighted avg    0.95768   0.95664   0.95661     12961\n",
      "\n"
     ]
    }
   ],
   "source": [
    "from lightgbm import LGBMClassifier\n",
    "import lightgbm.plotting as lgbm_plotting\n",
    "\n",
    "model = LGBMClassifier(learning_rate=0.07, \n",
    "                       max_depth=20, \n",
    "                       random_state=40, \n",
    "                       num_leaves=100,\n",
    "                       bagging_freq=1,\n",
    "                       min_data_in_leaf=20,\n",
    "                       feature_fraction =1)\n",
    "model.fit(X_train, y_train, eval_set=[(X_test, y_test), (X_train, y_train)],\n",
    "          verbose=22, eval_metric='l1')\n",
    "print('Training accuracy {:.4f}'.format(model.score(X_train,y_train)))\n",
    "print('Testing accuracy {:.4f}'.format(model.score(X_test,y_test)))\n",
    "from sklearn.metrics import classification_report\n",
    "\n",
    "\n",
    "print(classification_report(y_test,model.predict(X_test),digits=5))"
   ]
  },
  {
   "cell_type": "code",
   "execution_count": 17,
   "metadata": {},
   "outputs": [],
   "source": [
    "# from lightgbm import LGBMClassifier\n",
    "# import lightgbm.plotting as lgbm_plotting\n",
    "\n",
    "# model = LGBMClassifier(learning_rate=0.07, \n",
    "#                        max_depth=26, \n",
    "#                        random_state=50, \n",
    "#                        num_leaves=100,\n",
    "#                        bagging_freq=1,\n",
    "#                        min_data_in_leaf=20,\n",
    "#                        feature_fraction =1)\n",
    "# model.fit(X_train, y_train, eval_set=[(X_test, y_test), (X_train, y_train)],\n",
    "#           verbose=22, eval_metric='l1')\n",
    "# print('Training accuracy {:.4f}'.format(model.score(X_train,y_train)))\n",
    "# print('Testing accuracy {:.4f}'.format(model.score(X_test,y_test)))\n",
    "# from sklearn.metrics import classification_report\n",
    "\n",
    "\n",
    "# print(classification_report(y_test,model.predict(X_test),digits=5))"
   ]
  },
  {
   "cell_type": "code",
   "execution_count": 18,
   "metadata": {},
   "outputs": [
    {
     "name": "stdout",
     "output_type": "stream",
     "text": [
      "Training accuracy 0.9682\n",
      "Testing accuracy 0.9566\n"
     ]
    }
   ],
   "source": [
    "print('Training accuracy {:.4f}'.format(model.score(X_train,y_train)))\n",
    "print('Testing accuracy {:.4f}'.format(model.score(X_test,y_test)))"
   ]
  },
  {
   "cell_type": "code",
   "execution_count": 19,
   "metadata": {},
   "outputs": [
    {
     "name": "stdout",
     "output_type": "stream",
     "text": [
      "              precision    recall  f1-score   support\n",
      "\n",
      "         0.0       0.98      0.93      0.96      6446\n",
      "         1.0       0.94      0.98      0.96      6515\n",
      "\n",
      "    accuracy                           0.96     12961\n",
      "   macro avg       0.96      0.96      0.96     12961\n",
      "weighted avg       0.96      0.96      0.96     12961\n",
      "\n"
     ]
    }
   ],
   "source": [
    "from sklearn.metrics import classification_report\n",
    "\n",
    "\n",
    "print(classification_report(y_test,model.predict(X_test)))"
   ]
  }
 ],
 "metadata": {
  "kernelspec": {
   "display_name": "Python 3",
   "language": "python",
   "name": "python3"
  },
  "language_info": {
   "codemirror_mode": {
    "name": "ipython",
    "version": 3
   },
   "file_extension": ".py",
   "mimetype": "text/x-python",
   "name": "python",
   "nbconvert_exporter": "python",
   "pygments_lexer": "ipython3",
   "version": "3.11.0"
  },
  "orig_nbformat": 4
 },
 "nbformat": 4,
 "nbformat_minor": 2
}

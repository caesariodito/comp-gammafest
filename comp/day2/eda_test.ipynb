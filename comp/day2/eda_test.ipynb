{
 "cells": [
  {
   "cell_type": "code",
   "execution_count": 2,
   "metadata": {},
   "outputs": [],
   "source": [
    "# Regular EDA (exploration data analysis) and plotting libraries\n",
    "import numpy as np\n",
    "import pandas as pd\n",
    "import matplotlib.pyplot as plt\n",
    "%matplotlib inline\n",
    "import seaborn as sns"
   ]
  },
  {
   "cell_type": "code",
   "execution_count": 3,
   "metadata": {},
   "outputs": [
    {
     "name": "stdout",
     "output_type": "stream",
     "text": [
      "(11990, 39)\n"
     ]
    }
   ],
   "source": [
    "# use pandas to load data into a DataFrame\n",
    "df = pd.read_csv(\"../datasets/test.csv\")\n",
    "# df = pd.read_csv(\"preprocessed_datasets/dropped_nan.csv\")\n",
    "# df = pd.read_csv(\"preprocessed_datasets/encoded_train_df.csv\")\n",
    "# df_test = pd.read_csv(\"datasets/test.csv\")\n",
    "# df = pd.read_csv('preprocessed_datasets/mf_df.csv')\n",
    "print(df.shape) # (rows, columns)\n",
    "# print(df_test.shape)"
   ]
  },
  {
   "cell_type": "code",
   "execution_count": 4,
   "metadata": {},
   "outputs": [
    {
     "data": {
      "text/plain": [
       "id        11990\n",
       "DC024        34\n",
       "DC025         2\n",
       "DC205         6\n",
       "DC206         2\n",
       "DC207         2\n",
       "DC208         2\n",
       "DC209         2\n",
       "DC210         2\n",
       "DC211         2\n",
       "DC212         2\n",
       "DC213        11\n",
       "DC214        16\n",
       "DC215        12\n",
       "DC216        14\n",
       "DC217         6\n",
       "DC219         2\n",
       "DC220        82\n",
       "DC226         9\n",
       "DC230a        2\n",
       "DC230b        2\n",
       "DC232         2\n",
       "DC232b        2\n",
       "DC235         3\n",
       "DC237         3\n",
       "DC237a        3\n",
       "DC237b        3\n",
       "DC237c        3\n",
       "DC237d        3\n",
       "DC237e        3\n",
       "DC237f        3\n",
       "DC241         1\n",
       "DC242         2\n",
       "DC244         2\n",
       "DC246         2\n",
       "DC252         5\n",
       "DC270a        5\n",
       "DC109         9\n",
       "DC142a      283\n",
       "dtype: int64"
      ]
     },
     "execution_count": 4,
     "metadata": {},
     "output_type": "execute_result"
    }
   ],
   "source": [
    "df.nunique()"
   ]
  },
  {
   "cell_type": "code",
   "execution_count": 11,
   "metadata": {},
   "outputs": [],
   "source": [
    "except_column = ['DC216', 'DC220', 'DC142a']\n",
    "ALL_COLUMNS = [column for column in df.columns if column not in except_column]"
   ]
  },
  {
   "cell_type": "code",
   "execution_count": 12,
   "metadata": {},
   "outputs": [
    {
     "name": "stdout",
     "output_type": "stream",
     "text": [
      "id [    4     5     8 ... 47939 47954 47960]\n",
      "---\n",
      "DC024 [11 12 13 14 15 16 17 18 19 21 31 32 33 34 35 36 51 52 53 61 62 63 64 65\n",
      " 71 72 73 74 75 76 81 82 91 94]\n",
      "---\n",
      "DC025 [1 2]\n",
      "---\n",
      "DC205 [12 16 17 21 31 96]\n",
      "---\n",
      "DC206 [0 1]\n",
      "---\n",
      "DC207 [0 1]\n",
      "---\n",
      "DC208 [0 1]\n",
      "---\n",
      "DC209 [0 1]\n",
      "---\n",
      "DC210 [0 1]\n",
      "---\n",
      "DC211 [0 1]\n",
      "---\n",
      "DC212 [0 1]\n",
      "---\n",
      "DC213 [11 12 21 22 31 32 33 34 35 36 96]\n",
      "---\n",
      "DC214 [12 13 21 22 23 24 25 26 31 32 34 35 36 37 38 96]\n",
      "---\n",
      "DC215 [12 13 21 22 23 31 32 33 34 35 36 96]\n",
      "---\n",
      "DC217 [0 1 2 3 4 5]\n",
      "---\n",
      "DC219 [1 2]\n",
      "---\n",
      "DC226 [1 2 3 4 5 6 7 8 9]\n",
      "---\n",
      "DC230a [1 2]\n",
      "---\n",
      "DC230b [0 1]\n",
      "---\n",
      "DC232 [0 1]\n",
      "---\n",
      "DC232b [0 1]\n",
      "---\n",
      "DC235 [1 2 3]\n",
      "---\n",
      "DC237 [0 1 8]\n",
      "---\n",
      "DC237a [0 1 8]\n",
      "---\n",
      "DC237b [0 1 8]\n",
      "---\n",
      "DC237c [0 1 8]\n",
      "---\n",
      "DC237d [0 1 8]\n",
      "---\n",
      "DC237e [0 1 8]\n",
      "---\n",
      "DC237f [0 1 8]\n",
      "---\n",
      "DC241 [1]\n",
      "---\n",
      "DC242 [0 1]\n",
      "---\n",
      "DC244 [0 1]\n",
      "---\n",
      "DC246 [0 1]\n",
      "---\n",
      "DC252 [0 1 2 3 4]\n",
      "---\n",
      "DC270a [1 2 3 4 5]\n",
      "---\n",
      "DC109 [11 12 21 31 32 33 41 51 96]\n",
      "---\n"
     ]
    }
   ],
   "source": [
    "for column in ALL_COLUMNS:\n",
    "    print(column, np.sort(df[column].unique()))\n",
    "    print('---')"
   ]
  }
 ],
 "metadata": {
  "kernelspec": {
   "display_name": "Python 3",
   "language": "python",
   "name": "python3"
  },
  "language_info": {
   "codemirror_mode": {
    "name": "ipython",
    "version": 3
   },
   "file_extension": ".py",
   "mimetype": "text/x-python",
   "name": "python",
   "nbconvert_exporter": "python",
   "pygments_lexer": "ipython3",
   "version": "3.10.4"
  },
  "orig_nbformat": 4
 },
 "nbformat": 4,
 "nbformat_minor": 2
}

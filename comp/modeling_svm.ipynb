{
 "cells": [
  {
   "attachments": {},
   "cell_type": "markdown",
   "metadata": {},
   "source": [
    "## Import Data"
   ]
  },
  {
   "cell_type": "code",
   "execution_count": 3,
   "metadata": {},
   "outputs": [],
   "source": [
    "import pandas as pd\n",
    "import numpy as np"
   ]
  },
  {
   "cell_type": "code",
   "execution_count": 4,
   "metadata": {},
   "outputs": [
    {
     "data": {
      "text/plain": [
       "(35970, 8)"
      ]
     },
     "execution_count": 4,
     "metadata": {},
     "output_type": "execute_result"
    }
   ],
   "source": [
    "# use pandas to load data into a DataFrame\n",
    "df = pd.read_csv(\"preprocessed_datasets/important_features.csv\")\n",
    "df.shape # (rows, columns)"
   ]
  },
  {
   "cell_type": "code",
   "execution_count": 5,
   "metadata": {},
   "outputs": [
    {
     "data": {
      "text/html": [
       "<div>\n",
       "<style scoped>\n",
       "    .dataframe tbody tr th:only-of-type {\n",
       "        vertical-align: middle;\n",
       "    }\n",
       "\n",
       "    .dataframe tbody tr th {\n",
       "        vertical-align: top;\n",
       "    }\n",
       "\n",
       "    .dataframe thead th {\n",
       "        text-align: right;\n",
       "    }\n",
       "</style>\n",
       "<table border=\"1\" class=\"dataframe\">\n",
       "  <thead>\n",
       "    <tr style=\"text-align: right;\">\n",
       "      <th></th>\n",
       "      <th>DC024</th>\n",
       "      <th>DC205</th>\n",
       "      <th>DC214</th>\n",
       "      <th>DC220</th>\n",
       "      <th>DC235</th>\n",
       "      <th>DC109</th>\n",
       "      <th>DC142a</th>\n",
       "      <th>DC201</th>\n",
       "    </tr>\n",
       "  </thead>\n",
       "  <tbody>\n",
       "    <tr>\n",
       "      <th>0</th>\n",
       "      <td>11.0</td>\n",
       "      <td>16.0</td>\n",
       "      <td>36.0</td>\n",
       "      <td>80.0</td>\n",
       "      <td>1.0</td>\n",
       "      <td>12.0</td>\n",
       "      <td>60.0</td>\n",
       "      <td>1.0</td>\n",
       "    </tr>\n",
       "    <tr>\n",
       "      <th>1</th>\n",
       "      <td>11.0</td>\n",
       "      <td>31.0</td>\n",
       "      <td>36.0</td>\n",
       "      <td>44.0</td>\n",
       "      <td>1.0</td>\n",
       "      <td>31.0</td>\n",
       "      <td>70.0</td>\n",
       "      <td>1.0</td>\n",
       "    </tr>\n",
       "    <tr>\n",
       "      <th>2</th>\n",
       "      <td>11.0</td>\n",
       "      <td>12.0</td>\n",
       "      <td>36.0</td>\n",
       "      <td>35.0</td>\n",
       "      <td>1.0</td>\n",
       "      <td>11.0</td>\n",
       "      <td>75.0</td>\n",
       "      <td>1.0</td>\n",
       "    </tr>\n",
       "    <tr>\n",
       "      <th>3</th>\n",
       "      <td>11.0</td>\n",
       "      <td>12.0</td>\n",
       "      <td>36.0</td>\n",
       "      <td>79.0</td>\n",
       "      <td>1.0</td>\n",
       "      <td>11.0</td>\n",
       "      <td>85.0</td>\n",
       "      <td>1.0</td>\n",
       "    </tr>\n",
       "    <tr>\n",
       "      <th>4</th>\n",
       "      <td>11.0</td>\n",
       "      <td>12.0</td>\n",
       "      <td>36.0</td>\n",
       "      <td>37.0</td>\n",
       "      <td>1.0</td>\n",
       "      <td>11.0</td>\n",
       "      <td>65.0</td>\n",
       "      <td>1.0</td>\n",
       "    </tr>\n",
       "  </tbody>\n",
       "</table>\n",
       "</div>"
      ],
      "text/plain": [
       "   DC024  DC205  DC214  DC220  DC235  DC109  DC142a  DC201\n",
       "0   11.0   16.0   36.0   80.0    1.0   12.0    60.0    1.0\n",
       "1   11.0   31.0   36.0   44.0    1.0   31.0    70.0    1.0\n",
       "2   11.0   12.0   36.0   35.0    1.0   11.0    75.0    1.0\n",
       "3   11.0   12.0   36.0   79.0    1.0   11.0    85.0    1.0\n",
       "4   11.0   12.0   36.0   37.0    1.0   11.0    65.0    1.0"
      ]
     },
     "execution_count": 5,
     "metadata": {},
     "output_type": "execute_result"
    }
   ],
   "source": [
    "df.head()"
   ]
  },
  {
   "cell_type": "code",
   "execution_count": 6,
   "metadata": {},
   "outputs": [],
   "source": [
    "target_column = 'DC201'"
   ]
  },
  {
   "cell_type": "code",
   "execution_count": 7,
   "metadata": {},
   "outputs": [],
   "source": [
    "df[target_column] = df[target_column].astype(int)"
   ]
  },
  {
   "cell_type": "code",
   "execution_count": 8,
   "metadata": {},
   "outputs": [
    {
     "data": {
      "text/html": [
       "<div>\n",
       "<style scoped>\n",
       "    .dataframe tbody tr th:only-of-type {\n",
       "        vertical-align: middle;\n",
       "    }\n",
       "\n",
       "    .dataframe tbody tr th {\n",
       "        vertical-align: top;\n",
       "    }\n",
       "\n",
       "    .dataframe thead th {\n",
       "        text-align: right;\n",
       "    }\n",
       "</style>\n",
       "<table border=\"1\" class=\"dataframe\">\n",
       "  <thead>\n",
       "    <tr style=\"text-align: right;\">\n",
       "      <th></th>\n",
       "      <th>DC024</th>\n",
       "      <th>DC205</th>\n",
       "      <th>DC214</th>\n",
       "      <th>DC220</th>\n",
       "      <th>DC235</th>\n",
       "      <th>DC109</th>\n",
       "      <th>DC142a</th>\n",
       "      <th>DC201</th>\n",
       "    </tr>\n",
       "  </thead>\n",
       "  <tbody>\n",
       "    <tr>\n",
       "      <th>0</th>\n",
       "      <td>11.0</td>\n",
       "      <td>16.0</td>\n",
       "      <td>36.0</td>\n",
       "      <td>80.0</td>\n",
       "      <td>1.0</td>\n",
       "      <td>12.0</td>\n",
       "      <td>60.0</td>\n",
       "      <td>1</td>\n",
       "    </tr>\n",
       "    <tr>\n",
       "      <th>1</th>\n",
       "      <td>11.0</td>\n",
       "      <td>31.0</td>\n",
       "      <td>36.0</td>\n",
       "      <td>44.0</td>\n",
       "      <td>1.0</td>\n",
       "      <td>31.0</td>\n",
       "      <td>70.0</td>\n",
       "      <td>1</td>\n",
       "    </tr>\n",
       "    <tr>\n",
       "      <th>2</th>\n",
       "      <td>11.0</td>\n",
       "      <td>12.0</td>\n",
       "      <td>36.0</td>\n",
       "      <td>35.0</td>\n",
       "      <td>1.0</td>\n",
       "      <td>11.0</td>\n",
       "      <td>75.0</td>\n",
       "      <td>1</td>\n",
       "    </tr>\n",
       "    <tr>\n",
       "      <th>3</th>\n",
       "      <td>11.0</td>\n",
       "      <td>12.0</td>\n",
       "      <td>36.0</td>\n",
       "      <td>79.0</td>\n",
       "      <td>1.0</td>\n",
       "      <td>11.0</td>\n",
       "      <td>85.0</td>\n",
       "      <td>1</td>\n",
       "    </tr>\n",
       "    <tr>\n",
       "      <th>4</th>\n",
       "      <td>11.0</td>\n",
       "      <td>12.0</td>\n",
       "      <td>36.0</td>\n",
       "      <td>37.0</td>\n",
       "      <td>1.0</td>\n",
       "      <td>11.0</td>\n",
       "      <td>65.0</td>\n",
       "      <td>1</td>\n",
       "    </tr>\n",
       "  </tbody>\n",
       "</table>\n",
       "</div>"
      ],
      "text/plain": [
       "   DC024  DC205  DC214  DC220  DC235  DC109  DC142a  DC201\n",
       "0   11.0   16.0   36.0   80.0    1.0   12.0    60.0      1\n",
       "1   11.0   31.0   36.0   44.0    1.0   31.0    70.0      1\n",
       "2   11.0   12.0   36.0   35.0    1.0   11.0    75.0      1\n",
       "3   11.0   12.0   36.0   79.0    1.0   11.0    85.0      1\n",
       "4   11.0   12.0   36.0   37.0    1.0   11.0    65.0      1"
      ]
     },
     "execution_count": 8,
     "metadata": {},
     "output_type": "execute_result"
    }
   ],
   "source": [
    "df.head()"
   ]
  },
  {
   "cell_type": "code",
   "execution_count": 9,
   "metadata": {},
   "outputs": [
    {
     "data": {
      "text/plain": [
       "DC024        34\n",
       "DC205        16\n",
       "DC214        24\n",
       "DC220        88\n",
       "DC235     10447\n",
       "DC109        19\n",
       "DC142a      414\n",
       "DC201         2\n",
       "dtype: int64"
      ]
     },
     "execution_count": 9,
     "metadata": {},
     "output_type": "execute_result"
    }
   ],
   "source": [
    "df.nunique()"
   ]
  },
  {
   "cell_type": "code",
   "execution_count": 10,
   "metadata": {},
   "outputs": [
    {
     "data": {
      "text/plain": [
       "[1, 0]"
      ]
     },
     "execution_count": 10,
     "metadata": {},
     "output_type": "execute_result"
    }
   ],
   "source": [
    "target_list = df[target_column].value_counts()\n",
    "target_list = target_list.index.tolist()\n",
    "target_list"
   ]
  },
  {
   "cell_type": "code",
   "execution_count": 11,
   "metadata": {},
   "outputs": [
    {
     "data": {
      "image/png": "[encoded data removed]",
      "text/plain": [
       "<Figure size 2000x2000 with 7 Axes>"
      ]
     },
     "metadata": {},
     "output_type": "display_data"
    }
   ],
   "source": [
    "# Distribution of features\n",
    "import matplotlib.pyplot as plt\n",
    "%matplotlib inline\n",
    "import seaborn as sns\n",
    "\n",
    "target_value = []\n",
    "\n",
    "for target in target_list:\n",
    "    query = str(target_column) + ' == ' + str(target)\n",
    "    target_value.append(df.query(query))\n",
    "\n",
    "# colors = ['salmon', 'red', 'blue', 'lightblue', 'orange', 'black', 'gray', 'pink', 'navy', 'white']\n",
    "colors = ['red', 'blue']\n",
    "\n",
    "fig = plt.figure(figsize=(20,20))\n",
    "\n",
    "for ax,column in enumerate(df.columns[:7]):\n",
    "    plt.subplot(2,4,ax+1)\n",
    "    plt.title(f'Distribution of {column} values')\n",
    "    for i, target in enumerate(target_value):\n",
    "        sns.histplot(x=target[column],label=target_list[i], color=colors[i])    \n",
    "    plt.legend(prop=dict(size=10))\n",
    "\n",
    "    \n",
    "plt.tight_layout()"
   ]
  },
  {
   "cell_type": "code",
   "execution_count": 12,
   "metadata": {},
   "outputs": [],
   "source": [
    "y_train = np.array(df[target_column]) # value dari label\n",
    "df = df.drop(target_column, axis=1) # drop target\n",
    "feature_list = list(df.columns) # list column\n",
    "X_train = np.array(df) # df dalam bentuk numpy array"
   ]
  },
  {
   "attachments": {},
   "cell_type": "markdown",
   "metadata": {},
   "source": [
    "### Normalization"
   ]
  },
  {
   "cell_type": "code",
   "execution_count": 13,
   "metadata": {},
   "outputs": [],
   "source": [
    "from sklearn.preprocessing import MinMaxScaler\n",
    "from sklearn.preprocessing import StandardScaler\n",
    "\n",
    "# scaler = MinMaxScaler()\n",
    "scaler = StandardScaler()\n",
    "X_train_norm = scaler.fit_transform(X_train)"
   ]
  },
  {
   "attachments": {},
   "cell_type": "markdown",
   "metadata": {},
   "source": [
    "## Split 8:2"
   ]
  },
  {
   "cell_type": "code",
   "execution_count": 14,
   "metadata": {},
   "outputs": [],
   "source": [
    "# Using Skicit-learn to split data into training and testing sets\n",
    "from sklearn.model_selection import train_test_split\n",
    "\n",
    "TEST_SIZE = 0.2\n",
    "RANDOM_SEED = 42\n",
    "\n",
    "# Split the data into training and testing sets\n",
    "X_train, X_test, y_train, y_test = train_test_split(X_train_norm, y_train, test_size = TEST_SIZE, random_state = RANDOM_SEED)"
   ]
  },
  {
   "cell_type": "code",
   "execution_count": 15,
   "metadata": {},
   "outputs": [
    {
     "data": {
      "text/html": [
       "<div>\n",
       "<style scoped>\n",
       "    .dataframe tbody tr th:only-of-type {\n",
       "        vertical-align: middle;\n",
       "    }\n",
       "\n",
       "    .dataframe tbody tr th {\n",
       "        vertical-align: top;\n",
       "    }\n",
       "\n",
       "    .dataframe thead th {\n",
       "        text-align: right;\n",
       "    }\n",
       "</style>\n",
       "<table border=\"1\" class=\"dataframe\">\n",
       "  <thead>\n",
       "    <tr style=\"text-align: right;\">\n",
       "      <th></th>\n",
       "      <th>0</th>\n",
       "      <th>1</th>\n",
       "      <th>2</th>\n",
       "      <th>3</th>\n",
       "      <th>4</th>\n",
       "      <th>5</th>\n",
       "      <th>6</th>\n",
       "    </tr>\n",
       "  </thead>\n",
       "  <tbody>\n",
       "    <tr>\n",
       "      <th>0</th>\n",
       "      <td>-0.433646</td>\n",
       "      <td>0.167169</td>\n",
       "      <td>0.198466</td>\n",
       "      <td>0.475765</td>\n",
       "      <td>-0.723851</td>\n",
       "      <td>-0.364586</td>\n",
       "      <td>2.933031</td>\n",
       "    </tr>\n",
       "    <tr>\n",
       "      <th>1</th>\n",
       "      <td>-1.069637</td>\n",
       "      <td>-0.492864</td>\n",
       "      <td>0.198466</td>\n",
       "      <td>0.986235</td>\n",
       "      <td>-0.797005</td>\n",
       "      <td>-0.468786</td>\n",
       "      <td>0.519184</td>\n",
       "    </tr>\n",
       "    <tr>\n",
       "      <th>2</th>\n",
       "      <td>-0.476045</td>\n",
       "      <td>-0.492864</td>\n",
       "      <td>-0.032896</td>\n",
       "      <td>-0.399326</td>\n",
       "      <td>0.080749</td>\n",
       "      <td>-0.468786</td>\n",
       "      <td>0.190023</td>\n",
       "    </tr>\n",
       "    <tr>\n",
       "      <th>3</th>\n",
       "      <td>-0.476045</td>\n",
       "      <td>-0.492864</td>\n",
       "      <td>0.198466</td>\n",
       "      <td>0.621614</td>\n",
       "      <td>-1.308847</td>\n",
       "      <td>-0.468786</td>\n",
       "      <td>-0.578020</td>\n",
       "    </tr>\n",
       "    <tr>\n",
       "      <th>4</th>\n",
       "      <td>-1.239235</td>\n",
       "      <td>0.992210</td>\n",
       "      <td>0.429829</td>\n",
       "      <td>0.038220</td>\n",
       "      <td>-0.068907</td>\n",
       "      <td>2.657230</td>\n",
       "      <td>0.146134</td>\n",
       "    </tr>\n",
       "    <tr>\n",
       "      <th>...</th>\n",
       "      <td>...</td>\n",
       "      <td>...</td>\n",
       "      <td>...</td>\n",
       "      <td>...</td>\n",
       "      <td>...</td>\n",
       "      <td>...</td>\n",
       "      <td>...</td>\n",
       "    </tr>\n",
       "    <tr>\n",
       "      <th>28771</th>\n",
       "      <td>-0.391246</td>\n",
       "      <td>-0.492864</td>\n",
       "      <td>-0.032896</td>\n",
       "      <td>-0.836871</td>\n",
       "      <td>-1.308847</td>\n",
       "      <td>-0.468786</td>\n",
       "      <td>-0.029418</td>\n",
       "    </tr>\n",
       "    <tr>\n",
       "      <th>28772</th>\n",
       "      <td>-1.112037</td>\n",
       "      <td>-0.492864</td>\n",
       "      <td>0.198466</td>\n",
       "      <td>-0.107629</td>\n",
       "      <td>-0.281208</td>\n",
       "      <td>-0.468786</td>\n",
       "      <td>0.146134</td>\n",
       "    </tr>\n",
       "    <tr>\n",
       "      <th>28773</th>\n",
       "      <td>-0.476045</td>\n",
       "      <td>0.167169</td>\n",
       "      <td>0.198466</td>\n",
       "      <td>-1.055644</td>\n",
       "      <td>-1.308847</td>\n",
       "      <td>-0.364586</td>\n",
       "      <td>0.936121</td>\n",
       "    </tr>\n",
       "    <tr>\n",
       "      <th>28774</th>\n",
       "      <td>-1.366434</td>\n",
       "      <td>0.167169</td>\n",
       "      <td>0.429829</td>\n",
       "      <td>1.788401</td>\n",
       "      <td>0.080749</td>\n",
       "      <td>-0.364586</td>\n",
       "      <td>-0.215943</td>\n",
       "    </tr>\n",
       "    <tr>\n",
       "      <th>28775</th>\n",
       "      <td>-0.433646</td>\n",
       "      <td>2.642291</td>\n",
       "      <td>0.429829</td>\n",
       "      <td>0.694538</td>\n",
       "      <td>1.470345</td>\n",
       "      <td>1.615225</td>\n",
       "      <td>-0.183026</td>\n",
       "    </tr>\n",
       "  </tbody>\n",
       "</table>\n",
       "<p>28776 rows × 7 columns</p>\n",
       "</div>"
      ],
      "text/plain": [
       "              0         1         2         3         4         5         6\n",
       "0     -0.433646  0.167169  0.198466  0.475765 -0.723851 -0.364586  2.933031\n",
       "1     -1.069637 -0.492864  0.198466  0.986235 -0.797005 -0.468786  0.519184\n",
       "2     -0.476045 -0.492864 -0.032896 -0.399326  0.080749 -0.468786  0.190023\n",
       "3     -0.476045 -0.492864  0.198466  0.621614 -1.308847 -0.468786 -0.578020\n",
       "4     -1.239235  0.992210  0.429829  0.038220 -0.068907  2.657230  0.146134\n",
       "...         ...       ...       ...       ...       ...       ...       ...\n",
       "28771 -0.391246 -0.492864 -0.032896 -0.836871 -1.308847 -0.468786 -0.029418\n",
       "28772 -1.112037 -0.492864  0.198466 -0.107629 -0.281208 -0.468786  0.146134\n",
       "28773 -0.476045  0.167169  0.198466 -1.055644 -1.308847 -0.364586  0.936121\n",
       "28774 -1.366434  0.167169  0.429829  1.788401  0.080749 -0.364586 -0.215943\n",
       "28775 -0.433646  2.642291  0.429829  0.694538  1.470345  1.615225 -0.183026\n",
       "\n",
       "[28776 rows x 7 columns]"
      ]
     },
     "execution_count": 15,
     "metadata": {},
     "output_type": "execute_result"
    }
   ],
   "source": [
    "train = pd.DataFrame(X_train)\n",
    "train"
   ]
  },
  {
   "cell_type": "code",
   "execution_count": 16,
   "metadata": {},
   "outputs": [
    {
     "data": {
      "text/html": [
       "<div>\n",
       "<style scoped>\n",
       "    .dataframe tbody tr th:only-of-type {\n",
       "        vertical-align: middle;\n",
       "    }\n",
       "\n",
       "    .dataframe tbody tr th {\n",
       "        vertical-align: top;\n",
       "    }\n",
       "\n",
       "    .dataframe thead th {\n",
       "        text-align: right;\n",
       "    }\n",
       "</style>\n",
       "<table border=\"1\" class=\"dataframe\">\n",
       "  <thead>\n",
       "    <tr style=\"text-align: right;\">\n",
       "      <th></th>\n",
       "      <th>0</th>\n",
       "      <th>1</th>\n",
       "      <th>2</th>\n",
       "      <th>3</th>\n",
       "      <th>4</th>\n",
       "      <th>5</th>\n",
       "      <th>6</th>\n",
       "    </tr>\n",
       "  </thead>\n",
       "  <tbody>\n",
       "    <tr>\n",
       "      <th>0</th>\n",
       "      <td>0.838337</td>\n",
       "      <td>-0.492864</td>\n",
       "      <td>0.429829</td>\n",
       "      <td>-0.691023</td>\n",
       "      <td>0.080749</td>\n",
       "      <td>-0.468786</td>\n",
       "      <td>-0.303719</td>\n",
       "    </tr>\n",
       "    <tr>\n",
       "      <th>1</th>\n",
       "      <td>-1.324034</td>\n",
       "      <td>-0.492864</td>\n",
       "      <td>0.198466</td>\n",
       "      <td>0.840386</td>\n",
       "      <td>-0.698796</td>\n",
       "      <td>-0.468786</td>\n",
       "      <td>0.277799</td>\n",
       "    </tr>\n",
       "    <tr>\n",
       "      <th>2</th>\n",
       "      <td>0.923136</td>\n",
       "      <td>-0.492864</td>\n",
       "      <td>0.429829</td>\n",
       "      <td>-0.836871</td>\n",
       "      <td>0.256589</td>\n",
       "      <td>-0.468786</td>\n",
       "      <td>-0.248859</td>\n",
       "    </tr>\n",
       "    <tr>\n",
       "      <th>3</th>\n",
       "      <td>2.025521</td>\n",
       "      <td>-0.492864</td>\n",
       "      <td>0.429829</td>\n",
       "      <td>-0.399326</td>\n",
       "      <td>0.080749</td>\n",
       "      <td>-0.468786</td>\n",
       "      <td>-0.139138</td>\n",
       "    </tr>\n",
       "    <tr>\n",
       "      <th>4</th>\n",
       "      <td>-0.348847</td>\n",
       "      <td>-0.492864</td>\n",
       "      <td>-0.726983</td>\n",
       "      <td>0.548689</td>\n",
       "      <td>1.470345</td>\n",
       "      <td>-0.468786</td>\n",
       "      <td>-0.117194</td>\n",
       "    </tr>\n",
       "    <tr>\n",
       "      <th>...</th>\n",
       "      <td>...</td>\n",
       "      <td>...</td>\n",
       "      <td>...</td>\n",
       "      <td>...</td>\n",
       "      <td>...</td>\n",
       "      <td>...</td>\n",
       "      <td>...</td>\n",
       "    </tr>\n",
       "    <tr>\n",
       "      <th>7189</th>\n",
       "      <td>0.880737</td>\n",
       "      <td>-0.492864</td>\n",
       "      <td>0.198466</td>\n",
       "      <td>0.402841</td>\n",
       "      <td>-0.122990</td>\n",
       "      <td>-0.468786</td>\n",
       "      <td>-0.029418</td>\n",
       "    </tr>\n",
       "    <tr>\n",
       "      <th>7190</th>\n",
       "      <td>1.389530</td>\n",
       "      <td>-0.492864</td>\n",
       "      <td>0.198466</td>\n",
       "      <td>0.184068</td>\n",
       "      <td>0.152523</td>\n",
       "      <td>-0.468786</td>\n",
       "      <td>0.277799</td>\n",
       "    </tr>\n",
       "    <tr>\n",
       "      <th>7191</th>\n",
       "      <td>-1.196836</td>\n",
       "      <td>0.167169</td>\n",
       "      <td>0.429829</td>\n",
       "      <td>-0.691023</td>\n",
       "      <td>0.080749</td>\n",
       "      <td>-0.364586</td>\n",
       "      <td>-0.468299</td>\n",
       "    </tr>\n",
       "    <tr>\n",
       "      <th>7192</th>\n",
       "      <td>1.601527</td>\n",
       "      <td>0.332177</td>\n",
       "      <td>-2.346519</td>\n",
       "      <td>-0.909795</td>\n",
       "      <td>0.548510</td>\n",
       "      <td>0.573219</td>\n",
       "      <td>-0.578020</td>\n",
       "    </tr>\n",
       "    <tr>\n",
       "      <th>7193</th>\n",
       "      <td>0.329544</td>\n",
       "      <td>-0.492864</td>\n",
       "      <td>0.198466</td>\n",
       "      <td>-0.180553</td>\n",
       "      <td>-0.538659</td>\n",
       "      <td>-0.468786</td>\n",
       "      <td>-0.029418</td>\n",
       "    </tr>\n",
       "  </tbody>\n",
       "</table>\n",
       "<p>7194 rows × 7 columns</p>\n",
       "</div>"
      ],
      "text/plain": [
       "             0         1         2         3         4         5         6\n",
       "0     0.838337 -0.492864  0.429829 -0.691023  0.080749 -0.468786 -0.303719\n",
       "1    -1.324034 -0.492864  0.198466  0.840386 -0.698796 -0.468786  0.277799\n",
       "2     0.923136 -0.492864  0.429829 -0.836871  0.256589 -0.468786 -0.248859\n",
       "3     2.025521 -0.492864  0.429829 -0.399326  0.080749 -0.468786 -0.139138\n",
       "4    -0.348847 -0.492864 -0.726983  0.548689  1.470345 -0.468786 -0.117194\n",
       "...        ...       ...       ...       ...       ...       ...       ...\n",
       "7189  0.880737 -0.492864  0.198466  0.402841 -0.122990 -0.468786 -0.029418\n",
       "7190  1.389530 -0.492864  0.198466  0.184068  0.152523 -0.468786  0.277799\n",
       "7191 -1.196836  0.167169  0.429829 -0.691023  0.080749 -0.364586 -0.468299\n",
       "7192  1.601527  0.332177 -2.346519 -0.909795  0.548510  0.573219 -0.578020\n",
       "7193  0.329544 -0.492864  0.198466 -0.180553 -0.538659 -0.468786 -0.029418\n",
       "\n",
       "[7194 rows x 7 columns]"
      ]
     },
     "execution_count": 16,
     "metadata": {},
     "output_type": "execute_result"
    }
   ],
   "source": [
    "test = pd.DataFrame(X_test)\n",
    "test"
   ]
  },
  {
   "cell_type": "code",
   "execution_count": 17,
   "metadata": {},
   "outputs": [
    {
     "name": "stdout",
     "output_type": "stream",
     "text": [
      "Fitting 5 folds for each of 18 candidates, totalling 90 fits\n",
      "[CV 1/5] END ........C=0.1, gamma=1, kernel=rbf;, score=0.904 total time=  15.4s\n",
      "[CV 2/5] END ........C=0.1, gamma=1, kernel=rbf;, score=0.904 total time=  12.7s\n",
      "[CV 3/5] END ........C=0.1, gamma=1, kernel=rbf;, score=0.902 total time=  15.5s\n",
      "[CV 4/5] END ........C=0.1, gamma=1, kernel=rbf;, score=0.904 total time=  15.8s\n",
      "[CV 5/5] END ........C=0.1, gamma=1, kernel=rbf;, score=0.902 total time=  14.8s\n"
     ]
    }
   ],
   "source": [
    "from sklearn.model_selection import GridSearchCV\n",
    "from sklearn.svm import SVC  \n",
    "\n",
    "model = SVC(class_weight='balanced')\n",
    "\n",
    "# defining parameter range\n",
    "param_grid = {'C': [0.1, 1], \n",
    "              'gamma': [1, 0.1, 0.01],\n",
    "              'kernel': ['rbf','poly','linear']} \n",
    "# param_grid = {'C': [0.009], \n",
    "#               'gamma': [1.2],\n",
    "#               'kernel': ['sigmoid']} \n",
    "\n",
    "# best: {'C': 0.1, 'gamma': 1, 'kernel': 'rbf'}\n",
    "\n",
    "grid = GridSearchCV(SVC(), param_grid, refit = True, verbose = 3, cv=5)\n",
    "  \n",
    "# fitting the model for grid search\n",
    "grid.fit(X_train, y_train)\n",
    "# print best parameter after tuning\n",
    "print(grid.best_params_)\n",
    "  \n",
    "# print how our model looks after hyper-parameter tuning\n",
    "print(grid.best_estimator_)"
   ]
  },
  {
   "cell_type": "code",
   "execution_count": null,
   "metadata": {},
   "outputs": [
    {
     "name": "stdout",
     "output_type": "stream",
     "text": [
      "              precision    recall  f1-score   support\n",
      "\n",
      "           0       1.00      1.00      1.00        50\n",
      "           1       1.00      1.00      1.00        34\n",
      "\n",
      "    accuracy                           1.00        84\n",
      "   macro avg       1.00      1.00      1.00        84\n",
      "weighted avg       1.00      1.00      1.00        84\n",
      "\n"
     ]
    }
   ],
   "source": [
    "from sklearn.metrics import classification_report\n",
    "\n",
    "model = SVC(C=0.1, gamma=1, kernel='poly')\n",
    "model.fit(X_train,y_train)\n",
    "\n",
    "predictions = model.predict(X_test)\n",
    "print(classification_report(y_test,predictions))"
   ]
  },
  {
   "cell_type": "code",
   "execution_count": null,
   "metadata": {},
   "outputs": [],
   "source": [
    "df_test = pd.read_csv(\"datasets/test.csv\")\n",
    "df_imp_test = df_test.iloc[:, [0,2,11,16,22,36,37]]\n",
    "X_test_real = np.array(df_imp_test)\n",
    "X_test_real = scaler.fit_transform(X_test_real)"
   ]
  },
  {
   "cell_type": "code",
   "execution_count": null,
   "metadata": {},
   "outputs": [],
   "source": [
    "predictions = model.predict(X_test)\n",
    "print(classification_report(y_test,predictions))"
   ]
  },
  {
   "attachments": {},
   "cell_type": "markdown",
   "metadata": {},
   "source": [
    "## Cross Validation"
   ]
  },
  {
   "cell_type": "code",
   "execution_count": null,
   "metadata": {},
   "outputs": [],
   "source": [
    "# from numpy import mean\n",
    "# from numpy import std\n",
    "# from sklearn.model_selection import cross_val_score\n",
    "# from sklearn.model_selection import RepeatedStratifiedKFold"
   ]
  },
  {
   "cell_type": "code",
   "execution_count": null,
   "metadata": {},
   "outputs": [],
   "source": [
    "# FOLD = 15\n",
    "# ITERATIONS = 5"
   ]
  },
  {
   "cell_type": "code",
   "execution_count": null,
   "metadata": {},
   "outputs": [
    {
     "name": "stdout",
     "output_type": "stream",
     "text": [
      "Accuracy: 1.000 (0.000)\n"
     ]
    }
   ],
   "source": [
    "# # param_grid = {'C': [0.009], \n",
    "#             #   'gamma': [1.2],\n",
    "#             #   'kernel': ['rbf']}\n",
    "\n",
    "# model = SVC(C=0.1, gamma=1, kernel='poly')\n",
    "# # cv = RepeatedStratifiedKFold(n_splits=FOLD, n_repeats=ITERATIONS, random_state=RANDOM_SEED)\n",
    "# n_scores = cross_val_score(model, X_train, y_train, scoring='f1_macro', cv=FOLD, n_jobs=-1, error_score='raise')\n",
    "# print('Accuracy: %.3f (%.3f)' % (mean(n_scores), std(n_scores)))"
   ]
  }
 ],
 "metadata": {
  "kernelspec": {
   "display_name": "Python 3",
   "language": "python",
   "name": "python3"
  },
  "language_info": {
   "codemirror_mode": {
    "name": "ipython",
    "version": 3
   },
   "file_extension": ".py",
   "mimetype": "text/x-python",
   "name": "python",
   "nbconvert_exporter": "python",
   "pygments_lexer": "ipython3",
   "version": "3.10.4"
  },
  "orig_nbformat": 4
 },
 "nbformat": 4,
 "nbformat_minor": 2
}
